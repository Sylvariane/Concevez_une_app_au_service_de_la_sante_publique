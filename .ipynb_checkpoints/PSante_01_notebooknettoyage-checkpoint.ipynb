{
 "cells": [
  {
   "cell_type": "markdown",
   "id": "9c2caaaa-250c-4aa3-bac4-ee08cda451f2",
   "metadata": {},
   "source": [
    "# Nettoyage du jeu de données \"Open Facts Food\""
   ]
  },
  {
   "cell_type": "code",
   "execution_count": 1,
   "id": "64b87de5-ac56-4112-b1cf-023a2f60695a",
   "metadata": {},
   "outputs": [],
   "source": [
    "# importation des librairies nécessaires\n",
    "\n",
    "import numpy as np\n",
    "import pandas as pd\n",
    "import dask.dataframe as dd\n",
    "import matplotlib.pyplot as plt\n",
    "import seaborn as sns\n",
    "import missingno as msno"
   ]
  },
  {
   "cell_type": "code",
   "execution_count": 2,
   "id": "300b91b3-c80a-4a62-ad52-c549a6806f15",
   "metadata": {},
   "outputs": [],
   "source": [
    "# importation du jeu de données\n",
    "filename = \"openfoodfacts_data.csv\"\n",
    "df = dd.read_csv(filename, dtype='object', sep='\\t')"
   ]
  },
  {
   "cell_type": "code",
   "execution_count": 3,
   "id": "815497fd-1663-44bf-8c76-1771decf2c94",
   "metadata": {},
   "outputs": [
    {
     "name": "stdout",
     "output_type": "stream",
     "text": [
      "['code', 'url', 'creator', 'created_t', 'created_datetime', 'last_modified_t', 'last_modified_datetime', 'product_name', 'abbreviated_product_name', 'generic_name', 'quantity', 'packaging', 'packaging_tags', 'packaging_text', 'brands', 'brands_tags', 'categories', 'categories_tags', 'categories_en', 'origins', 'origins_tags', 'origins_en', 'manufacturing_places', 'manufacturing_places_tags', 'labels', 'labels_tags', 'labels_en', 'emb_codes', 'emb_codes_tags', 'first_packaging_code_geo', 'cities', 'cities_tags', 'purchase_places', 'stores', 'countries', 'countries_tags', 'countries_en', 'ingredients_text', 'allergens', 'allergens_en', 'traces', 'traces_tags', 'traces_en', 'serving_size', 'serving_quantity', 'no_nutriments', 'additives_n', 'additives', 'additives_tags', 'additives_en', 'ingredients_from_palm_oil_n', 'ingredients_from_palm_oil', 'ingredients_from_palm_oil_tags', 'ingredients_that_may_be_from_palm_oil_n', 'ingredients_that_may_be_from_palm_oil', 'ingredients_that_may_be_from_palm_oil_tags', 'nutriscore_score', 'nutriscore_grade', 'nova_group', 'pnns_groups_1', 'pnns_groups_2', 'states', 'states_tags', 'states_en', 'brand_owner', 'ecoscore_score_fr', 'ecoscore_grade_fr', 'main_category', 'main_category_en', 'image_url', 'image_small_url', 'image_ingredients_url', 'image_ingredients_small_url', 'image_nutrition_url', 'image_nutrition_small_url', 'energy-kj_100g', 'energy-kcal_100g', 'energy_100g', 'energy-from-fat_100g', 'fat_100g', 'saturated-fat_100g', '-butyric-acid_100g', '-caproic-acid_100g', '-caprylic-acid_100g', '-capric-acid_100g', '-lauric-acid_100g', '-myristic-acid_100g', '-palmitic-acid_100g', '-stearic-acid_100g', '-arachidic-acid_100g', '-behenic-acid_100g', '-lignoceric-acid_100g', '-cerotic-acid_100g', '-montanic-acid_100g', '-melissic-acid_100g', 'monounsaturated-fat_100g', 'polyunsaturated-fat_100g', 'omega-3-fat_100g', '-alpha-linolenic-acid_100g', '-eicosapentaenoic-acid_100g', '-docosahexaenoic-acid_100g', 'omega-6-fat_100g', '-linoleic-acid_100g', '-arachidonic-acid_100g', '-gamma-linolenic-acid_100g', '-dihomo-gamma-linolenic-acid_100g', 'omega-9-fat_100g', '-oleic-acid_100g', '-elaidic-acid_100g', '-gondoic-acid_100g', '-mead-acid_100g', '-erucic-acid_100g', '-nervonic-acid_100g', 'trans-fat_100g', 'cholesterol_100g', 'carbohydrates_100g', 'sugars_100g', '-sucrose_100g', '-glucose_100g', '-fructose_100g', '-lactose_100g', '-maltose_100g', '-maltodextrins_100g', 'starch_100g', 'polyols_100g', 'fiber_100g', '-soluble-fiber_100g', '-insoluble-fiber_100g', 'proteins_100g', 'casein_100g', 'serum-proteins_100g', 'nucleotides_100g', 'salt_100g', 'sodium_100g', 'alcohol_100g', 'vitamin-a_100g', 'beta-carotene_100g', 'vitamin-d_100g', 'vitamin-e_100g', 'vitamin-k_100g', 'vitamin-c_100g', 'vitamin-b1_100g', 'vitamin-b2_100g', 'vitamin-pp_100g', 'vitamin-b6_100g', 'vitamin-b9_100g', 'folates_100g', 'vitamin-b12_100g', 'biotin_100g', 'pantothenic-acid_100g', 'silica_100g', 'bicarbonate_100g', 'potassium_100g', 'chloride_100g', 'calcium_100g', 'phosphorus_100g', 'iron_100g', 'magnesium_100g', 'zinc_100g', 'copper_100g', 'manganese_100g', 'fluoride_100g', 'selenium_100g', 'chromium_100g', 'molybdenum_100g', 'iodine_100g', 'caffeine_100g', 'taurine_100g', 'ph_100g', 'fruits-vegetables-nuts_100g', 'fruits-vegetables-nuts-dried_100g', 'fruits-vegetables-nuts-estimate_100g', 'collagen-meat-protein-ratio_100g', 'cocoa_100g', 'chlorophyl_100g', 'carbon-footprint_100g', 'carbon-footprint-from-meat-or-fish_100g', 'nutrition-score-fr_100g', 'nutrition-score-uk_100g', 'glycemic-index_100g', 'water-hardness_100g', 'choline_100g', 'phylloquinone_100g', 'beta-glucan_100g', 'inositol_100g', 'carnitine_100g']\n"
     ]
    }
   ],
   "source": [
    "# affichage des noms des colonnes\n",
    "cols = []\n",
    "\n",
    "for col_name in df.columns:\n",
    "    cols.append(col_name)\n",
    "print(cols)"
   ]
  },
  {
   "cell_type": "code",
   "execution_count": 4,
   "id": "947c840b-9d1f-4412-86e8-502325583d6f",
   "metadata": {},
   "outputs": [],
   "source": [
    "# Première sélection des colonnes à supprimer à l'aide de la documentation 'metadata_openfoodfacts'\n",
    "supp = ['url', 'creator', 'created_t', 'created_datetime', 'last_modified_t', \n",
    "        'last_modified_datetime','abbreviated_product_name', 'quantity', \n",
    "        'packaging', 'packaging_tags', 'packaging_text', 'brands_tags', 'categories', \n",
    "        'categories_tags', 'categories_en', 'origins', 'origins_tags', 'origins_en', 'manufacturing_places', \n",
    "        'manufacturing_places_tags', 'labels', 'labels_tags', 'labels_en', 'emb_codes', 'emb_codes_tags', \n",
    "        'first_packaging_code_geo', 'cities', 'cities_tags', 'purchase_places', 'stores', 'countries', \n",
    "        'countries_tags', 'countries_en', 'ingredients_text', 'allergens_en', 'traces_tags', 'traces_en', \n",
    "        'serving_size', 'serving_quantity', 'no_nutriments', 'additives_n', 'ingredients_from_palm_oil_n', \n",
    "        'ingredients_from_palm_oil', 'ingredients_from_palm_oil_tags', 'ingredients_that_may_be_from_palm_oil_n', \n",
    "        'ingredients_that_may_be_from_palm_oil', 'ingredients_that_may_be_from_palm_oil_tags', \n",
    "        'nutriscore_grade', 'nova_group', 'pnns_groups_1', 'pnns_groups_2', 'states', \n",
    "        'states_tags', 'states_en', 'brand_owner', 'ecoscore_grade_fr', 'main_category', 'main_category_en', 'image_url', 'image_small_url', \n",
    "        'image_ingredients_url', 'image_ingredients_small_url', 'image_nutrition_url', 'image_nutrition_small_url', 'energy-kj_100g', \n",
    "        'energy_100g', 'energy-from-fat_100g', '-butyric-acid_100g', '-caproic-acid_100g', '-caprylic-acid_100g', '-capric-acid_100g', '-lauric-acid_100g', '-myristic-acid_100g', \n",
    "        '-palmitic-acid_100g', '-stearic-acid_100g', '-arachidic-acid_100g', '-behenic-acid_100g', '-lignoceric-acid_100g', '-cerotic-acid_100g', '-montanic-acid_100g', '-melissic-acid_100g', \n",
    "        'monounsaturated-fat_100g', 'polyunsaturated-fat_100g', '-alpha-linolenic-acid_100g', '-eicosapentaenoic-acid_100g', '-docosahexaenoic-acid_100g',\n",
    "        '-linoleic-acid_100g', '-arachidonic-acid_100g', '-gamma-linolenic-acid_100g', '-dihomo-gamma-linolenic-acid_100g',\n",
    "        '-oleic-acid_100g', '-elaidic-acid_100g', '-gondoic-acid_100g', '-mead-acid_100g', '-erucic-acid_100g', '-nervonic-acid_100g', 'trans-fat_100g', \n",
    "        '-sucrose_100g', '-glucose_100g', '-fructose_100g', '-lactose_100g', '-maltose_100g', '-maltodextrins_100g', 'starch_100g', 'polyols_100g', \n",
    "        '-soluble-fiber_100g', '-insoluble-fiber_100g', 'casein_100g', 'serum-proteins_100g', 'nucleotides_100g',\n",
    "        'alcohol_100g', 'biotin_100g', \n",
    "        'pantothenic-acid_100g', 'silica_100g', 'bicarbonate_100g', 'potassium_100g', 'chloride_100g', \n",
    "        'calcium_100g', 'phosphorus_100g', 'iron_100g', 'magnesium_100g', 'zinc_100g', 'copper_100g', \n",
    "        'manganese_100g', 'fluoride_100g', 'selenium_100g', 'chromium_100g', 'molybdenum_100g', 'iodine_100g', \n",
    "        'caffeine_100g', 'taurine_100g', 'ph_100g', 'fruits-vegetables-nuts_100g', 'fruits-vegetables-nuts-dried_100g', \n",
    "        'fruits-vegetables-nuts-estimate_100g', 'collagen-meat-protein-ratio_100g', 'cocoa_100g', 'chlorophyl_100g',\n",
    "        'carbon-footprint-from-meat-or-fish_100g', 'nutrition-score-uk_100g','water-hardness_100g', 'choline_100g', 'phylloquinone_100g', \n",
    "        'beta-glucan_100g', 'inositol_100g', 'carnitine_100g'\n",
    "       ]"
   ]
  },
  {
   "cell_type": "code",
   "execution_count": 5,
   "id": "7cd4f0c0-c9de-4b48-bcd3-9b1a9c1ddad5",
   "metadata": {},
   "outputs": [],
   "source": [
    "# Suppression des colonnes présents dans la liste supp\n",
    "df = df.drop(supp, axis = 1)"
   ]
  },
  {
   "cell_type": "code",
   "execution_count": 6,
   "id": "dbe9cd81-9daa-4ad7-b4f5-7b2ed4c4b47d",
   "metadata": {},
   "outputs": [],
   "source": [
    "# Transformation du dataframe Dask en dataframe Pandas\n",
    "df = df.compute()"
   ]
  },
  {
   "cell_type": "markdown",
   "id": "47017df8-8779-43e4-bcc6-62487d44b53f",
   "metadata": {},
   "source": [
    "## Traitement des valeurs manquantes"
   ]
  },
  {
   "cell_type": "code",
   "execution_count": 7,
   "id": "2df58adb-03e0-4064-b588-e55f5c1cd17a",
   "metadata": {},
   "outputs": [
    {
     "data": {
      "text/plain": [
       "<AxesSubplot:>"
      ]
     },
     "execution_count": 7,
     "metadata": {},
     "output_type": "execute_result"
    },
    {
     "data": {
      "image/png": "[encoded data removed]",
      "text/plain": [
       "<Figure size 1800x720 with 2 Axes>"
      ]
     },
     "metadata": {
      "needs_background": "light"
     },
     "output_type": "display_data"
    }
   ],
   "source": [
    "%matplotlib inline\n",
    "msno.matrix(df)"
   ]
  },
  {
   "cell_type": "code",
   "execution_count": 8,
   "id": "2fa5d5b5-ffcd-4c87-9641-f61659eb3bad",
   "metadata": {},
   "outputs": [
    {
     "data": {
      "text/plain": [
       "code                        0.000000\n",
       "product_name                4.293625\n",
       "generic_name               93.570536\n",
       "brands                     48.288157\n",
       "allergens                  89.897414\n",
       "traces                     94.704104\n",
       "additives                  99.999782\n",
       "additives_tags             77.936158\n",
       "additives_en               77.936158\n",
       "nutriscore_score           63.074652\n",
       "ecoscore_score_fr          75.845030\n",
       "energy-kcal_100g           23.527751\n",
       "fat_100g                   21.084390\n",
       "saturated-fat_100g         23.464260\n",
       "omega-3-fat_100g           99.890268\n",
       "omega-6-fat_100g           99.971066\n",
       "omega-9-fat_100g           99.994704\n",
       "cholesterol_100g           85.347039\n",
       "carbohydrates_100g         21.109230\n",
       "sugars_100g                22.034471\n",
       "fiber_100g                 74.047886\n",
       "proteins_100g              21.024011\n",
       "salt_100g                  24.333106\n",
       "sodium_100g                24.333325\n",
       "vitamin-a_100g             88.408119\n",
       "beta-carotene_100g         99.995523\n",
       "vitamin-d_100g             99.466736\n",
       "vitamin-e_100g             99.809907\n",
       "vitamin-k_100g             99.933615\n",
       "vitamin-c_100g             87.987262\n",
       "vitamin-b1_100g            98.710788\n",
       "vitamin-b2_100g            98.761614\n",
       "vitamin-pp_100g            98.703254\n",
       "vitamin-b6_100g            99.126186\n",
       "vitamin-b9_100g            99.440259\n",
       "folates_100g               99.537925\n",
       "vitamin-b12_100g           99.302575\n",
       "carbon-footprint_100g      99.974287\n",
       "nutrition-score-fr_100g    63.074434\n",
       "glycemic-index_100g        99.999782\n",
       "dtype: float64"
      ]
     },
     "execution_count": 8,
     "metadata": {},
     "output_type": "execute_result"
    }
   ],
   "source": [
    "# Affichage du pourcentage de donneés manquantes\n",
    "df.isnull().mean() * 100"
   ]
  },
  {
   "cell_type": "markdown",
   "id": "7e2452b5-742b-4ab7-99b3-8e3bf885f37e",
   "metadata": {},
   "source": [
    "Toutes les variables où on observe un pourcentage supérieur à 70% sont supprimées du jeu de données. "
   ]
  },
  {
   "cell_type": "code",
   "execution_count": 9,
   "id": "ca9fe320-5a9b-4afd-b6ee-584d58f83021",
   "metadata": {},
   "outputs": [],
   "source": [
    "# création d'une liste avec le nom des variables à enlever\n",
    "supp2 = ['generic_name', 'allergens', 'traces', 'additives', 'additives_tags', 'additives_en', \n",
    "         'ecoscore_score_fr', 'omega-3-fat_100g', 'omega-6-fat_100g', 'omega-9-fat_100g', 'cholesterol_100g',\n",
    "         'fiber_100g', 'vitamin-a_100g', 'beta-carotene_100g', 'vitamin-d_100g', 'vitamin-e_100g', 'vitamin-k_100g',\n",
    "         'vitamin-c_100g', 'vitamin-b1_100g', 'vitamin-b2_100g', 'vitamin-pp_100g', 'vitamin-b6_100g', 'vitamin-b9_100g',\n",
    "         'folates_100g', 'vitamin-b12_100g','carbon-footprint_100g'\n",
    "]"
   ]
  },
  {
   "cell_type": "code",
   "execution_count": 10,
   "id": "5895b62a-d6da-4a2d-a5c4-dea7db9e27a2",
   "metadata": {},
   "outputs": [],
   "source": [
    "# suppression dans le dataset\n",
    "df = df.drop(supp2, axis = 1)"
   ]
  },
  {
   "cell_type": "code",
   "execution_count": 11,
   "id": "7d69f251-d12b-4453-98fc-d0754bacda1e",
   "metadata": {},
   "outputs": [
    {
     "data": {
      "text/html": [
       "<div>\n",
       "<style scoped>\n",
       "    .dataframe tbody tr th:only-of-type {\n",
       "        vertical-align: middle;\n",
       "    }\n",
       "\n",
       "    .dataframe tbody tr th {\n",
       "        vertical-align: top;\n",
       "    }\n",
       "\n",
       "    .dataframe thead th {\n",
       "        text-align: right;\n",
       "    }\n",
       "</style>\n",
       "<table border=\"1\" class=\"dataframe\">\n",
       "  <thead>\n",
       "    <tr style=\"text-align: right;\">\n",
       "      <th></th>\n",
       "      <th>code</th>\n",
       "      <th>product_name</th>\n",
       "      <th>brands</th>\n",
       "      <th>nutriscore_score</th>\n",
       "      <th>energy-kcal_100g</th>\n",
       "      <th>fat_100g</th>\n",
       "      <th>saturated-fat_100g</th>\n",
       "      <th>carbohydrates_100g</th>\n",
       "      <th>sugars_100g</th>\n",
       "      <th>proteins_100g</th>\n",
       "      <th>salt_100g</th>\n",
       "      <th>sodium_100g</th>\n",
       "      <th>nutrition-score-fr_100g</th>\n",
       "      <th>glycemic-index_100g</th>\n",
       "    </tr>\n",
       "  </thead>\n",
       "  <tbody>\n",
       "    <tr>\n",
       "      <th>0</th>\n",
       "      <td>00000000000000225</td>\n",
       "      <td>jeunes pousses</td>\n",
       "      <td>endives</td>\n",
       "      <td>NaN</td>\n",
       "      <td>NaN</td>\n",
       "      <td>NaN</td>\n",
       "      <td>NaN</td>\n",
       "      <td>NaN</td>\n",
       "      <td>NaN</td>\n",
       "      <td>NaN</td>\n",
       "      <td>NaN</td>\n",
       "      <td>NaN</td>\n",
       "      <td>NaN</td>\n",
       "      <td>NaN</td>\n",
       "    </tr>\n",
       "    <tr>\n",
       "      <th>1</th>\n",
       "      <td>0000000000017</td>\n",
       "      <td>Vitória crackers</td>\n",
       "      <td>NaN</td>\n",
       "      <td>NaN</td>\n",
       "      <td>375</td>\n",
       "      <td>7</td>\n",
       "      <td>3.08</td>\n",
       "      <td>70.1</td>\n",
       "      <td>15</td>\n",
       "      <td>7.8</td>\n",
       "      <td>1.4</td>\n",
       "      <td>0.56</td>\n",
       "      <td>NaN</td>\n",
       "      <td>NaN</td>\n",
       "    </tr>\n",
       "    <tr>\n",
       "      <th>2</th>\n",
       "      <td>0000000000031</td>\n",
       "      <td>Cacao</td>\n",
       "      <td>NaN</td>\n",
       "      <td>NaN</td>\n",
       "      <td>NaN</td>\n",
       "      <td>NaN</td>\n",
       "      <td>NaN</td>\n",
       "      <td>NaN</td>\n",
       "      <td>NaN</td>\n",
       "      <td>NaN</td>\n",
       "      <td>NaN</td>\n",
       "      <td>NaN</td>\n",
       "      <td>NaN</td>\n",
       "      <td>NaN</td>\n",
       "    </tr>\n",
       "    <tr>\n",
       "      <th>3</th>\n",
       "      <td>000000000003327986</td>\n",
       "      <td>Filetes de pollo empanado</td>\n",
       "      <td>NaN</td>\n",
       "      <td>NaN</td>\n",
       "      <td>NaN</td>\n",
       "      <td>NaN</td>\n",
       "      <td>NaN</td>\n",
       "      <td>NaN</td>\n",
       "      <td>NaN</td>\n",
       "      <td>NaN</td>\n",
       "      <td>NaN</td>\n",
       "      <td>NaN</td>\n",
       "      <td>NaN</td>\n",
       "      <td>NaN</td>\n",
       "    </tr>\n",
       "    <tr>\n",
       "      <th>4</th>\n",
       "      <td>000000000004622327</td>\n",
       "      <td>Hamburguesas de ternera 100%</td>\n",
       "      <td>NaN</td>\n",
       "      <td>NaN</td>\n",
       "      <td>874.9</td>\n",
       "      <td>15.1</td>\n",
       "      <td>6.1</td>\n",
       "      <td>2.6</td>\n",
       "      <td>1</td>\n",
       "      <td>15.7</td>\n",
       "      <td>2.1</td>\n",
       "      <td>0.84</td>\n",
       "      <td>NaN</td>\n",
       "      <td>NaN</td>\n",
       "    </tr>\n",
       "  </tbody>\n",
       "</table>\n",
       "</div>"
      ],
      "text/plain": [
       "                 code                  product_name   brands nutriscore_score  \\\n",
       "0   00000000000000225                jeunes pousses  endives              NaN   \n",
       "1       0000000000017              Vitória crackers      NaN              NaN   \n",
       "2       0000000000031                         Cacao      NaN              NaN   \n",
       "3  000000000003327986     Filetes de pollo empanado      NaN              NaN   \n",
       "4  000000000004622327  Hamburguesas de ternera 100%      NaN              NaN   \n",
       "\n",
       "  energy-kcal_100g fat_100g saturated-fat_100g carbohydrates_100g sugars_100g  \\\n",
       "0              NaN      NaN                NaN                NaN         NaN   \n",
       "1              375        7               3.08               70.1          15   \n",
       "2              NaN      NaN                NaN                NaN         NaN   \n",
       "3              NaN      NaN                NaN                NaN         NaN   \n",
       "4            874.9     15.1                6.1                2.6           1   \n",
       "\n",
       "  proteins_100g salt_100g sodium_100g nutrition-score-fr_100g  \\\n",
       "0           NaN       NaN         NaN                     NaN   \n",
       "1           7.8       1.4        0.56                     NaN   \n",
       "2           NaN       NaN         NaN                     NaN   \n",
       "3           NaN       NaN         NaN                     NaN   \n",
       "4          15.7       2.1        0.84                     NaN   \n",
       "\n",
       "  glycemic-index_100g  \n",
       "0                 NaN  \n",
       "1                 NaN  \n",
       "2                 NaN  \n",
       "3                 NaN  \n",
       "4                 NaN  "
      ]
     },
     "execution_count": 11,
     "metadata": {},
     "output_type": "execute_result"
    }
   ],
   "source": [
    "df.head()"
   ]
  },
  {
   "cell_type": "code",
   "execution_count": 12,
   "id": "a975e3c0-8fd4-4ab5-bfa6-810e5f970746",
   "metadata": {},
   "outputs": [
    {
     "name": "stdout",
     "output_type": "stream",
     "text": [
      "<class 'pandas.core.frame.DataFrame'>\n",
      "Int64Index: 1831739 entries, 0 to 8915\n",
      "Data columns (total 14 columns):\n",
      " #   Column                   Dtype \n",
      "---  ------                   ----- \n",
      " 0   code                     object\n",
      " 1   product_name             object\n",
      " 2   brands                   object\n",
      " 3   nutriscore_score         object\n",
      " 4   energy-kcal_100g         object\n",
      " 5   fat_100g                 object\n",
      " 6   saturated-fat_100g       object\n",
      " 7   carbohydrates_100g       object\n",
      " 8   sugars_100g              object\n",
      " 9   proteins_100g            object\n",
      " 10  salt_100g                object\n",
      " 11  sodium_100g              object\n",
      " 12  nutrition-score-fr_100g  object\n",
      " 13  glycemic-index_100g      object\n",
      "dtypes: object(14)\n",
      "memory usage: 209.6+ MB\n"
     ]
    }
   ],
   "source": [
    "df.info()"
   ]
  },
  {
   "cell_type": "code",
   "execution_count": 13,
   "id": "95e61c70-f5c7-41b3-a1dd-ba2785df4a67",
   "metadata": {},
   "outputs": [],
   "source": [
    "# modification des types du dataset en float quand cela est nécessaire\n",
    "for col in df.columns:\n",
    "    if df[col].dtype == object:\n",
    "        df[col] = pd.to_numeric(df[col].str.replace(',', '.'), errors='ignore')"
   ]
  },
  {
   "cell_type": "code",
   "execution_count": 14,
   "id": "af6e580f-f928-40f1-8d5e-ab2f37db2cc5",
   "metadata": {},
   "outputs": [
    {
     "name": "stdout",
     "output_type": "stream",
     "text": [
      "<class 'pandas.core.frame.DataFrame'>\n",
      "Int64Index: 1831739 entries, 0 to 8915\n",
      "Data columns (total 14 columns):\n",
      " #   Column                   Dtype  \n",
      "---  ------                   -----  \n",
      " 0   code                     object \n",
      " 1   product_name             object \n",
      " 2   brands                   object \n",
      " 3   nutriscore_score         float64\n",
      " 4   energy-kcal_100g         float64\n",
      " 5   fat_100g                 float64\n",
      " 6   saturated-fat_100g       float64\n",
      " 7   carbohydrates_100g       float64\n",
      " 8   sugars_100g              float64\n",
      " 9   proteins_100g            float64\n",
      " 10  salt_100g                float64\n",
      " 11  sodium_100g              float64\n",
      " 12  nutrition-score-fr_100g  float64\n",
      " 13  glycemic-index_100g      float64\n",
      "dtypes: float64(11), object(3)\n",
      "memory usage: 209.6+ MB\n"
     ]
    }
   ],
   "source": [
    "df.info()"
   ]
  },
  {
   "cell_type": "code",
   "execution_count": 15,
   "id": "c89c4da0-37cb-41aa-92f6-3361a32aca9d",
   "metadata": {},
   "outputs": [
    {
     "data": {
      "text/html": [
       "<div>\n",
       "<style scoped>\n",
       "    .dataframe tbody tr th:only-of-type {\n",
       "        vertical-align: middle;\n",
       "    }\n",
       "\n",
       "    .dataframe tbody tr th {\n",
       "        vertical-align: top;\n",
       "    }\n",
       "\n",
       "    .dataframe thead th {\n",
       "        text-align: right;\n",
       "    }\n",
       "</style>\n",
       "<table border=\"1\" class=\"dataframe\">\n",
       "  <thead>\n",
       "    <tr style=\"text-align: right;\">\n",
       "      <th></th>\n",
       "      <th>nutriscore_score</th>\n",
       "      <th>energy-kcal_100g</th>\n",
       "      <th>fat_100g</th>\n",
       "      <th>saturated-fat_100g</th>\n",
       "      <th>carbohydrates_100g</th>\n",
       "      <th>sugars_100g</th>\n",
       "      <th>proteins_100g</th>\n",
       "      <th>salt_100g</th>\n",
       "      <th>sodium_100g</th>\n",
       "      <th>nutrition-score-fr_100g</th>\n",
       "      <th>glycemic-index_100g</th>\n",
       "    </tr>\n",
       "  </thead>\n",
       "  <tbody>\n",
       "    <tr>\n",
       "      <th>count</th>\n",
       "      <td>676376.000000</td>\n",
       "      <td>1.400772e+06</td>\n",
       "      <td>1.445528e+06</td>\n",
       "      <td>1.401935e+06</td>\n",
       "      <td>1.445073e+06</td>\n",
       "      <td>1.428125e+06</td>\n",
       "      <td>1.446634e+06</td>\n",
       "      <td>1.386020e+06</td>\n",
       "      <td>1.386016e+06</td>\n",
       "      <td>676380.000000</td>\n",
       "      <td>4.000000</td>\n",
       "    </tr>\n",
       "    <tr>\n",
       "      <th>mean</th>\n",
       "      <td>9.164110</td>\n",
       "      <td>6.270043e+06</td>\n",
       "      <td>1.471549e+01</td>\n",
       "      <td>1.228900e+01</td>\n",
       "      <td>2.883424e+01</td>\n",
       "      <td>1.399855e+01</td>\n",
       "      <td>8.776985e+00</td>\n",
       "      <td>2.881278e+00</td>\n",
       "      <td>1.152543e+00</td>\n",
       "      <td>9.164155</td>\n",
       "      <td>34.175000</td>\n",
       "    </tr>\n",
       "    <tr>\n",
       "      <th>std</th>\n",
       "      <td>8.871495</td>\n",
       "      <td>7.346005e+09</td>\n",
       "      <td>8.551165e+02</td>\n",
       "      <td>8.445728e+03</td>\n",
       "      <td>6.444230e+02</td>\n",
       "      <td>8.370843e+02</td>\n",
       "      <td>1.454257e+02</td>\n",
       "      <td>8.603448e+02</td>\n",
       "      <td>3.441382e+02</td>\n",
       "      <td>8.871497</td>\n",
       "      <td>15.620153</td>\n",
       "    </tr>\n",
       "    <tr>\n",
       "      <th>min</th>\n",
       "      <td>-15.000000</td>\n",
       "      <td>0.000000e+00</td>\n",
       "      <td>0.000000e+00</td>\n",
       "      <td>0.000000e+00</td>\n",
       "      <td>-1.000000e+00</td>\n",
       "      <td>-1.000000e+00</td>\n",
       "      <td>-5.000000e+02</td>\n",
       "      <td>0.000000e+00</td>\n",
       "      <td>0.000000e+00</td>\n",
       "      <td>-15.000000</td>\n",
       "      <td>14.000000</td>\n",
       "    </tr>\n",
       "    <tr>\n",
       "      <th>25%</th>\n",
       "      <td>2.000000</td>\n",
       "      <td>1.010000e+02</td>\n",
       "      <td>7.700000e-01</td>\n",
       "      <td>1.000000e-01</td>\n",
       "      <td>3.500000e+00</td>\n",
       "      <td>6.000000e-01</td>\n",
       "      <td>1.300000e+00</td>\n",
       "      <td>7.000000e-02</td>\n",
       "      <td>2.800000e-02</td>\n",
       "      <td>2.000000</td>\n",
       "      <td>26.000000</td>\n",
       "    </tr>\n",
       "    <tr>\n",
       "      <th>50%</th>\n",
       "      <td>10.000000</td>\n",
       "      <td>2.610000e+02</td>\n",
       "      <td>7.000000e+00</td>\n",
       "      <td>1.800000e+00</td>\n",
       "      <td>1.508000e+01</td>\n",
       "      <td>3.570000e+00</td>\n",
       "      <td>6.000000e+00</td>\n",
       "      <td>5.600000e-01</td>\n",
       "      <td>2.240000e-01</td>\n",
       "      <td>10.000000</td>\n",
       "      <td>37.000000</td>\n",
       "    </tr>\n",
       "    <tr>\n",
       "      <th>75%</th>\n",
       "      <td>16.000000</td>\n",
       "      <td>4.000000e+02</td>\n",
       "      <td>2.140000e+01</td>\n",
       "      <td>7.140000e+00</td>\n",
       "      <td>5.300000e+01</td>\n",
       "      <td>1.800000e+01</td>\n",
       "      <td>1.230000e+01</td>\n",
       "      <td>1.400000e+00</td>\n",
       "      <td>5.600000e-01</td>\n",
       "      <td>16.000000</td>\n",
       "      <td>45.175000</td>\n",
       "    </tr>\n",
       "    <tr>\n",
       "      <th>max</th>\n",
       "      <td>40.000000</td>\n",
       "      <td>8.693855e+12</td>\n",
       "      <td>9.999990e+05</td>\n",
       "      <td>9.999999e+06</td>\n",
       "      <td>7.629390e+05</td>\n",
       "      <td>9.999990e+05</td>\n",
       "      <td>1.730000e+05</td>\n",
       "      <td>9.999990e+05</td>\n",
       "      <td>3.999996e+05</td>\n",
       "      <td>40.000000</td>\n",
       "      <td>48.700000</td>\n",
       "    </tr>\n",
       "  </tbody>\n",
       "</table>\n",
       "</div>"
      ],
      "text/plain": [
       "       nutriscore_score  energy-kcal_100g      fat_100g  saturated-fat_100g  \\\n",
       "count     676376.000000      1.400772e+06  1.445528e+06        1.401935e+06   \n",
       "mean           9.164110      6.270043e+06  1.471549e+01        1.228900e+01   \n",
       "std            8.871495      7.346005e+09  8.551165e+02        8.445728e+03   \n",
       "min          -15.000000      0.000000e+00  0.000000e+00        0.000000e+00   \n",
       "25%            2.000000      1.010000e+02  7.700000e-01        1.000000e-01   \n",
       "50%           10.000000      2.610000e+02  7.000000e+00        1.800000e+00   \n",
       "75%           16.000000      4.000000e+02  2.140000e+01        7.140000e+00   \n",
       "max           40.000000      8.693855e+12  9.999990e+05        9.999999e+06   \n",
       "\n",
       "       carbohydrates_100g   sugars_100g  proteins_100g     salt_100g  \\\n",
       "count        1.445073e+06  1.428125e+06   1.446634e+06  1.386020e+06   \n",
       "mean         2.883424e+01  1.399855e+01   8.776985e+00  2.881278e+00   \n",
       "std          6.444230e+02  8.370843e+02   1.454257e+02  8.603448e+02   \n",
       "min         -1.000000e+00 -1.000000e+00  -5.000000e+02  0.000000e+00   \n",
       "25%          3.500000e+00  6.000000e-01   1.300000e+00  7.000000e-02   \n",
       "50%          1.508000e+01  3.570000e+00   6.000000e+00  5.600000e-01   \n",
       "75%          5.300000e+01  1.800000e+01   1.230000e+01  1.400000e+00   \n",
       "max          7.629390e+05  9.999990e+05   1.730000e+05  9.999990e+05   \n",
       "\n",
       "        sodium_100g  nutrition-score-fr_100g  glycemic-index_100g  \n",
       "count  1.386016e+06            676380.000000             4.000000  \n",
       "mean   1.152543e+00                 9.164155            34.175000  \n",
       "std    3.441382e+02                 8.871497            15.620153  \n",
       "min    0.000000e+00               -15.000000            14.000000  \n",
       "25%    2.800000e-02                 2.000000            26.000000  \n",
       "50%    2.240000e-01                10.000000            37.000000  \n",
       "75%    5.600000e-01                16.000000            45.175000  \n",
       "max    3.999996e+05                40.000000            48.700000  "
      ]
     },
     "execution_count": 15,
     "metadata": {},
     "output_type": "execute_result"
    }
   ],
   "source": [
    "df.describe()"
   ]
  },
  {
   "cell_type": "code",
   "execution_count": 16,
   "id": "23c9229b-f95c-46ce-9f9f-648693f679ce",
   "metadata": {},
   "outputs": [
    {
     "data": {
      "text/plain": [
       "(1831739, 14)"
      ]
     },
     "execution_count": 16,
     "metadata": {},
     "output_type": "execute_result"
    }
   ],
   "source": [
    "df.shape"
   ]
  },
  {
   "cell_type": "markdown",
   "id": "54ca1bdf-300e-4960-946a-9766f32932c0",
   "metadata": {},
   "source": [
    "Pour finir le traitement des valeurs manquantes, il faudra choisir une valeur à imputer quand cela est nécessaire. Avant de procéder à cette étape, on va s'intéresser à deux autres points : le traitement des donneés dupliquées ainsi que l'étude des anomalies avant de décider de l'imputation à effectuer. "
   ]
  },
  {
   "cell_type": "markdown",
   "id": "82d086b0-54d3-45db-90cd-2015b6ad750a",
   "metadata": {},
   "source": [
    "## Traitement des données dupliquées"
   ]
  },
  {
   "cell_type": "code",
   "execution_count": 17,
   "id": "4ade9777-8ccc-4aa4-a69c-0f0e6251ad33",
   "metadata": {},
   "outputs": [],
   "source": [
    "dupl = df.duplicated()"
   ]
  },
  {
   "cell_type": "code",
   "execution_count": 18,
   "id": "adfaa04b-f157-4a59-9d98-1f727d68f42a",
   "metadata": {},
   "outputs": [
    {
     "data": {
      "text/html": [
       "<div>\n",
       "<style scoped>\n",
       "    .dataframe tbody tr th:only-of-type {\n",
       "        vertical-align: middle;\n",
       "    }\n",
       "\n",
       "    .dataframe tbody tr th {\n",
       "        vertical-align: top;\n",
       "    }\n",
       "\n",
       "    .dataframe thead th {\n",
       "        text-align: right;\n",
       "    }\n",
       "</style>\n",
       "<table border=\"1\" class=\"dataframe\">\n",
       "  <thead>\n",
       "    <tr style=\"text-align: right;\">\n",
       "      <th></th>\n",
       "      <th>code</th>\n",
       "      <th>product_name</th>\n",
       "      <th>brands</th>\n",
       "      <th>nutriscore_score</th>\n",
       "      <th>energy-kcal_100g</th>\n",
       "      <th>fat_100g</th>\n",
       "      <th>saturated-fat_100g</th>\n",
       "      <th>carbohydrates_100g</th>\n",
       "      <th>sugars_100g</th>\n",
       "      <th>proteins_100g</th>\n",
       "      <th>salt_100g</th>\n",
       "      <th>sodium_100g</th>\n",
       "      <th>nutrition-score-fr_100g</th>\n",
       "      <th>glycemic-index_100g</th>\n",
       "    </tr>\n",
       "  </thead>\n",
       "  <tbody>\n",
       "    <tr>\n",
       "      <th>11533</th>\n",
       "      <td>3560070278831</td>\n",
       "      <td>Pamplemousse rose. 100 % Pur Fruit Pressé</td>\n",
       "      <td>Carrefour.CMI (Carrefour Marchandises Internat...</td>\n",
       "      <td>2.0</td>\n",
       "      <td>36.0</td>\n",
       "      <td>0.0</td>\n",
       "      <td>0.0</td>\n",
       "      <td>8.5</td>\n",
       "      <td>8.5</td>\n",
       "      <td>0.0</td>\n",
       "      <td>0.0</td>\n",
       "      <td>0.0</td>\n",
       "      <td>2.0</td>\n",
       "      <td>NaN</td>\n",
       "    </tr>\n",
       "    <tr>\n",
       "      <th>25961</th>\n",
       "      <td>3770008983205</td>\n",
       "      <td>REMYX VODKA Aquatique</td>\n",
       "      <td>REMYX VODKA</td>\n",
       "      <td>NaN</td>\n",
       "      <td>NaN</td>\n",
       "      <td>NaN</td>\n",
       "      <td>NaN</td>\n",
       "      <td>NaN</td>\n",
       "      <td>NaN</td>\n",
       "      <td>NaN</td>\n",
       "      <td>NaN</td>\n",
       "      <td>NaN</td>\n",
       "      <td>NaN</td>\n",
       "      <td>NaN</td>\n",
       "    </tr>\n",
       "    <tr>\n",
       "      <th>13367</th>\n",
       "      <td>7340011495437</td>\n",
       "      <td>NaN</td>\n",
       "      <td>NaN</td>\n",
       "      <td>NaN</td>\n",
       "      <td>NaN</td>\n",
       "      <td>NaN</td>\n",
       "      <td>NaN</td>\n",
       "      <td>NaN</td>\n",
       "      <td>NaN</td>\n",
       "      <td>NaN</td>\n",
       "      <td>NaN</td>\n",
       "      <td>NaN</td>\n",
       "      <td>NaN</td>\n",
       "      <td>NaN</td>\n",
       "    </tr>\n",
       "  </tbody>\n",
       "</table>\n",
       "</div>"
      ],
      "text/plain": [
       "                code                               product_name  \\\n",
       "11533  3560070278831  Pamplemousse rose. 100 % Pur Fruit Pressé   \n",
       "25961  3770008983205                      REMYX VODKA Aquatique   \n",
       "13367  7340011495437                                        NaN   \n",
       "\n",
       "                                                  brands  nutriscore_score  \\\n",
       "11533  Carrefour.CMI (Carrefour Marchandises Internat...               2.0   \n",
       "25961                                        REMYX VODKA               NaN   \n",
       "13367                                                NaN               NaN   \n",
       "\n",
       "       energy-kcal_100g  fat_100g  saturated-fat_100g  carbohydrates_100g  \\\n",
       "11533              36.0       0.0                 0.0                 8.5   \n",
       "25961               NaN       NaN                 NaN                 NaN   \n",
       "13367               NaN       NaN                 NaN                 NaN   \n",
       "\n",
       "       sugars_100g  proteins_100g  salt_100g  sodium_100g  \\\n",
       "11533          8.5            0.0        0.0          0.0   \n",
       "25961          NaN            NaN        NaN          NaN   \n",
       "13367          NaN            NaN        NaN          NaN   \n",
       "\n",
       "       nutrition-score-fr_100g  glycemic-index_100g  \n",
       "11533                      2.0                  NaN  \n",
       "25961                      NaN                  NaN  \n",
       "13367                      NaN                  NaN  "
      ]
     },
     "execution_count": 18,
     "metadata": {},
     "output_type": "execute_result"
    }
   ],
   "source": [
    "df_dupl = df[dupl]\n",
    "df_dupl.head()"
   ]
  },
  {
   "cell_type": "code",
   "execution_count": 19,
   "id": "72c25a50-2079-4ce9-b08b-d061ca882aac",
   "metadata": {},
   "outputs": [
    {
     "data": {
      "text/html": [
       "<div>\n",
       "<style scoped>\n",
       "    .dataframe tbody tr th:only-of-type {\n",
       "        vertical-align: middle;\n",
       "    }\n",
       "\n",
       "    .dataframe tbody tr th {\n",
       "        vertical-align: top;\n",
       "    }\n",
       "\n",
       "    .dataframe thead th {\n",
       "        text-align: right;\n",
       "    }\n",
       "</style>\n",
       "<table border=\"1\" class=\"dataframe\">\n",
       "  <thead>\n",
       "    <tr style=\"text-align: right;\">\n",
       "      <th></th>\n",
       "      <th>code</th>\n",
       "      <th>product_name</th>\n",
       "      <th>brands</th>\n",
       "      <th>nutriscore_score</th>\n",
       "      <th>energy-kcal_100g</th>\n",
       "      <th>fat_100g</th>\n",
       "      <th>saturated-fat_100g</th>\n",
       "      <th>carbohydrates_100g</th>\n",
       "      <th>sugars_100g</th>\n",
       "      <th>proteins_100g</th>\n",
       "      <th>salt_100g</th>\n",
       "      <th>sodium_100g</th>\n",
       "      <th>nutrition-score-fr_100g</th>\n",
       "      <th>glycemic-index_100g</th>\n",
       "    </tr>\n",
       "  </thead>\n",
       "  <tbody>\n",
       "    <tr>\n",
       "      <th>0</th>\n",
       "      <td>00000000000000225</td>\n",
       "      <td>jeunes pousses</td>\n",
       "      <td>endives</td>\n",
       "      <td>NaN</td>\n",
       "      <td>NaN</td>\n",
       "      <td>NaN</td>\n",
       "      <td>NaN</td>\n",
       "      <td>NaN</td>\n",
       "      <td>NaN</td>\n",
       "      <td>NaN</td>\n",
       "      <td>NaN</td>\n",
       "      <td>NaN</td>\n",
       "      <td>NaN</td>\n",
       "      <td>NaN</td>\n",
       "    </tr>\n",
       "    <tr>\n",
       "      <th>1</th>\n",
       "      <td>0000000000017</td>\n",
       "      <td>Vitória crackers</td>\n",
       "      <td>NaN</td>\n",
       "      <td>NaN</td>\n",
       "      <td>375.0</td>\n",
       "      <td>7.0</td>\n",
       "      <td>3.08</td>\n",
       "      <td>70.1</td>\n",
       "      <td>15.0</td>\n",
       "      <td>7.8</td>\n",
       "      <td>1.4</td>\n",
       "      <td>0.56</td>\n",
       "      <td>NaN</td>\n",
       "      <td>NaN</td>\n",
       "    </tr>\n",
       "    <tr>\n",
       "      <th>2</th>\n",
       "      <td>0000000000031</td>\n",
       "      <td>Cacao</td>\n",
       "      <td>NaN</td>\n",
       "      <td>NaN</td>\n",
       "      <td>NaN</td>\n",
       "      <td>NaN</td>\n",
       "      <td>NaN</td>\n",
       "      <td>NaN</td>\n",
       "      <td>NaN</td>\n",
       "      <td>NaN</td>\n",
       "      <td>NaN</td>\n",
       "      <td>NaN</td>\n",
       "      <td>NaN</td>\n",
       "      <td>NaN</td>\n",
       "    </tr>\n",
       "    <tr>\n",
       "      <th>3</th>\n",
       "      <td>000000000003327986</td>\n",
       "      <td>Filetes de pollo empanado</td>\n",
       "      <td>NaN</td>\n",
       "      <td>NaN</td>\n",
       "      <td>NaN</td>\n",
       "      <td>NaN</td>\n",
       "      <td>NaN</td>\n",
       "      <td>NaN</td>\n",
       "      <td>NaN</td>\n",
       "      <td>NaN</td>\n",
       "      <td>NaN</td>\n",
       "      <td>NaN</td>\n",
       "      <td>NaN</td>\n",
       "      <td>NaN</td>\n",
       "    </tr>\n",
       "    <tr>\n",
       "      <th>4</th>\n",
       "      <td>000000000004622327</td>\n",
       "      <td>Hamburguesas de ternera 100%</td>\n",
       "      <td>NaN</td>\n",
       "      <td>NaN</td>\n",
       "      <td>874.9</td>\n",
       "      <td>15.1</td>\n",
       "      <td>6.10</td>\n",
       "      <td>2.6</td>\n",
       "      <td>1.0</td>\n",
       "      <td>15.7</td>\n",
       "      <td>2.1</td>\n",
       "      <td>0.84</td>\n",
       "      <td>NaN</td>\n",
       "      <td>NaN</td>\n",
       "    </tr>\n",
       "  </tbody>\n",
       "</table>\n",
       "</div>"
      ],
      "text/plain": [
       "                 code                  product_name   brands  \\\n",
       "0   00000000000000225                jeunes pousses  endives   \n",
       "1       0000000000017              Vitória crackers      NaN   \n",
       "2       0000000000031                         Cacao      NaN   \n",
       "3  000000000003327986     Filetes de pollo empanado      NaN   \n",
       "4  000000000004622327  Hamburguesas de ternera 100%      NaN   \n",
       "\n",
       "   nutriscore_score  energy-kcal_100g  fat_100g  saturated-fat_100g  \\\n",
       "0               NaN               NaN       NaN                 NaN   \n",
       "1               NaN             375.0       7.0                3.08   \n",
       "2               NaN               NaN       NaN                 NaN   \n",
       "3               NaN               NaN       NaN                 NaN   \n",
       "4               NaN             874.9      15.1                6.10   \n",
       "\n",
       "   carbohydrates_100g  sugars_100g  proteins_100g  salt_100g  sodium_100g  \\\n",
       "0                 NaN          NaN            NaN        NaN          NaN   \n",
       "1                70.1         15.0            7.8        1.4         0.56   \n",
       "2                 NaN          NaN            NaN        NaN          NaN   \n",
       "3                 NaN          NaN            NaN        NaN          NaN   \n",
       "4                 2.6          1.0           15.7        2.1         0.84   \n",
       "\n",
       "   nutrition-score-fr_100g  glycemic-index_100g  \n",
       "0                      NaN                  NaN  \n",
       "1                      NaN                  NaN  \n",
       "2                      NaN                  NaN  \n",
       "3                      NaN                  NaN  \n",
       "4                      NaN                  NaN  "
      ]
     },
     "execution_count": 19,
     "metadata": {},
     "output_type": "execute_result"
    }
   ],
   "source": [
    "df = df[~dupl]\n",
    "df.head()"
   ]
  },
  {
   "cell_type": "code",
   "execution_count": 20,
   "id": "3f194786-f1ed-4790-a884-c9d24babb230",
   "metadata": {},
   "outputs": [
    {
     "data": {
      "text/plain": [
       "(1831736, 14)"
      ]
     },
     "execution_count": 20,
     "metadata": {},
     "output_type": "execute_result"
    }
   ],
   "source": [
    "df.shape"
   ]
  },
  {
   "cell_type": "markdown",
   "id": "0d8da8ee-521c-4f3f-856f-d9f5f75754c4",
   "metadata": {},
   "source": [
    "Le traitement des données dupliquées montre qu'il y a trois variables qui étaient dupliquées."
   ]
  },
  {
   "cell_type": "markdown",
   "id": "513e7f1e-376a-4a94-977c-20bf610889ea",
   "metadata": {},
   "source": [
    "## Détection des outliers"
   ]
  },
  {
   "cell_type": "code",
   "execution_count": 21,
   "id": "0ab121bb-de9e-4117-93eb-a24000edb1f2",
   "metadata": {},
   "outputs": [
    {
     "data": {
      "image/png": "[encoded data removed]",
      "text/plain": [
       "<Figure size 432x288 with 1 Axes>"
      ]
     },
     "metadata": {
      "needs_background": "light"
     },
     "output_type": "display_data"
    },
    {
     "data": {
      "image/png": "[encoded data removed]",
      "text/plain": [
       "<Figure size 432x288 with 1 Axes>"
      ]
     },
     "metadata": {
      "needs_background": "light"
     },
     "output_type": "display_data"
    },
    {
     "data": {
      "image/png": "[encoded data removed]",
      "text/plain": [
       "<Figure size 432x288 with 1 Axes>"
      ]
     },
     "metadata": {
      "needs_background": "light"
     },
     "output_type": "display_data"
    },
    {
     "data": {
      "image/png": "[encoded data removed]",
      "text/plain": [
       "<Figure size 432x288 with 1 Axes>"
      ]
     },
     "metadata": {
      "needs_background": "light"
     },
     "output_type": "display_data"
    },
    {
     "data": {
      "image/png": "[encoded data removed]",
      "text/plain": [
       "<Figure size 432x288 with 1 Axes>"
      ]
     },
     "metadata": {
      "needs_background": "light"
     },
     "output_type": "display_data"
    },
    {
     "data": {
      "image/png": "[encoded data removed]",
      "text/plain": [
       "<Figure size 432x288 with 1 Axes>"
      ]
     },
     "metadata": {
      "needs_background": "light"
     },
     "output_type": "display_data"
    },
    {
     "data": {
      "image/png": "[encoded data removed]",
      "text/plain": [
       "<Figure size 432x288 with 1 Axes>"
      ]
     },
     "metadata": {
      "needs_background": "light"
     },
     "output_type": "display_data"
    },
    {
     "data": {
      "image/png": "[encoded data removed]",
      "text/plain": [
       "<Figure size 432x288 with 1 Axes>"
      ]
     },
     "metadata": {
      "needs_background": "light"
     },
     "output_type": "display_data"
    },
    {
     "data": {
      "image/png": "[encoded data removed]",
      "text/plain": [
       "<Figure size 432x288 with 1 Axes>"
      ]
     },
     "metadata": {
      "needs_background": "light"
     },
     "output_type": "display_data"
    },
    {
     "data": {
      "image/png": "[encoded data removed]",
      "text/plain": [
       "<Figure size 432x288 with 1 Axes>"
      ]
     },
     "metadata": {
      "needs_background": "light"
     },
     "output_type": "display_data"
    },
    {
     "data": {
      "image/png": "[encoded data removed]",
      "text/plain": [
       "<Figure size 432x288 with 1 Axes>"
      ]
     },
     "metadata": {
      "needs_background": "light"
     },
     "output_type": "display_data"
    }
   ],
   "source": [
    "for var in df.columns:\n",
    "    if df[var].dtypes == 'float64':\n",
    "        sns.boxplot(x=var, data=df)\n",
    "        plt.title(var)\n",
    "        plt.show()"
   ]
  },
  {
   "cell_type": "code",
   "execution_count": 22,
   "id": "c3342aa8-8cc3-4a5e-b89b-6fc65f4ba8a8",
   "metadata": {},
   "outputs": [
    {
     "name": "stdout",
     "output_type": "stream",
     "text": [
      "nutriscore_score           -19.0000\n",
      "energy-kcal_100g          -347.5000\n",
      "fat_100g                   -30.1750\n",
      "saturated-fat_100g         -10.4600\n",
      "carbohydrates_100g         -70.7500\n",
      "sugars_100g                -25.5000\n",
      "proteins_100g              -15.2000\n",
      "salt_100g                   -1.9250\n",
      "sodium_100g                 -0.7700\n",
      "nutrition-score-fr_100g    -19.0000\n",
      "glycemic-index_100g         -2.7625\n",
      "dtype: float64 nutriscore_score            37.0000\n",
      "energy-kcal_100g           848.5000\n",
      "fat_100g                    52.3450\n",
      "saturated-fat_100g          17.7000\n",
      "carbohydrates_100g         127.2500\n",
      "sugars_100g                 44.1000\n",
      "proteins_100g               28.8000\n",
      "salt_100g                    3.3950\n",
      "sodium_100g                  1.3580\n",
      "nutrition-score-fr_100g     37.0000\n",
      "glycemic-index_100g         73.9375\n",
      "dtype: float64\n"
     ]
    }
   ],
   "source": [
    "Q1=df.quantile(0.25)\n",
    "Q3=df.quantile(0.75)\n",
    "IQR=Q3-Q1\n",
    "lower_bound=Q1 - 1.5 * IQR\n",
    "upper_bound=Q3 + 1.5 * IQR\n",
    "print(lower_bound,upper_bound)"
   ]
  },
  {
   "cell_type": "code",
   "execution_count": 23,
   "id": "4faae6da-a10f-42ce-b129-c240cc4d48f0",
   "metadata": {},
   "outputs": [
    {
     "data": {
      "text/plain": [
       "(1453589, 14)"
      ]
     },
     "execution_count": 23,
     "metadata": {},
     "output_type": "execute_result"
    }
   ],
   "source": [
    "import warnings\n",
    "warnings.filterwarnings(\"ignore\")\n",
    "\n",
    "df_clean = df[~((df < lower_bound) | (df > upper_bound)).any(axis=1)]\n",
    "df_clean.shape"
   ]
  },
  {
   "cell_type": "code",
   "execution_count": 24,
   "id": "61a9eb62-fab9-4bbd-8f2a-b8e34ef079f2",
   "metadata": {},
   "outputs": [
    {
     "data": {
      "image/png": "[encoded data removed]",
      "text/plain": [
       "<Figure size 432x288 with 1 Axes>"
      ]
     },
     "metadata": {
      "needs_background": "light"
     },
     "output_type": "display_data"
    },
    {
     "data": {
      "image/png": "[encoded data removed]",
      "text/plain": [
       "<Figure size 432x288 with 1 Axes>"
      ]
     },
     "metadata": {
      "needs_background": "light"
     },
     "output_type": "display_data"
    },
    {
     "data": {
      "image/png": "[encoded data removed]",
      "text/plain": [
       "<Figure size 432x288 with 1 Axes>"
      ]
     },
     "metadata": {
      "needs_background": "light"
     },
     "output_type": "display_data"
    },
    {
     "data": {
      "image/png": "[encoded data removed]",
      "text/plain": [
       "<Figure size 432x288 with 1 Axes>"
      ]
     },
     "metadata": {
      "needs_background": "light"
     },
     "output_type": "display_data"
    },
    {
     "data": {
      "image/png": "[encoded data removed]",
      "text/plain": [
       "<Figure size 432x288 with 1 Axes>"
      ]
     },
     "metadata": {
      "needs_background": "light"
     },
     "output_type": "display_data"
    },
    {
     "data": {
      "image/png": "[encoded data removed]",
      "text/plain": [
       "<Figure size 432x288 with 1 Axes>"
      ]
     },
     "metadata": {
      "needs_background": "light"
     },
     "output_type": "display_data"
    },
    {
     "data": {
      "image/png": "[encoded data removed]",
      "text/plain": [
       "<Figure size 432x288 with 1 Axes>"
      ]
     },
     "metadata": {
      "needs_background": "light"
     },
     "output_type": "display_data"
    },
    {
     "data": {
      "image/png": "[encoded data removed]",
      "text/plain": [
       "<Figure size 432x288 with 1 Axes>"
      ]
     },
     "metadata": {
      "needs_background": "light"
     },
     "output_type": "display_data"
    },
    {
     "data": {
      "image/png": "[encoded data removed]",
      "text/plain": [
       "<Figure size 432x288 with 1 Axes>"
      ]
     },
     "metadata": {
      "needs_background": "light"
     },
     "output_type": "display_data"
    },
    {
     "data": {
      "image/png": "[encoded data removed]",
      "text/plain": [
       "<Figure size 432x288 with 1 Axes>"
      ]
     },
     "metadata": {
      "needs_background": "light"
     },
     "output_type": "display_data"
    },
    {
     "data": {
      "image/png": "[encoded data removed]",
      "text/plain": [
       "<Figure size 432x288 with 1 Axes>"
      ]
     },
     "metadata": {
      "needs_background": "light"
     },
     "output_type": "display_data"
    }
   ],
   "source": [
    "for var in df_clean.columns:\n",
    "    if df_clean[var].dtypes == 'float64':\n",
    "        sns.boxplot(x=var, data=df_clean)\n",
    "        plt.title(var)\n",
    "        plt.show()"
   ]
  },
  {
   "cell_type": "code",
   "execution_count": 25,
   "id": "235c0c37-b6d1-420c-9a55-16ef6ea7a87a",
   "metadata": {},
   "outputs": [
    {
     "data": {
      "text/html": [
       "<div>\n",
       "<style scoped>\n",
       "    .dataframe tbody tr th:only-of-type {\n",
       "        vertical-align: middle;\n",
       "    }\n",
       "\n",
       "    .dataframe tbody tr th {\n",
       "        vertical-align: top;\n",
       "    }\n",
       "\n",
       "    .dataframe thead th {\n",
       "        text-align: right;\n",
       "    }\n",
       "</style>\n",
       "<table border=\"1\" class=\"dataframe\">\n",
       "  <thead>\n",
       "    <tr style=\"text-align: right;\">\n",
       "      <th></th>\n",
       "      <th>nutriscore_score</th>\n",
       "      <th>energy-kcal_100g</th>\n",
       "      <th>fat_100g</th>\n",
       "      <th>saturated-fat_100g</th>\n",
       "      <th>carbohydrates_100g</th>\n",
       "      <th>sugars_100g</th>\n",
       "      <th>proteins_100g</th>\n",
       "      <th>salt_100g</th>\n",
       "      <th>sodium_100g</th>\n",
       "      <th>nutrition-score-fr_100g</th>\n",
       "      <th>glycemic-index_100g</th>\n",
       "    </tr>\n",
       "  </thead>\n",
       "  <tbody>\n",
       "    <tr>\n",
       "      <th>count</th>\n",
       "      <td>508731.000000</td>\n",
       "      <td>1.035582e+06</td>\n",
       "      <td>1.069051e+06</td>\n",
       "      <td>1.040489e+06</td>\n",
       "      <td>1.069242e+06</td>\n",
       "      <td>1.060198e+06</td>\n",
       "      <td>1.070132e+06</td>\n",
       "      <td>1.027085e+06</td>\n",
       "      <td>1.027083e+06</td>\n",
       "      <td>508734.000000</td>\n",
       "      <td>1.0</td>\n",
       "    </tr>\n",
       "    <tr>\n",
       "      <th>mean</th>\n",
       "      <td>6.916284</td>\n",
       "      <td>2.226112e+02</td>\n",
       "      <td>9.673856e+00</td>\n",
       "      <td>3.156953e+00</td>\n",
       "      <td>2.538016e+01</td>\n",
       "      <td>8.235199e+00</td>\n",
       "      <td>7.565758e+00</td>\n",
       "      <td>7.626066e-01</td>\n",
       "      <td>3.050438e-01</td>\n",
       "      <td>6.916332</td>\n",
       "      <td>30.0</td>\n",
       "    </tr>\n",
       "    <tr>\n",
       "      <th>std</th>\n",
       "      <td>8.310835</td>\n",
       "      <td>1.669618e+02</td>\n",
       "      <td>1.128783e+01</td>\n",
       "      <td>4.186735e+00</td>\n",
       "      <td>2.551195e+01</td>\n",
       "      <td>1.080028e+01</td>\n",
       "      <td>6.968620e+00</td>\n",
       "      <td>7.819349e-01</td>\n",
       "      <td>3.127732e-01</td>\n",
       "      <td>8.310843</td>\n",
       "      <td>NaN</td>\n",
       "    </tr>\n",
       "    <tr>\n",
       "      <th>min</th>\n",
       "      <td>-15.000000</td>\n",
       "      <td>0.000000e+00</td>\n",
       "      <td>0.000000e+00</td>\n",
       "      <td>0.000000e+00</td>\n",
       "      <td>-1.000000e+00</td>\n",
       "      <td>-1.000000e+00</td>\n",
       "      <td>-1.000000e+00</td>\n",
       "      <td>0.000000e+00</td>\n",
       "      <td>0.000000e+00</td>\n",
       "      <td>-15.000000</td>\n",
       "      <td>30.0</td>\n",
       "    </tr>\n",
       "    <tr>\n",
       "      <th>25%</th>\n",
       "      <td>0.000000</td>\n",
       "      <td>7.300000e+01</td>\n",
       "      <td>6.000000e-01</td>\n",
       "      <td>1.000000e-01</td>\n",
       "      <td>4.000000e+00</td>\n",
       "      <td>7.000000e-01</td>\n",
       "      <td>1.500000e+00</td>\n",
       "      <td>8.000000e-02</td>\n",
       "      <td>3.200000e-02</td>\n",
       "      <td>0.000000</td>\n",
       "      <td>30.0</td>\n",
       "    </tr>\n",
       "    <tr>\n",
       "      <th>50%</th>\n",
       "      <td>5.000000</td>\n",
       "      <td>1.940000e+02</td>\n",
       "      <td>5.000000e+00</td>\n",
       "      <td>1.300000e+00</td>\n",
       "      <td>1.400000e+01</td>\n",
       "      <td>3.330000e+00</td>\n",
       "      <td>6.000000e+00</td>\n",
       "      <td>5.800000e-01</td>\n",
       "      <td>2.320000e-01</td>\n",
       "      <td>5.000000</td>\n",
       "      <td>30.0</td>\n",
       "    </tr>\n",
       "    <tr>\n",
       "      <th>75%</th>\n",
       "      <td>14.000000</td>\n",
       "      <td>3.570000e+02</td>\n",
       "      <td>1.600000e+01</td>\n",
       "      <td>4.500000e+00</td>\n",
       "      <td>4.700000e+01</td>\n",
       "      <td>1.150000e+01</td>\n",
       "      <td>1.197000e+01</td>\n",
       "      <td>1.210000e+00</td>\n",
       "      <td>4.840000e-01</td>\n",
       "      <td>14.000000</td>\n",
       "      <td>30.0</td>\n",
       "    </tr>\n",
       "    <tr>\n",
       "      <th>max</th>\n",
       "      <td>36.000000</td>\n",
       "      <td>8.480000e+02</td>\n",
       "      <td>5.233333e+01</td>\n",
       "      <td>1.770000e+01</td>\n",
       "      <td>1.240000e+02</td>\n",
       "      <td>4.410000e+01</td>\n",
       "      <td>2.880000e+01</td>\n",
       "      <td>3.392857e+00</td>\n",
       "      <td>1.357143e+00</td>\n",
       "      <td>36.000000</td>\n",
       "      <td>30.0</td>\n",
       "    </tr>\n",
       "  </tbody>\n",
       "</table>\n",
       "</div>"
      ],
      "text/plain": [
       "       nutriscore_score  energy-kcal_100g      fat_100g  saturated-fat_100g  \\\n",
       "count     508731.000000      1.035582e+06  1.069051e+06        1.040489e+06   \n",
       "mean           6.916284      2.226112e+02  9.673856e+00        3.156953e+00   \n",
       "std            8.310835      1.669618e+02  1.128783e+01        4.186735e+00   \n",
       "min          -15.000000      0.000000e+00  0.000000e+00        0.000000e+00   \n",
       "25%            0.000000      7.300000e+01  6.000000e-01        1.000000e-01   \n",
       "50%            5.000000      1.940000e+02  5.000000e+00        1.300000e+00   \n",
       "75%           14.000000      3.570000e+02  1.600000e+01        4.500000e+00   \n",
       "max           36.000000      8.480000e+02  5.233333e+01        1.770000e+01   \n",
       "\n",
       "       carbohydrates_100g   sugars_100g  proteins_100g     salt_100g  \\\n",
       "count        1.069242e+06  1.060198e+06   1.070132e+06  1.027085e+06   \n",
       "mean         2.538016e+01  8.235199e+00   7.565758e+00  7.626066e-01   \n",
       "std          2.551195e+01  1.080028e+01   6.968620e+00  7.819349e-01   \n",
       "min         -1.000000e+00 -1.000000e+00  -1.000000e+00  0.000000e+00   \n",
       "25%          4.000000e+00  7.000000e-01   1.500000e+00  8.000000e-02   \n",
       "50%          1.400000e+01  3.330000e+00   6.000000e+00  5.800000e-01   \n",
       "75%          4.700000e+01  1.150000e+01   1.197000e+01  1.210000e+00   \n",
       "max          1.240000e+02  4.410000e+01   2.880000e+01  3.392857e+00   \n",
       "\n",
       "        sodium_100g  nutrition-score-fr_100g  glycemic-index_100g  \n",
       "count  1.027083e+06            508734.000000                  1.0  \n",
       "mean   3.050438e-01                 6.916332                 30.0  \n",
       "std    3.127732e-01                 8.310843                  NaN  \n",
       "min    0.000000e+00               -15.000000                 30.0  \n",
       "25%    3.200000e-02                 0.000000                 30.0  \n",
       "50%    2.320000e-01                 5.000000                 30.0  \n",
       "75%    4.840000e-01                14.000000                 30.0  \n",
       "max    1.357143e+00                36.000000                 30.0  "
      ]
     },
     "execution_count": 25,
     "metadata": {},
     "output_type": "execute_result"
    }
   ],
   "source": [
    "df_clean.describe()"
   ]
  },
  {
   "cell_type": "markdown",
   "id": "4f8d52b5-bee4-4788-8693-ac9c5924d974",
   "metadata": {},
   "source": [
    "## Complément des valeurs manquantes"
   ]
  },
  {
   "cell_type": "markdown",
   "id": "99f5cbea-ea79-4cd1-b586-6e7346071665",
   "metadata": {},
   "source": [
    "Nos valeurs ont été nettoyées des données aberrantes et on se rend compte que l'index glycémique ne contient qu'une seule valeur. On va donc enlever cette variable de notre étude. Il existe deux variables qui rassemblent les données du nutriscore et elles sont identiques. On va donc en supprimer une pour éviter la redondance dans notre dataset. "
   ]
  },
  {
   "cell_type": "code",
   "execution_count": 26,
   "id": "39c18659-52d6-4ca6-904c-816958034868",
   "metadata": {},
   "outputs": [],
   "source": [
    "df = df_clean.copy()\n",
    "df.drop(['glycemic-index_100g', 'nutrition-score-fr_100g'], axis=1, inplace=True)"
   ]
  },
  {
   "cell_type": "code",
   "execution_count": 27,
   "id": "e518781d-cee1-44a6-9ae8-512329fcaf79",
   "metadata": {},
   "outputs": [],
   "source": [
    "df_no_na = df.dropna()"
   ]
  },
  {
   "cell_type": "code",
   "execution_count": 28,
   "id": "bb0a43d7-24f7-4c19-843b-fcc156f2db86",
   "metadata": {},
   "outputs": [
    {
     "data": {
      "text/html": [
       "<div>\n",
       "<style scoped>\n",
       "    .dataframe tbody tr th:only-of-type {\n",
       "        vertical-align: middle;\n",
       "    }\n",
       "\n",
       "    .dataframe tbody tr th {\n",
       "        vertical-align: top;\n",
       "    }\n",
       "\n",
       "    .dataframe thead th {\n",
       "        text-align: right;\n",
       "    }\n",
       "</style>\n",
       "<table border=\"1\" class=\"dataframe\">\n",
       "  <thead>\n",
       "    <tr style=\"text-align: right;\">\n",
       "      <th></th>\n",
       "      <th>nutriscore_score</th>\n",
       "      <th>energy-kcal_100g</th>\n",
       "      <th>fat_100g</th>\n",
       "      <th>saturated-fat_100g</th>\n",
       "      <th>carbohydrates_100g</th>\n",
       "      <th>sugars_100g</th>\n",
       "      <th>proteins_100g</th>\n",
       "      <th>salt_100g</th>\n",
       "      <th>sodium_100g</th>\n",
       "    </tr>\n",
       "  </thead>\n",
       "  <tbody>\n",
       "    <tr>\n",
       "      <th>count</th>\n",
       "      <td>332627.000000</td>\n",
       "      <td>332627.000000</td>\n",
       "      <td>332627.000000</td>\n",
       "      <td>332627.000000</td>\n",
       "      <td>332627.000000</td>\n",
       "      <td>332627.000000</td>\n",
       "      <td>332627.000000</td>\n",
       "      <td>332627.000000</td>\n",
       "      <td>332627.000000</td>\n",
       "    </tr>\n",
       "    <tr>\n",
       "      <th>mean</th>\n",
       "      <td>6.713541</td>\n",
       "      <td>227.709895</td>\n",
       "      <td>9.979726</td>\n",
       "      <td>3.184379</td>\n",
       "      <td>26.049344</td>\n",
       "      <td>8.736099</td>\n",
       "      <td>7.581436</td>\n",
       "      <td>0.764126</td>\n",
       "      <td>0.305652</td>\n",
       "    </tr>\n",
       "    <tr>\n",
       "      <th>std</th>\n",
       "      <td>8.254985</td>\n",
       "      <td>164.712476</td>\n",
       "      <td>11.496042</td>\n",
       "      <td>4.211534</td>\n",
       "      <td>25.435364</td>\n",
       "      <td>10.946360</td>\n",
       "      <td>6.815515</td>\n",
       "      <td>0.766564</td>\n",
       "      <td>0.306629</td>\n",
       "    </tr>\n",
       "    <tr>\n",
       "      <th>min</th>\n",
       "      <td>-15.000000</td>\n",
       "      <td>0.000000</td>\n",
       "      <td>0.000000</td>\n",
       "      <td>0.000000</td>\n",
       "      <td>0.000000</td>\n",
       "      <td>0.000000</td>\n",
       "      <td>0.000000</td>\n",
       "      <td>0.000000</td>\n",
       "      <td>0.000000</td>\n",
       "    </tr>\n",
       "    <tr>\n",
       "      <th>25%</th>\n",
       "      <td>0.000000</td>\n",
       "      <td>80.000000</td>\n",
       "      <td>0.900000</td>\n",
       "      <td>0.100000</td>\n",
       "      <td>4.800000</td>\n",
       "      <td>1.000000</td>\n",
       "      <td>2.000000</td>\n",
       "      <td>0.100000</td>\n",
       "      <td>0.040000</td>\n",
       "    </tr>\n",
       "    <tr>\n",
       "      <th>50%</th>\n",
       "      <td>5.000000</td>\n",
       "      <td>198.000000</td>\n",
       "      <td>5.290000</td>\n",
       "      <td>1.300000</td>\n",
       "      <td>14.300000</td>\n",
       "      <td>3.600000</td>\n",
       "      <td>6.000000</td>\n",
       "      <td>0.600000</td>\n",
       "      <td>0.240000</td>\n",
       "    </tr>\n",
       "    <tr>\n",
       "      <th>75%</th>\n",
       "      <td>13.000000</td>\n",
       "      <td>359.000000</td>\n",
       "      <td>16.050000</td>\n",
       "      <td>4.600000</td>\n",
       "      <td>48.080000</td>\n",
       "      <td>12.000000</td>\n",
       "      <td>11.400000</td>\n",
       "      <td>1.200000</td>\n",
       "      <td>0.480000</td>\n",
       "    </tr>\n",
       "    <tr>\n",
       "      <th>max</th>\n",
       "      <td>36.000000</td>\n",
       "      <td>848.000000</td>\n",
       "      <td>52.333333</td>\n",
       "      <td>17.700000</td>\n",
       "      <td>113.000000</td>\n",
       "      <td>44.099998</td>\n",
       "      <td>28.800000</td>\n",
       "      <td>3.392857</td>\n",
       "      <td>1.357143</td>\n",
       "    </tr>\n",
       "  </tbody>\n",
       "</table>\n",
       "</div>"
      ],
      "text/plain": [
       "       nutriscore_score  energy-kcal_100g       fat_100g  saturated-fat_100g  \\\n",
       "count     332627.000000     332627.000000  332627.000000       332627.000000   \n",
       "mean           6.713541        227.709895       9.979726            3.184379   \n",
       "std            8.254985        164.712476      11.496042            4.211534   \n",
       "min          -15.000000          0.000000       0.000000            0.000000   \n",
       "25%            0.000000         80.000000       0.900000            0.100000   \n",
       "50%            5.000000        198.000000       5.290000            1.300000   \n",
       "75%           13.000000        359.000000      16.050000            4.600000   \n",
       "max           36.000000        848.000000      52.333333           17.700000   \n",
       "\n",
       "       carbohydrates_100g    sugars_100g  proteins_100g      salt_100g  \\\n",
       "count       332627.000000  332627.000000  332627.000000  332627.000000   \n",
       "mean            26.049344       8.736099       7.581436       0.764126   \n",
       "std             25.435364      10.946360       6.815515       0.766564   \n",
       "min              0.000000       0.000000       0.000000       0.000000   \n",
       "25%              4.800000       1.000000       2.000000       0.100000   \n",
       "50%             14.300000       3.600000       6.000000       0.600000   \n",
       "75%             48.080000      12.000000      11.400000       1.200000   \n",
       "max            113.000000      44.099998      28.800000       3.392857   \n",
       "\n",
       "         sodium_100g  \n",
       "count  332627.000000  \n",
       "mean        0.305652  \n",
       "std         0.306629  \n",
       "min         0.000000  \n",
       "25%         0.040000  \n",
       "50%         0.240000  \n",
       "75%         0.480000  \n",
       "max         1.357143  "
      ]
     },
     "execution_count": 28,
     "metadata": {},
     "output_type": "execute_result"
    }
   ],
   "source": [
    "df_no_na.describe()"
   ]
  },
  {
   "cell_type": "code",
   "execution_count": 29,
   "id": "5b9f02ff-1938-4955-83dd-47fe373a351e",
   "metadata": {},
   "outputs": [],
   "source": [
    "df_no_na.to_csv(\"openfoodfacts_clean.csv\", index=False)"
   ]
  }
 ],
 "metadata": {
  "kernelspec": {
   "display_name": "Python 3",
   "language": "python",
   "name": "python3"
  },
  "language_info": {
   "codemirror_mode": {
    "name": "ipython",
    "version": 3
   },
   "file_extension": ".py",
   "mimetype": "text/x-python",
   "name": "python",
   "nbconvert_exporter": "python",
   "pygments_lexer": "ipython3",
   "version": "3.8.10"
  }
 },
 "nbformat": 4,
 "nbformat_minor": 5
}
