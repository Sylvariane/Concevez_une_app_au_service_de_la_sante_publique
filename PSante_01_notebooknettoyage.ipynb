{
 "cells": [
  {
   "cell_type": "markdown",
   "id": "9c2caaaa-250c-4aa3-bac4-ee08cda451f2",
   "metadata": {},
   "source": [
    "# Nettoyage du jeu de données \"Open Facts Food\""
   ]
  },
  {
   "cell_type": "code",
   "execution_count": 1,
   "id": "64b87de5-ac56-4112-b1cf-023a2f60695a",
   "metadata": {},
   "outputs": [],
   "source": [
    "# importation des librairies nécessaires\n",
    "\n",
    "import numpy as np\n",
    "import pandas as pd\n",
    "import scipy.stats as stats\n",
    "import dask.dataframe as dd\n",
    "import matplotlib.pyplot as plt\n",
    "import seaborn as sns\n",
    "import missingno as msno"
   ]
  },
  {
   "cell_type": "code",
   "execution_count": 2,
   "id": "300b91b3-c80a-4a62-ad52-c549a6806f15",
   "metadata": {},
   "outputs": [],
   "source": [
    "# importation du jeu de données\n",
    "filename = \"openfoodfacts_data.csv\"\n",
    "df = dd.read_csv(filename, dtype='object', sep='\\t')"
   ]
  },
  {
   "cell_type": "code",
   "execution_count": null,
   "id": "dbe9cd81-9daa-4ad7-b4f5-7b2ed4c4b47d",
   "metadata": {},
   "outputs": [],
   "source": [
    "# Transformation du dataframe Dask en dataframe Pandas\n",
    "df = df.compute()"
   ]
  },
  {
   "cell_type": "markdown",
   "id": "47017df8-8779-43e4-bcc6-62487d44b53f",
   "metadata": {},
   "source": [
    "## 1) Traitement des valeurs manquantes"
   ]
  },
  {
   "cell_type": "markdown",
   "id": "7e2452b5-742b-4ab7-99b3-8e3bf885f37e",
   "metadata": {},
   "source": [
    "Toutes les colonnes où on observe un pourcentage supérieur à 75% sont supprimées du jeu de données. "
   ]
  },
  {
   "cell_type": "code",
   "execution_count": null,
   "id": "dadcaf80-d5d6-4356-bc20-687d8f4d334a",
   "metadata": {},
   "outputs": [],
   "source": [
    "df = df.loc[:, df.isnull().mean() <.75]"
   ]
  },
  {
   "cell_type": "code",
   "execution_count": null,
   "id": "0dcffb48-7c12-4783-adcc-f79e9bb25aa1",
   "metadata": {},
   "outputs": [],
   "source": [
    "# Affichage du pourcentage de donneés manquantes\n",
    "df.isnull().mean() * 100"
   ]
  },
  {
   "cell_type": "code",
   "execution_count": null,
   "id": "c6377476-09f2-4c40-af49-4c75a43701dc",
   "metadata": {},
   "outputs": [],
   "source": [
    "%matplotlib inline\n",
    "msno.matrix(df)"
   ]
  },
  {
   "cell_type": "code",
   "execution_count": null,
   "id": "7d69f251-d12b-4453-98fc-d0754bacda1e",
   "metadata": {},
   "outputs": [],
   "source": [
    "df.head()"
   ]
  },
  {
   "cell_type": "code",
   "execution_count": null,
   "id": "95e61c70-f5c7-41b3-a1dd-ba2785df4a67",
   "metadata": {},
   "outputs": [],
   "source": [
    "# modification des types du dataset en float quand cela est nécessaire\n",
    "for col in df.columns:\n",
    "    if df[col].dtype == object:\n",
    "        df[col] = pd.to_numeric(df[col].str.replace(',', '.'), errors='ignore')"
   ]
  },
  {
   "cell_type": "code",
   "execution_count": null,
   "id": "f8301b57-55a1-4fee-8ef8-e176f4e0ed1c",
   "metadata": {},
   "outputs": [],
   "source": [
    "col_cat = [\"additives_n\", \"ingredients_from_palm_oil_n\", \"ingredients_that_may_be_from_palm_oil_n\",\n",
    "           \"nutriscore_score\", \"nova_group\"]\n",
    "\n",
    "for col in col_cat:\n",
    "    df[col] = df[col].astype(\"object\")"
   ]
  },
  {
   "cell_type": "code",
   "execution_count": null,
   "id": "e0b44b2b-568a-4094-af73-de254853db41",
   "metadata": {},
   "outputs": [],
   "source": [
    "df[\"created_datetime\"] = pd.to_datetime(df[\"created_datetime\"], format=\"%Y-%m-%d %H:%M:%S.%f\", utc=True)\n",
    "df['created_date'] = pd.to_datetime(df['created_datetime'], format='%d:%m:%Y').dt.date\n",
    "df['created_years'] = pd.to_datetime(df['created_datetime'], format='%d:%m:%Y').dt.year\n",
    "\n",
    "df[\"last_modified_datetime\"] = pd.to_datetime(df[\"last_modified_datetime\"], format=\"%Y-%m-%d %H:%M:%S.%f\", utc=True)\n",
    "df['last_modified_date'] = pd.to_datetime(df['last_modified_datetime'], format='%d:%m:%Y').dt.date\n",
    "df['last_modified_years'] = pd.to_datetime(df['last_modified_datetime'], format='%d:%m:%Y').dt.year"
   ]
  },
  {
   "cell_type": "code",
   "execution_count": null,
   "id": "56163722-2910-4485-a3e4-b9cf11c663fc",
   "metadata": {},
   "outputs": [],
   "source": [
    "df.info()"
   ]
  },
  {
   "cell_type": "code",
   "execution_count": null,
   "id": "c89c4da0-37cb-41aa-92f6-3361a32aca9d",
   "metadata": {},
   "outputs": [],
   "source": [
    "df.describe()"
   ]
  },
  {
   "cell_type": "code",
   "execution_count": null,
   "id": "23c9229b-f95c-46ce-9f9f-648693f679ce",
   "metadata": {},
   "outputs": [],
   "source": [
    "df.shape"
   ]
  },
  {
   "cell_type": "markdown",
   "id": "54ca1bdf-300e-4960-946a-9766f32932c0",
   "metadata": {},
   "source": [
    "Pour finir le traitement des valeurs manquantes, il faudra choisir entre plusieurs méthodes : \n",
    "- Enlever les valeurs manquantes (via la méthode dropna)\n",
    "- Remplacer les valeurs manquantes avec la médiane\n",
    "- Remplacer les valeurs manquantes avec la moyenne\n",
    "\n",
    "Avant de procéder à cette étape, on va s'intéresser à deux autres points : le traitement des donneés dupliquées ainsi que l'étude des anomalies."
   ]
  },
  {
   "cell_type": "markdown",
   "id": "82d086b0-54d3-45db-90cd-2015b6ad750a",
   "metadata": {},
   "source": [
    "## 2) Traitement des données dupliquées"
   ]
  },
  {
   "cell_type": "markdown",
   "id": "250563b5-8ce7-47c0-a449-dbb9574ac1dc",
   "metadata": {},
   "source": [
    "Il y a deux types de données dupliquées : \n",
    "- Celles qui correspondent à des colonnes dont les noms sont différents mais donnent la même information (les colonnes _en ou _tags par exemple)\n",
    "- Celles que l'on peut enlever à l'aide des méthodes. duplicated() et .drop_duplicates()\n",
    "\n",
    "Dans un premier temps, nous allons nous créer une liste avec les noms des colonnes à supprimer (avec le suffixe _en ou _tags). Ensuite, on cherchera à supprimer les données dupliquées à l'aide des méthodes spécifiques des dataframes Pandas. "
   ]
  },
  {
   "cell_type": "markdown",
   "id": "e9cb4ad1-cf53-4af3-8475-de870a3f2479",
   "metadata": {},
   "source": [
    "#### a) Suppression des colonnes redondantes"
   ]
  },
  {
   "cell_type": "code",
   "execution_count": null,
   "id": "6aff96cb-e76a-4cd1-be93-2b7e00ff0479",
   "metadata": {},
   "outputs": [],
   "source": [
    "drop_cols = [\"created_datetime\", \"last_modified_datetime\", \"created_t\", \"last_modified_t\", \"brands_tags\", \"categories_tags\", \"categories_en\", \"countries_tags\", \"countries_en\", \"states_tags\", \"states_en\",\n",
    "             \"main_category_en\", \"image_small_url\", \"image_ingredients_small_url\", \"image_nutrition_small_url\", \"nutrition-score-fr_100g\"]"
   ]
  },
  {
   "cell_type": "code",
   "execution_count": null,
   "id": "c7f8de35-7185-4e01-9418-754bb4cc4fa0",
   "metadata": {},
   "outputs": [],
   "source": [
    "df.drop(drop_cols, axis=1, inplace=True)"
   ]
  },
  {
   "cell_type": "markdown",
   "id": "ac261428-614c-4290-9dd2-cd94be47d921",
   "metadata": {},
   "source": [
    "#### b) Suppression des informations dupliquées avec .drop_duplicates() et .duplicated()"
   ]
  },
  {
   "cell_type": "code",
   "execution_count": null,
   "id": "4ade9777-8ccc-4aa4-a69c-0f0e6251ad33",
   "metadata": {},
   "outputs": [],
   "source": [
    "dupl = df.duplicated()"
   ]
  },
  {
   "cell_type": "code",
   "execution_count": null,
   "id": "adfaa04b-f157-4a59-9d98-1f727d68f42a",
   "metadata": {},
   "outputs": [],
   "source": [
    "df_dupl = df[dupl]\n",
    "df_dupl.head()"
   ]
  },
  {
   "cell_type": "code",
   "execution_count": null,
   "id": "72c25a50-2079-4ce9-b08b-d061ca882aac",
   "metadata": {},
   "outputs": [],
   "source": [
    "df = df[~dupl]"
   ]
  },
  {
   "cell_type": "code",
   "execution_count": null,
   "id": "3f194786-f1ed-4790-a884-c9d24babb230",
   "metadata": {},
   "outputs": [],
   "source": [
    "df.shape"
   ]
  },
  {
   "cell_type": "markdown",
   "id": "0d8da8ee-521c-4f3f-856f-d9f5f75754c4",
   "metadata": {},
   "source": [
    "Le traitement des données dupliquées montre qu'il y a trois variables qui étaient dupliquées."
   ]
  },
  {
   "cell_type": "markdown",
   "id": "513e7f1e-376a-4a94-977c-20bf610889ea",
   "metadata": {},
   "source": [
    "## Détection des outliers"
   ]
  },
  {
   "cell_type": "code",
   "execution_count": null,
   "id": "0ab121bb-de9e-4117-93eb-a24000edb1f2",
   "metadata": {},
   "outputs": [],
   "source": [
    "for var in df.columns:\n",
    "    if df[var].dtypes == 'float64':\n",
    "        sns.boxplot(x=var, data=df)\n",
    "        plt.title(var)\n",
    "        plt.show()"
   ]
  },
  {
   "cell_type": "markdown",
   "id": "11071d44-cedc-483c-b5da-b8e303c50dda",
   "metadata": {},
   "source": [
    "## Traitement des outliers à l'aide de la médiane (IQR)"
   ]
  },
  {
   "cell_type": "code",
   "execution_count": null,
   "id": "c3342aa8-8cc3-4a5e-b89b-6fc65f4ba8a8",
   "metadata": {},
   "outputs": [],
   "source": [
    "q1 = df.quantile(0.25)\n",
    "q3 = df.quantile(0.75)\n",
    "iqr = q3 - q1\n",
    "lower_bound = q1 - 1.5 * iqr\n",
    "upper_bound = q3 + 1.5 * iqr\n",
    "print(lower_bound)\n",
    "print(upper_bound)"
   ]
  },
  {
   "cell_type": "code",
   "execution_count": null,
   "id": "4faae6da-a10f-42ce-b129-c240cc4d48f0",
   "metadata": {},
   "outputs": [],
   "source": [
    "import warnings\n",
    "warnings.filterwarnings(\"ignore\")\n",
    "\n",
    "df_clean = df[~((df < lower_bound) | (df > upper_bound)).any(axis=1)]\n",
    "df_clean.shape"
   ]
  },
  {
   "cell_type": "code",
   "execution_count": null,
   "id": "61a9eb62-fab9-4bbd-8f2a-b8e34ef079f2",
   "metadata": {},
   "outputs": [],
   "source": [
    "for var in df_clean.columns:\n",
    "    if df_clean[var].dtypes == 'float64':\n",
    "        sns.boxplot(x=var, data=df_clean)\n",
    "        plt.title(var)\n",
    "        plt.show()"
   ]
  },
  {
   "cell_type": "code",
   "execution_count": null,
   "id": "235c0c37-b6d1-420c-9a55-16ef6ea7a87a",
   "metadata": {},
   "outputs": [],
   "source": [
    "df_clean.describe()"
   ]
  },
  {
   "cell_type": "markdown",
   "id": "4f8d52b5-bee4-4788-8693-ac9c5924d974",
   "metadata": {},
   "source": [
    "## Traitement des valeurs manquantes (suite)"
   ]
  },
  {
   "cell_type": "markdown",
   "id": "99f5cbea-ea79-4cd1-b586-6e7346071665",
   "metadata": {},
   "source": [
    "Nos valeurs ont été nettoyées des données aberrantes et on se rend compte que l'index glycémique ne contient qu'une seule valeur. On va donc enlever cette variable de notre étude. Il existe deux variables qui rassemblent les données du nutriscore et elles sont identiques. On va donc en supprimer une pour éviter la redondance dans notre dataset. "
   ]
  },
  {
   "cell_type": "markdown",
   "id": "4378f6fd-98e7-4bf8-8dbb-4810a14a34bc",
   "metadata": {},
   "source": [
    "### Retrait des valeurs manquantes"
   ]
  },
  {
   "cell_type": "code",
   "execution_count": null,
   "id": "39c18659-52d6-4ca6-904c-816958034868",
   "metadata": {},
   "outputs": [],
   "source": [
    "df = df_clean.copy()"
   ]
  },
  {
   "cell_type": "code",
   "execution_count": null,
   "id": "e518781d-cee1-44a6-9ae8-512329fcaf79",
   "metadata": {},
   "outputs": [],
   "source": [
    "df_clean_no_na = df.dropna()"
   ]
  },
  {
   "cell_type": "code",
   "execution_count": null,
   "id": "b2c679ff-13a7-44bc-a41b-c9cacf589f90",
   "metadata": {},
   "outputs": [],
   "source": [
    "%matplotlib inline\n",
    "msno.matrix(df_clean_no_na)"
   ]
  },
  {
   "cell_type": "code",
   "execution_count": null,
   "id": "bb0a43d7-24f7-4c19-843b-fcc156f2db86",
   "metadata": {},
   "outputs": [],
   "source": [
    "df_clean_no_na.describe()"
   ]
  },
  {
   "cell_type": "code",
   "execution_count": null,
   "id": "e7bf00d8-47c4-43ce-b8d8-9684aef5b795",
   "metadata": {},
   "outputs": [],
   "source": [
    "df_clean_no_na.shape"
   ]
  },
  {
   "cell_type": "code",
   "execution_count": null,
   "id": "5b9f02ff-1938-4955-83dd-47fe373a351e",
   "metadata": {},
   "outputs": [],
   "source": [
    "df_clean_no_na.to_csv(\"openfoodfacts_clean.csv\", index=False)"
   ]
  },
  {
   "cell_type": "markdown",
   "id": "38b51cae-054d-4922-995a-06b4cb6534ec",
   "metadata": {},
   "source": [
    "### Remplacement des valeurs manquantes par la valeur médiane"
   ]
  },
  {
   "cell_type": "code",
   "execution_count": null,
   "id": "3d5a434b-4248-4cca-82e8-493a80d2dac4",
   "metadata": {},
   "outputs": [],
   "source": [
    "df_clean_med = df.copy()"
   ]
  },
  {
   "cell_type": "code",
   "execution_count": null,
   "id": "f6aaa71c-0c0e-44e3-94b8-6631701de0d6",
   "metadata": {},
   "outputs": [],
   "source": [
    "df_clean_med.fillna(df.median(), inplace=True)"
   ]
  },
  {
   "cell_type": "code",
   "execution_count": null,
   "id": "547c5348-31c5-4acd-b5ed-131ca2ab4b5f",
   "metadata": {},
   "outputs": [],
   "source": [
    "msno.matrix(df_clean_med)"
   ]
  },
  {
   "cell_type": "code",
   "execution_count": null,
   "id": "062b861a-c981-4ce7-b329-4cf2b636f86b",
   "metadata": {},
   "outputs": [],
   "source": [
    "df_clean_med.describe()"
   ]
  },
  {
   "cell_type": "code",
   "execution_count": null,
   "id": "573efef3-8776-46c4-b650-41ff597c4226",
   "metadata": {},
   "outputs": [],
   "source": [
    "df_clean_med.shape"
   ]
  },
  {
   "cell_type": "code",
   "execution_count": null,
   "id": "fc8ca3b3-bd61-4873-8f11-7426165c0883",
   "metadata": {},
   "outputs": [],
   "source": [
    "df_clean_med.to_csv(\"openfoodfacts_clean_med.csv\", index=False)"
   ]
  },
  {
   "cell_type": "markdown",
   "id": "d4f2cad8-0c6d-4173-8306-a26a448cd699",
   "metadata": {},
   "source": [
    "### Remplacement des valeurs manquantes par la valeur moyenne"
   ]
  },
  {
   "cell_type": "code",
   "execution_count": null,
   "id": "458e8a13-cf17-4536-8cc8-df21015ffb70",
   "metadata": {},
   "outputs": [],
   "source": [
    "df_clean_mean = df.copy()"
   ]
  },
  {
   "cell_type": "code",
   "execution_count": null,
   "id": "a952b463-13f6-417f-803e-0ea0af7bd13b",
   "metadata": {},
   "outputs": [],
   "source": [
    "df_clean_mean.fillna(df.mean(), inplace=True)"
   ]
  },
  {
   "cell_type": "code",
   "execution_count": null,
   "id": "e2497ec3-0eaf-4dd4-89a9-e9c0470b1487",
   "metadata": {},
   "outputs": [],
   "source": [
    "msno.matrix(df_clean_mean)"
   ]
  },
  {
   "cell_type": "code",
   "execution_count": null,
   "id": "bc31fefe-287d-400f-9c9f-e5eeccb8b1b6",
   "metadata": {},
   "outputs": [],
   "source": [
    "df_clean_mean.describe()"
   ]
  },
  {
   "cell_type": "code",
   "execution_count": null,
   "id": "bc458fad-f261-4282-aad4-ba6515a8c670",
   "metadata": {},
   "outputs": [],
   "source": [
    "df_clean_mean.shape"
   ]
  },
  {
   "cell_type": "code",
   "execution_count": null,
   "id": "ad05bee5-d585-4889-841b-e0fb4cf1bc9e",
   "metadata": {},
   "outputs": [],
   "source": [
    "df_clean_mean.to_csv(\"openfoodfacts_clean_mean.csv\", index=False)"
   ]
  }
 ],
 "metadata": {
  "kernelspec": {
   "display_name": "Python 3",
   "language": "python",
   "name": "python3"
  },
  "language_info": {
   "codemirror_mode": {
    "name": "ipython",
    "version": 3
   },
   "file_extension": ".py",
   "mimetype": "text/x-python",
   "name": "python",
   "nbconvert_exporter": "python",
   "pygments_lexer": "ipython3",
   "version": "3.8.10"
  },
  "toc-autonumbering": false,
  "toc-showcode": false,
  "toc-showmarkdowntxt": false,
  "toc-showtags": false
 },
 "nbformat": 4,
 "nbformat_minor": 5
}
