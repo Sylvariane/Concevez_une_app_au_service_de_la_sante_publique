{
 "cells": [
  {
   "cell_type": "markdown",
   "id": "9c2caaaa-250c-4aa3-bac4-ee08cda451f2",
   "metadata": {},
   "source": [
    "# Nettoyage du jeu de données \"Open Facts Food\""
   ]
  },
  {
   "cell_type": "code",
   "execution_count": 1,
   "id": "64b87de5-ac56-4112-b1cf-023a2f60695a",
   "metadata": {},
   "outputs": [],
   "source": [
    "# importation des librairies nécessaires\n",
    "\n",
    "import numpy as np\n",
    "import pandas as pd\n",
    "import scipy.stats as stats\n",
    "import dask.dataframe as dd\n",
    "import matplotlib.pyplot as plt\n",
    "import seaborn as sns\n",
    "import missingno as msno"
   ]
  },
  {
   "cell_type": "code",
   "execution_count": 2,
   "id": "0ac0da38-7c73-492d-802e-bbbb8b5e36f5",
   "metadata": {},
   "outputs": [],
   "source": [
    "sns.set_palette(\"gnuplot2\")\n",
    "sns.set_theme(\"notebook\")"
   ]
  },
  {
   "cell_type": "code",
   "execution_count": 3,
   "id": "300b91b3-c80a-4a62-ad52-c549a6806f15",
   "metadata": {},
   "outputs": [],
   "source": [
    "# importation du jeu de données\n",
    "filename = \"openfoodfacts_data.csv\"\n",
    "df = dd.read_csv(filename, dtype='object', sep='\\t')"
   ]
  },
  {
   "cell_type": "code",
   "execution_count": 4,
   "id": "dbe9cd81-9daa-4ad7-b4f5-7b2ed4c4b47d",
   "metadata": {},
   "outputs": [],
   "source": [
    "# Transformation du dataframe Dask en dataframe Pandas\n",
    "df = df.compute()"
   ]
  },
  {
   "cell_type": "markdown",
   "id": "47017df8-8779-43e4-bcc6-62487d44b53f",
   "metadata": {},
   "source": [
    "## 1) Traitement des valeurs manquantes"
   ]
  },
  {
   "cell_type": "markdown",
   "id": "7e2452b5-742b-4ab7-99b3-8e3bf885f37e",
   "metadata": {},
   "source": [
    "Toutes les colonnes où on observe un pourcentage supérieur à 75% sont supprimées du jeu de données. "
   ]
  },
  {
   "cell_type": "code",
   "execution_count": 5,
   "id": "dadcaf80-d5d6-4356-bc20-687d8f4d334a",
   "metadata": {},
   "outputs": [],
   "source": [
    "df = df.loc[:, df.isnull().mean() <.75]"
   ]
  },
  {
   "cell_type": "code",
   "execution_count": 6,
   "id": "0dcffb48-7c12-4783-adcc-f79e9bb25aa1",
   "metadata": {},
   "outputs": [
    {
     "data": {
      "text/plain": [
       "code                                        0.000000\n",
       "url                                         0.000000\n",
       "creator                                     0.000218\n",
       "created_t                                   0.000000\n",
       "created_datetime                            0.000000\n",
       "last_modified_t                             0.000000\n",
       "last_modified_datetime                      0.000000\n",
       "product_name                                4.284886\n",
       "quantity                                   74.571574\n",
       "brands                                     48.276309\n",
       "brands_tags                                48.279520\n",
       "categories                                 52.479937\n",
       "categories_tags                            52.479992\n",
       "categories_en                              52.479992\n",
       "countries                                   0.305111\n",
       "countries_tags                              0.305383\n",
       "countries_en                                0.305383\n",
       "ingredients_text                           61.937775\n",
       "serving_size                               73.857508\n",
       "serving_quantity                           74.111785\n",
       "additives_n                                61.937721\n",
       "ingredients_from_palm_oil_n                61.937721\n",
       "ingredients_that_may_be_from_palm_oil_n    61.937721\n",
       "nutriscore_score                           63.125019\n",
       "nutriscore_grade                           63.125019\n",
       "nova_group                                 66.752006\n",
       "pnns_groups_1                               0.958873\n",
       "pnns_groups_2                               0.038098\n",
       "states                                      0.000000\n",
       "states_tags                                 0.000000\n",
       "states_en                                   0.000000\n",
       "main_category                              52.479992\n",
       "main_category_en                           52.479992\n",
       "image_url                                  24.722687\n",
       "image_small_url                            24.722687\n",
       "image_ingredients_url                      62.693205\n",
       "image_ingredients_small_url                62.693205\n",
       "image_nutrition_url                        50.183224\n",
       "image_nutrition_small_url                  50.183224\n",
       "energy-kcal_100g                           23.527824\n",
       "energy_100g                                20.655123\n",
       "fat_100g                                   21.094067\n",
       "saturated-fat_100g                         23.467574\n",
       "carbohydrates_100g                         21.118069\n",
       "sugars_100g                                22.039606\n",
       "fiber_100g                                 74.097362\n",
       "proteins_100g                              21.033382\n",
       "salt_100g                                  24.383179\n",
       "sodium_100g                                24.383397\n",
       "nutrition-score-fr_100g                    63.124801\n",
       "dtype: float64"
      ]
     },
     "execution_count": 6,
     "metadata": {},
     "output_type": "execute_result"
    }
   ],
   "source": [
    "# Affichage du pourcentage de donneés manquantes\n",
    "df.isnull().mean() * 100"
   ]
  },
  {
   "cell_type": "code",
   "execution_count": 7,
   "id": "c6377476-09f2-4c40-af49-4c75a43701dc",
   "metadata": {},
   "outputs": [
    {
     "data": {
      "text/plain": [
       "<AxesSubplot:>"
      ]
     },
     "execution_count": 7,
     "metadata": {},
     "output_type": "execute_result"
    },
    {
     "data": {
      "image/png": "[encoded data removed]",
      "text/plain": [
       "<Figure size 1800x720 with 2 Axes>"
      ]
     },
     "metadata": {
      "needs_background": "light"
     },
     "output_type": "display_data"
    }
   ],
   "source": [
    "%matplotlib inline\n",
    "msno.matrix(df)"
   ]
  },
  {
   "cell_type": "code",
   "execution_count": 8,
   "id": "7d69f251-d12b-4453-98fc-d0754bacda1e",
   "metadata": {},
   "outputs": [
    {
     "data": {
      "text/html": [
       "<div>\n",
       "<style scoped>\n",
       "    .dataframe tbody tr th:only-of-type {\n",
       "        vertical-align: middle;\n",
       "    }\n",
       "\n",
       "    .dataframe tbody tr th {\n",
       "        vertical-align: top;\n",
       "    }\n",
       "\n",
       "    .dataframe thead th {\n",
       "        text-align: right;\n",
       "    }\n",
       "</style>\n",
       "<table border=\"1\" class=\"dataframe\">\n",
       "  <thead>\n",
       "    <tr style=\"text-align: right;\">\n",
       "      <th></th>\n",
       "      <th>code</th>\n",
       "      <th>url</th>\n",
       "      <th>creator</th>\n",
       "      <th>created_t</th>\n",
       "      <th>created_datetime</th>\n",
       "      <th>last_modified_t</th>\n",
       "      <th>last_modified_datetime</th>\n",
       "      <th>product_name</th>\n",
       "      <th>quantity</th>\n",
       "      <th>brands</th>\n",
       "      <th>...</th>\n",
       "      <th>energy_100g</th>\n",
       "      <th>fat_100g</th>\n",
       "      <th>saturated-fat_100g</th>\n",
       "      <th>carbohydrates_100g</th>\n",
       "      <th>sugars_100g</th>\n",
       "      <th>fiber_100g</th>\n",
       "      <th>proteins_100g</th>\n",
       "      <th>salt_100g</th>\n",
       "      <th>sodium_100g</th>\n",
       "      <th>nutrition-score-fr_100g</th>\n",
       "    </tr>\n",
       "  </thead>\n",
       "  <tbody>\n",
       "    <tr>\n",
       "      <th>0</th>\n",
       "      <td>00000000000000225</td>\n",
       "      <td>http://world-en.openfoodfacts.org/product/0000...</td>\n",
       "      <td>nutrinet-sante</td>\n",
       "      <td>1623855208</td>\n",
       "      <td>2021-06-16T14:53:28Z</td>\n",
       "      <td>1623855209</td>\n",
       "      <td>2021-06-16T14:53:29Z</td>\n",
       "      <td>jeunes pousses</td>\n",
       "      <td>NaN</td>\n",
       "      <td>endives</td>\n",
       "      <td>...</td>\n",
       "      <td>NaN</td>\n",
       "      <td>NaN</td>\n",
       "      <td>NaN</td>\n",
       "      <td>NaN</td>\n",
       "      <td>NaN</td>\n",
       "      <td>NaN</td>\n",
       "      <td>NaN</td>\n",
       "      <td>NaN</td>\n",
       "      <td>NaN</td>\n",
       "      <td>NaN</td>\n",
       "    </tr>\n",
       "    <tr>\n",
       "      <th>1</th>\n",
       "      <td>0000000000017</td>\n",
       "      <td>http://world-en.openfoodfacts.org/product/0000...</td>\n",
       "      <td>kiliweb</td>\n",
       "      <td>1529059080</td>\n",
       "      <td>2018-06-15T10:38:00Z</td>\n",
       "      <td>1561463718</td>\n",
       "      <td>2019-06-25T11:55:18Z</td>\n",
       "      <td>Vitória crackers</td>\n",
       "      <td>NaN</td>\n",
       "      <td>NaN</td>\n",
       "      <td>...</td>\n",
       "      <td>1569</td>\n",
       "      <td>7</td>\n",
       "      <td>3.08</td>\n",
       "      <td>70.1</td>\n",
       "      <td>15</td>\n",
       "      <td>NaN</td>\n",
       "      <td>7.8</td>\n",
       "      <td>1.4</td>\n",
       "      <td>0.56</td>\n",
       "      <td>NaN</td>\n",
       "    </tr>\n",
       "    <tr>\n",
       "      <th>2</th>\n",
       "      <td>0000000000031</td>\n",
       "      <td>http://world-en.openfoodfacts.org/product/0000...</td>\n",
       "      <td>isagoofy</td>\n",
       "      <td>1539464774</td>\n",
       "      <td>2018-10-13T21:06:14Z</td>\n",
       "      <td>1539464817</td>\n",
       "      <td>2018-10-13T21:06:57Z</td>\n",
       "      <td>Cacao</td>\n",
       "      <td>130 g</td>\n",
       "      <td>NaN</td>\n",
       "      <td>...</td>\n",
       "      <td>NaN</td>\n",
       "      <td>NaN</td>\n",
       "      <td>NaN</td>\n",
       "      <td>NaN</td>\n",
       "      <td>NaN</td>\n",
       "      <td>NaN</td>\n",
       "      <td>NaN</td>\n",
       "      <td>NaN</td>\n",
       "      <td>NaN</td>\n",
       "      <td>NaN</td>\n",
       "    </tr>\n",
       "    <tr>\n",
       "      <th>3</th>\n",
       "      <td>000000000003327986</td>\n",
       "      <td>http://world-en.openfoodfacts.org/product/0000...</td>\n",
       "      <td>kiliweb</td>\n",
       "      <td>1574175736</td>\n",
       "      <td>2019-11-19T15:02:16Z</td>\n",
       "      <td>1574175737</td>\n",
       "      <td>2019-11-19T15:02:17Z</td>\n",
       "      <td>Filetes de pollo empanado</td>\n",
       "      <td>NaN</td>\n",
       "      <td>NaN</td>\n",
       "      <td>...</td>\n",
       "      <td>NaN</td>\n",
       "      <td>NaN</td>\n",
       "      <td>NaN</td>\n",
       "      <td>NaN</td>\n",
       "      <td>NaN</td>\n",
       "      <td>NaN</td>\n",
       "      <td>NaN</td>\n",
       "      <td>NaN</td>\n",
       "      <td>NaN</td>\n",
       "      <td>NaN</td>\n",
       "    </tr>\n",
       "    <tr>\n",
       "      <th>4</th>\n",
       "      <td>000000000004622327</td>\n",
       "      <td>http://world-en.openfoodfacts.org/product/0000...</td>\n",
       "      <td>kiliweb</td>\n",
       "      <td>1619501895</td>\n",
       "      <td>2021-04-27T05:38:15Z</td>\n",
       "      <td>1619501897</td>\n",
       "      <td>2021-04-27T05:38:17Z</td>\n",
       "      <td>Hamburguesas de ternera 100%</td>\n",
       "      <td>NaN</td>\n",
       "      <td>NaN</td>\n",
       "      <td>...</td>\n",
       "      <td>3661</td>\n",
       "      <td>15.1</td>\n",
       "      <td>6.1</td>\n",
       "      <td>2.6</td>\n",
       "      <td>1</td>\n",
       "      <td>NaN</td>\n",
       "      <td>15.7</td>\n",
       "      <td>2.1</td>\n",
       "      <td>0.84</td>\n",
       "      <td>NaN</td>\n",
       "    </tr>\n",
       "  </tbody>\n",
       "</table>\n",
       "<p>5 rows × 50 columns</p>\n",
       "</div>"
      ],
      "text/plain": [
       "                 code                                                url  \\\n",
       "0   00000000000000225  http://world-en.openfoodfacts.org/product/0000...   \n",
       "1       0000000000017  http://world-en.openfoodfacts.org/product/0000...   \n",
       "2       0000000000031  http://world-en.openfoodfacts.org/product/0000...   \n",
       "3  000000000003327986  http://world-en.openfoodfacts.org/product/0000...   \n",
       "4  000000000004622327  http://world-en.openfoodfacts.org/product/0000...   \n",
       "\n",
       "          creator   created_t      created_datetime last_modified_t  \\\n",
       "0  nutrinet-sante  1623855208  2021-06-16T14:53:28Z      1623855209   \n",
       "1         kiliweb  1529059080  2018-06-15T10:38:00Z      1561463718   \n",
       "2        isagoofy  1539464774  2018-10-13T21:06:14Z      1539464817   \n",
       "3         kiliweb  1574175736  2019-11-19T15:02:16Z      1574175737   \n",
       "4         kiliweb  1619501895  2021-04-27T05:38:15Z      1619501897   \n",
       "\n",
       "  last_modified_datetime                  product_name quantity   brands  ...  \\\n",
       "0   2021-06-16T14:53:29Z                jeunes pousses      NaN  endives  ...   \n",
       "1   2019-06-25T11:55:18Z              Vitória crackers      NaN      NaN  ...   \n",
       "2   2018-10-13T21:06:57Z                         Cacao    130 g      NaN  ...   \n",
       "3   2019-11-19T15:02:17Z     Filetes de pollo empanado      NaN      NaN  ...   \n",
       "4   2021-04-27T05:38:17Z  Hamburguesas de ternera 100%      NaN      NaN  ...   \n",
       "\n",
       "  energy_100g fat_100g saturated-fat_100g carbohydrates_100g sugars_100g  \\\n",
       "0         NaN      NaN                NaN                NaN         NaN   \n",
       "1        1569        7               3.08               70.1          15   \n",
       "2         NaN      NaN                NaN                NaN         NaN   \n",
       "3         NaN      NaN                NaN                NaN         NaN   \n",
       "4        3661     15.1                6.1                2.6           1   \n",
       "\n",
       "  fiber_100g proteins_100g salt_100g sodium_100g nutrition-score-fr_100g  \n",
       "0        NaN           NaN       NaN         NaN                     NaN  \n",
       "1        NaN           7.8       1.4        0.56                     NaN  \n",
       "2        NaN           NaN       NaN         NaN                     NaN  \n",
       "3        NaN           NaN       NaN         NaN                     NaN  \n",
       "4        NaN          15.7       2.1        0.84                     NaN  \n",
       "\n",
       "[5 rows x 50 columns]"
      ]
     },
     "execution_count": 8,
     "metadata": {},
     "output_type": "execute_result"
    }
   ],
   "source": [
    "df.head()"
   ]
  },
  {
   "cell_type": "markdown",
   "id": "a97f867f-3ad8-406d-8623-d12524e8db7e",
   "metadata": {},
   "source": [
    "## 2) Modification des types"
   ]
  },
  {
   "cell_type": "code",
   "execution_count": 9,
   "id": "95e61c70-f5c7-41b3-a1dd-ba2785df4a67",
   "metadata": {},
   "outputs": [],
   "source": [
    "# modification des types du dataset en float quand cela est nécessaire\n",
    "for col in df.columns:\n",
    "    if df[col].dtype == object:\n",
    "        df[col] = pd.to_numeric(df[col].str.replace(',', '.'), errors='ignore')"
   ]
  },
  {
   "cell_type": "code",
   "execution_count": 10,
   "id": "f8301b57-55a1-4fee-8ef8-e176f4e0ed1c",
   "metadata": {},
   "outputs": [],
   "source": [
    "col_cat = [\"additives_n\", \"ingredients_from_palm_oil_n\", \"ingredients_that_may_be_from_palm_oil_n\",\n",
    "           \"nutriscore_score\", \"nova_group\"]\n",
    "\n",
    "for col in col_cat:\n",
    "    df[col] = df[col].astype(\"object\")"
   ]
  },
  {
   "cell_type": "code",
   "execution_count": 11,
   "id": "e0b44b2b-568a-4094-af73-de254853db41",
   "metadata": {},
   "outputs": [],
   "source": [
    "df[\"created_datetime\"] = pd.to_datetime(df[\"created_datetime\"], format=\"%Y-%m-%d %H:%M:%S.%f\", utc=True)\n",
    "df['created_date'] = pd.to_datetime(df['created_datetime'], format='%d:%m:%Y').dt.date\n",
    "df['created_years'] = pd.to_datetime(df['created_datetime'], format='%d:%m:%Y').dt.year\n",
    "\n",
    "df[\"last_modified_datetime\"] = pd.to_datetime(df[\"last_modified_datetime\"], format=\"%Y-%m-%d %H:%M:%S.%f\", utc=True)\n",
    "df['last_modified_date'] = pd.to_datetime(df['last_modified_datetime'], format='%d:%m:%Y').dt.date\n",
    "df['last_modified_years'] = pd.to_datetime(df['last_modified_datetime'], format='%d:%m:%Y').dt.year"
   ]
  },
  {
   "cell_type": "code",
   "execution_count": 12,
   "id": "56163722-2910-4485-a3e4-b9cf11c663fc",
   "metadata": {},
   "outputs": [
    {
     "name": "stdout",
     "output_type": "stream",
     "text": [
      "<class 'pandas.core.frame.DataFrame'>\n",
      "Int64Index: 1837365 entries, 0 to 16613\n",
      "Data columns (total 54 columns):\n",
      " #   Column                                   Dtype              \n",
      "---  ------                                   -----              \n",
      " 0   code                                     object             \n",
      " 1   url                                      object             \n",
      " 2   creator                                  object             \n",
      " 3   created_t                                int64              \n",
      " 4   created_datetime                         datetime64[ns, UTC]\n",
      " 5   last_modified_t                          int64              \n",
      " 6   last_modified_datetime                   datetime64[ns, UTC]\n",
      " 7   product_name                             object             \n",
      " 8   quantity                                 object             \n",
      " 9   brands                                   object             \n",
      " 10  brands_tags                              object             \n",
      " 11  categories                               object             \n",
      " 12  categories_tags                          object             \n",
      " 13  categories_en                            object             \n",
      " 14  countries                                object             \n",
      " 15  countries_tags                           object             \n",
      " 16  countries_en                             object             \n",
      " 17  ingredients_text                         object             \n",
      " 18  serving_size                             object             \n",
      " 19  serving_quantity                         float64            \n",
      " 20  additives_n                              object             \n",
      " 21  ingredients_from_palm_oil_n              object             \n",
      " 22  ingredients_that_may_be_from_palm_oil_n  object             \n",
      " 23  nutriscore_score                         object             \n",
      " 24  nutriscore_grade                         object             \n",
      " 25  nova_group                               object             \n",
      " 26  pnns_groups_1                            object             \n",
      " 27  pnns_groups_2                            object             \n",
      " 28  states                                   object             \n",
      " 29  states_tags                              object             \n",
      " 30  states_en                                object             \n",
      " 31  main_category                            object             \n",
      " 32  main_category_en                         object             \n",
      " 33  image_url                                object             \n",
      " 34  image_small_url                          object             \n",
      " 35  image_ingredients_url                    object             \n",
      " 36  image_ingredients_small_url              object             \n",
      " 37  image_nutrition_url                      object             \n",
      " 38  image_nutrition_small_url                object             \n",
      " 39  energy-kcal_100g                         float64            \n",
      " 40  energy_100g                              float64            \n",
      " 41  fat_100g                                 float64            \n",
      " 42  saturated-fat_100g                       float64            \n",
      " 43  carbohydrates_100g                       float64            \n",
      " 44  sugars_100g                              float64            \n",
      " 45  fiber_100g                               float64            \n",
      " 46  proteins_100g                            float64            \n",
      " 47  salt_100g                                float64            \n",
      " 48  sodium_100g                              float64            \n",
      " 49  nutrition-score-fr_100g                  float64            \n",
      " 50  created_date                             object             \n",
      " 51  created_years                            int64              \n",
      " 52  last_modified_date                       object             \n",
      " 53  last_modified_years                      int64              \n",
      "dtypes: datetime64[ns, UTC](2), float64(12), int64(4), object(36)\n",
      "memory usage: 771.0+ MB\n"
     ]
    }
   ],
   "source": [
    "df.info()"
   ]
  },
  {
   "cell_type": "code",
   "execution_count": 13,
   "id": "c89c4da0-37cb-41aa-92f6-3361a32aca9d",
   "metadata": {},
   "outputs": [
    {
     "data": {
      "text/html": [
       "<div>\n",
       "<style scoped>\n",
       "    .dataframe tbody tr th:only-of-type {\n",
       "        vertical-align: middle;\n",
       "    }\n",
       "\n",
       "    .dataframe tbody tr th {\n",
       "        vertical-align: top;\n",
       "    }\n",
       "\n",
       "    .dataframe thead th {\n",
       "        text-align: right;\n",
       "    }\n",
       "</style>\n",
       "<table border=\"1\" class=\"dataframe\">\n",
       "  <thead>\n",
       "    <tr style=\"text-align: right;\">\n",
       "      <th></th>\n",
       "      <th>created_t</th>\n",
       "      <th>last_modified_t</th>\n",
       "      <th>serving_quantity</th>\n",
       "      <th>energy-kcal_100g</th>\n",
       "      <th>energy_100g</th>\n",
       "      <th>fat_100g</th>\n",
       "      <th>saturated-fat_100g</th>\n",
       "      <th>carbohydrates_100g</th>\n",
       "      <th>sugars_100g</th>\n",
       "      <th>fiber_100g</th>\n",
       "      <th>proteins_100g</th>\n",
       "      <th>salt_100g</th>\n",
       "      <th>sodium_100g</th>\n",
       "      <th>nutrition-score-fr_100g</th>\n",
       "      <th>created_years</th>\n",
       "      <th>last_modified_years</th>\n",
       "    </tr>\n",
       "  </thead>\n",
       "  <tbody>\n",
       "    <tr>\n",
       "      <th>count</th>\n",
       "      <td>1.837365e+06</td>\n",
       "      <td>1.837365e+06</td>\n",
       "      <td>4.756610e+05</td>\n",
       "      <td>1.405073e+06</td>\n",
       "      <td>1.457855e+06</td>\n",
       "      <td>1.449790e+06</td>\n",
       "      <td>1.406180e+06</td>\n",
       "      <td>1.449349e+06</td>\n",
       "      <td>1.432417e+06</td>\n",
       "      <td>475926.000000</td>\n",
       "      <td>1.450905e+06</td>\n",
       "      <td>1.389357e+06</td>\n",
       "      <td>1.389353e+06</td>\n",
       "      <td>677532.000000</td>\n",
       "      <td>1.837365e+06</td>\n",
       "      <td>1.837365e+06</td>\n",
       "    </tr>\n",
       "    <tr>\n",
       "      <th>mean</th>\n",
       "      <td>1.554378e+09</td>\n",
       "      <td>1.589384e+09</td>\n",
       "      <td>2.335939e+16</td>\n",
       "      <td>6.250851e+06</td>\n",
       "      <td>4.572169e+36</td>\n",
       "      <td>1.471324e+01</td>\n",
       "      <td>1.226623e+01</td>\n",
       "      <td>2.882682e+01</td>\n",
       "      <td>1.398868e+01</td>\n",
       "      <td>5.135814</td>\n",
       "      <td>8.778622e+00</td>\n",
       "      <td>2.882045e+00</td>\n",
       "      <td>1.152853e+00</td>\n",
       "      <td>9.171624</td>\n",
       "      <td>2.018832e+03</td>\n",
       "      <td>2.019957e+03</td>\n",
       "    </tr>\n",
       "    <tr>\n",
       "      <th>std</th>\n",
       "      <td>5.108632e+07</td>\n",
       "      <td>2.937790e+07</td>\n",
       "      <td>1.611049e+19</td>\n",
       "      <td>7.334753e+09</td>\n",
       "      <td>5.520513e+39</td>\n",
       "      <td>8.538600e+02</td>\n",
       "      <td>8.432970e+03</td>\n",
       "      <td>6.434753e+02</td>\n",
       "      <td>8.358298e+02</td>\n",
       "      <td>1449.557263</td>\n",
       "      <td>1.452166e+02</td>\n",
       "      <td>8.593165e+02</td>\n",
       "      <td>3.437268e+02</td>\n",
       "      <td>8.874919</td>\n",
       "      <td>1.628261e+00</td>\n",
       "      <td>9.921528e-01</td>\n",
       "    </tr>\n",
       "    <tr>\n",
       "      <th>min</th>\n",
       "      <td>1.328021e+09</td>\n",
       "      <td>1.333873e+09</td>\n",
       "      <td>0.000000e+00</td>\n",
       "      <td>0.000000e+00</td>\n",
       "      <td>0.000000e+00</td>\n",
       "      <td>0.000000e+00</td>\n",
       "      <td>0.000000e+00</td>\n",
       "      <td>-1.000000e+00</td>\n",
       "      <td>-1.000000e+00</td>\n",
       "      <td>-20.000000</td>\n",
       "      <td>-5.000000e+02</td>\n",
       "      <td>0.000000e+00</td>\n",
       "      <td>0.000000e+00</td>\n",
       "      <td>-15.000000</td>\n",
       "      <td>2.012000e+03</td>\n",
       "      <td>2.012000e+03</td>\n",
       "    </tr>\n",
       "    <tr>\n",
       "      <th>25%</th>\n",
       "      <td>1.521058e+09</td>\n",
       "      <td>1.579713e+09</td>\n",
       "      <td>2.800000e+01</td>\n",
       "      <td>1.010000e+02</td>\n",
       "      <td>4.180000e+02</td>\n",
       "      <td>7.700000e-01</td>\n",
       "      <td>1.000000e-01</td>\n",
       "      <td>3.500000e+00</td>\n",
       "      <td>6.000000e-01</td>\n",
       "      <td>0.000000</td>\n",
       "      <td>1.300000e+00</td>\n",
       "      <td>7.000000e-02</td>\n",
       "      <td>2.800000e-02</td>\n",
       "      <td>2.000000</td>\n",
       "      <td>2.018000e+03</td>\n",
       "      <td>2.020000e+03</td>\n",
       "    </tr>\n",
       "    <tr>\n",
       "      <th>50%</th>\n",
       "      <td>1.565864e+09</td>\n",
       "      <td>1.588793e+09</td>\n",
       "      <td>5.000000e+01</td>\n",
       "      <td>2.610000e+02</td>\n",
       "      <td>1.084000e+03</td>\n",
       "      <td>7.000000e+00</td>\n",
       "      <td>1.800000e+00</td>\n",
       "      <td>1.504425e+01</td>\n",
       "      <td>3.570000e+00</td>\n",
       "      <td>1.600000</td>\n",
       "      <td>6.000000e+00</td>\n",
       "      <td>5.600000e-01</td>\n",
       "      <td>2.240000e-01</td>\n",
       "      <td>10.000000</td>\n",
       "      <td>2.019000e+03</td>\n",
       "      <td>2.020000e+03</td>\n",
       "    </tr>\n",
       "    <tr>\n",
       "      <th>75%</th>\n",
       "      <td>1.590926e+09</td>\n",
       "      <td>1.612870e+09</td>\n",
       "      <td>1.130000e+02</td>\n",
       "      <td>4.000000e+02</td>\n",
       "      <td>1.674000e+03</td>\n",
       "      <td>2.140000e+01</td>\n",
       "      <td>7.140000e+00</td>\n",
       "      <td>5.300000e+01</td>\n",
       "      <td>1.800000e+01</td>\n",
       "      <td>3.600000</td>\n",
       "      <td>1.230000e+01</td>\n",
       "      <td>1.400000e+00</td>\n",
       "      <td>5.600000e-01</td>\n",
       "      <td>16.000000</td>\n",
       "      <td>2.020000e+03</td>\n",
       "      <td>2.021000e+03</td>\n",
       "    </tr>\n",
       "    <tr>\n",
       "      <th>max</th>\n",
       "      <td>1.624323e+09</td>\n",
       "      <td>1.624323e+09</td>\n",
       "      <td>1.111111e+22</td>\n",
       "      <td>8.693855e+12</td>\n",
       "      <td>6.665559e+42</td>\n",
       "      <td>9.999990e+05</td>\n",
       "      <td>9.999999e+06</td>\n",
       "      <td>7.629390e+05</td>\n",
       "      <td>9.999990e+05</td>\n",
       "      <td>999999.000000</td>\n",
       "      <td>1.730000e+05</td>\n",
       "      <td>9.999990e+05</td>\n",
       "      <td>3.999996e+05</td>\n",
       "      <td>40.000000</td>\n",
       "      <td>2.021000e+03</td>\n",
       "      <td>2.021000e+03</td>\n",
       "    </tr>\n",
       "  </tbody>\n",
       "</table>\n",
       "</div>"
      ],
      "text/plain": [
       "          created_t  last_modified_t  serving_quantity  energy-kcal_100g  \\\n",
       "count  1.837365e+06     1.837365e+06      4.756610e+05      1.405073e+06   \n",
       "mean   1.554378e+09     1.589384e+09      2.335939e+16      6.250851e+06   \n",
       "std    5.108632e+07     2.937790e+07      1.611049e+19      7.334753e+09   \n",
       "min    1.328021e+09     1.333873e+09      0.000000e+00      0.000000e+00   \n",
       "25%    1.521058e+09     1.579713e+09      2.800000e+01      1.010000e+02   \n",
       "50%    1.565864e+09     1.588793e+09      5.000000e+01      2.610000e+02   \n",
       "75%    1.590926e+09     1.612870e+09      1.130000e+02      4.000000e+02   \n",
       "max    1.624323e+09     1.624323e+09      1.111111e+22      8.693855e+12   \n",
       "\n",
       "        energy_100g      fat_100g  saturated-fat_100g  carbohydrates_100g  \\\n",
       "count  1.457855e+06  1.449790e+06        1.406180e+06        1.449349e+06   \n",
       "mean   4.572169e+36  1.471324e+01        1.226623e+01        2.882682e+01   \n",
       "std    5.520513e+39  8.538600e+02        8.432970e+03        6.434753e+02   \n",
       "min    0.000000e+00  0.000000e+00        0.000000e+00       -1.000000e+00   \n",
       "25%    4.180000e+02  7.700000e-01        1.000000e-01        3.500000e+00   \n",
       "50%    1.084000e+03  7.000000e+00        1.800000e+00        1.504425e+01   \n",
       "75%    1.674000e+03  2.140000e+01        7.140000e+00        5.300000e+01   \n",
       "max    6.665559e+42  9.999990e+05        9.999999e+06        7.629390e+05   \n",
       "\n",
       "        sugars_100g     fiber_100g  proteins_100g     salt_100g   sodium_100g  \\\n",
       "count  1.432417e+06  475926.000000   1.450905e+06  1.389357e+06  1.389353e+06   \n",
       "mean   1.398868e+01       5.135814   8.778622e+00  2.882045e+00  1.152853e+00   \n",
       "std    8.358298e+02    1449.557263   1.452166e+02  8.593165e+02  3.437268e+02   \n",
       "min   -1.000000e+00     -20.000000  -5.000000e+02  0.000000e+00  0.000000e+00   \n",
       "25%    6.000000e-01       0.000000   1.300000e+00  7.000000e-02  2.800000e-02   \n",
       "50%    3.570000e+00       1.600000   6.000000e+00  5.600000e-01  2.240000e-01   \n",
       "75%    1.800000e+01       3.600000   1.230000e+01  1.400000e+00  5.600000e-01   \n",
       "max    9.999990e+05  999999.000000   1.730000e+05  9.999990e+05  3.999996e+05   \n",
       "\n",
       "       nutrition-score-fr_100g  created_years  last_modified_years  \n",
       "count            677532.000000   1.837365e+06         1.837365e+06  \n",
       "mean                  9.171624   2.018832e+03         2.019957e+03  \n",
       "std                   8.874919   1.628261e+00         9.921528e-01  \n",
       "min                 -15.000000   2.012000e+03         2.012000e+03  \n",
       "25%                   2.000000   2.018000e+03         2.020000e+03  \n",
       "50%                  10.000000   2.019000e+03         2.020000e+03  \n",
       "75%                  16.000000   2.020000e+03         2.021000e+03  \n",
       "max                  40.000000   2.021000e+03         2.021000e+03  "
      ]
     },
     "execution_count": 13,
     "metadata": {},
     "output_type": "execute_result"
    }
   ],
   "source": [
    "df.describe()"
   ]
  },
  {
   "cell_type": "code",
   "execution_count": 14,
   "id": "23c9229b-f95c-46ce-9f9f-648693f679ce",
   "metadata": {},
   "outputs": [
    {
     "data": {
      "text/plain": [
       "(1837365, 54)"
      ]
     },
     "execution_count": 14,
     "metadata": {},
     "output_type": "execute_result"
    }
   ],
   "source": [
    "df.shape"
   ]
  },
  {
   "cell_type": "markdown",
   "id": "54ca1bdf-300e-4960-946a-9766f32932c0",
   "metadata": {},
   "source": [
    "Pour finir le traitement des valeurs manquantes, il faudra choisir entre plusieurs méthodes : \n",
    "- Enlever les valeurs manquantes (via la méthode dropna)\n",
    "- Remplacer les valeurs manquantes avec la médiane\n",
    "- Remplacer les valeurs manquantes avec la moyenne\n",
    "\n",
    "Avant de procéder à cette étape, on va s'intéresser à deux autres points : le traitement des donneés dupliquées ainsi que l'étude des anomalies."
   ]
  },
  {
   "cell_type": "markdown",
   "id": "97c8e087-309f-4b06-88fc-c84437eb81fd",
   "metadata": {},
   "source": [
    "## 3) Formatage des chaînes de caractères"
   ]
  },
  {
   "cell_type": "code",
   "execution_count": 15,
   "id": "d9ebb010-8199-45d4-9e37-ca25f23a2bc6",
   "metadata": {},
   "outputs": [],
   "source": [
    "cols = [\"creator\", \"product_name\", \"quantity\", \"brands\", \"countries\", \"categories\", \"ingredients_text\",\n",
    "        \"serving_size\", \"states\", \"main_category\"]\n",
    "\n",
    "for col in cols:\n",
    "    if df[col].dtypes == \"object\":\n",
    "        df[col] = df[col].str.lower()\n",
    "        df[col] = df[col].str.capitalize()"
   ]
  },
  {
   "cell_type": "markdown",
   "id": "82d086b0-54d3-45db-90cd-2015b6ad750a",
   "metadata": {},
   "source": [
    "## 4) Traitement des données dupliquées"
   ]
  },
  {
   "cell_type": "markdown",
   "id": "250563b5-8ce7-47c0-a449-dbb9574ac1dc",
   "metadata": {},
   "source": [
    "Il y a deux types de données dupliquées : \n",
    "- Celles qui correspondent à des colonnes dont les noms sont différents mais donnent la même information (les colonnes _en ou _tags par exemple)\n",
    "- Celles que l'on peut enlever à l'aide des méthodes. duplicated() et .drop_duplicates()\n",
    "\n",
    "Dans un premier temps, nous allons nous créer une liste avec les noms des colonnes à supprimer (avec le suffixe _en ou _tags). Ensuite, on cherchera à supprimer les données dupliquées à l'aide des méthodes spécifiques des dataframes Pandas. "
   ]
  },
  {
   "cell_type": "markdown",
   "id": "e9cb4ad1-cf53-4af3-8475-de870a3f2479",
   "metadata": {},
   "source": [
    "### a) Suppression des colonnes redondantes"
   ]
  },
  {
   "cell_type": "code",
   "execution_count": 16,
   "id": "6aff96cb-e76a-4cd1-be93-2b7e00ff0479",
   "metadata": {},
   "outputs": [],
   "source": [
    "drop_cols = [\"created_datetime\", \"last_modified_datetime\", \"created_t\", \"last_modified_t\", \"brands_tags\", \"categories_tags\", \"categories_en\", \"countries_tags\", \"countries_en\", \"states_tags\", \"states_en\",\n",
    "             \"main_category_en\", \"image_small_url\", \"image_ingredients_small_url\", \"image_nutrition_small_url\", \"nutrition-score-fr_100g\"]"
   ]
  },
  {
   "cell_type": "code",
   "execution_count": 17,
   "id": "c7f8de35-7185-4e01-9418-754bb4cc4fa0",
   "metadata": {},
   "outputs": [],
   "source": [
    "df.drop(drop_cols, axis=1, inplace=True)"
   ]
  },
  {
   "cell_type": "markdown",
   "id": "ac261428-614c-4290-9dd2-cd94be47d921",
   "metadata": {},
   "source": [
    "### b) Suppression des informations dupliquées avec .drop_duplicates() et .duplicated()"
   ]
  },
  {
   "cell_type": "code",
   "execution_count": 18,
   "id": "4ade9777-8ccc-4aa4-a69c-0f0e6251ad33",
   "metadata": {},
   "outputs": [],
   "source": [
    "dupl = df.duplicated()"
   ]
  },
  {
   "cell_type": "code",
   "execution_count": 19,
   "id": "adfaa04b-f157-4a59-9d98-1f727d68f42a",
   "metadata": {},
   "outputs": [
    {
     "data": {
      "text/html": [
       "<div>\n",
       "<style scoped>\n",
       "    .dataframe tbody tr th:only-of-type {\n",
       "        vertical-align: middle;\n",
       "    }\n",
       "\n",
       "    .dataframe tbody tr th {\n",
       "        vertical-align: top;\n",
       "    }\n",
       "\n",
       "    .dataframe thead th {\n",
       "        text-align: right;\n",
       "    }\n",
       "</style>\n",
       "<table border=\"1\" class=\"dataframe\">\n",
       "  <thead>\n",
       "    <tr style=\"text-align: right;\">\n",
       "      <th></th>\n",
       "      <th>code</th>\n",
       "      <th>url</th>\n",
       "      <th>creator</th>\n",
       "      <th>product_name</th>\n",
       "      <th>quantity</th>\n",
       "      <th>brands</th>\n",
       "      <th>categories</th>\n",
       "      <th>countries</th>\n",
       "      <th>ingredients_text</th>\n",
       "      <th>serving_size</th>\n",
       "      <th>...</th>\n",
       "      <th>carbohydrates_100g</th>\n",
       "      <th>sugars_100g</th>\n",
       "      <th>fiber_100g</th>\n",
       "      <th>proteins_100g</th>\n",
       "      <th>salt_100g</th>\n",
       "      <th>sodium_100g</th>\n",
       "      <th>created_date</th>\n",
       "      <th>created_years</th>\n",
       "      <th>last_modified_date</th>\n",
       "      <th>last_modified_years</th>\n",
       "    </tr>\n",
       "  </thead>\n",
       "  <tbody>\n",
       "    <tr>\n",
       "      <th>18996</th>\n",
       "      <td>7340011495437</td>\n",
       "      <td>http://world-en.openfoodfacts.org/product/7340...</td>\n",
       "      <td>Halal-app-chakib</td>\n",
       "      <td>NaN</td>\n",
       "      <td>NaN</td>\n",
       "      <td>NaN</td>\n",
       "      <td>NaN</td>\n",
       "      <td>Suomi</td>\n",
       "      <td>NaN</td>\n",
       "      <td>NaN</td>\n",
       "      <td>...</td>\n",
       "      <td>NaN</td>\n",
       "      <td>NaN</td>\n",
       "      <td>NaN</td>\n",
       "      <td>NaN</td>\n",
       "      <td>NaN</td>\n",
       "      <td>NaN</td>\n",
       "      <td>2021-01-11</td>\n",
       "      <td>2021</td>\n",
       "      <td>2021-01-11</td>\n",
       "      <td>2021</td>\n",
       "    </tr>\n",
       "  </tbody>\n",
       "</table>\n",
       "<p>1 rows × 38 columns</p>\n",
       "</div>"
      ],
      "text/plain": [
       "                code                                                url  \\\n",
       "18996  7340011495437  http://world-en.openfoodfacts.org/product/7340...   \n",
       "\n",
       "                creator product_name quantity brands categories countries  \\\n",
       "18996  Halal-app-chakib          NaN      NaN    NaN        NaN     Suomi   \n",
       "\n",
       "      ingredients_text serving_size  ...  carbohydrates_100g sugars_100g  \\\n",
       "18996              NaN          NaN  ...                 NaN         NaN   \n",
       "\n",
       "      fiber_100g proteins_100g salt_100g sodium_100g created_date  \\\n",
       "18996        NaN           NaN       NaN         NaN   2021-01-11   \n",
       "\n",
       "      created_years last_modified_date last_modified_years  \n",
       "18996          2021         2021-01-11                2021  \n",
       "\n",
       "[1 rows x 38 columns]"
      ]
     },
     "execution_count": 19,
     "metadata": {},
     "output_type": "execute_result"
    }
   ],
   "source": [
    "df_dupl = df[dupl]\n",
    "df_dupl.head()"
   ]
  },
  {
   "cell_type": "code",
   "execution_count": 20,
   "id": "72c25a50-2079-4ce9-b08b-d061ca882aac",
   "metadata": {},
   "outputs": [],
   "source": [
    "df = df[~dupl]"
   ]
  },
  {
   "cell_type": "code",
   "execution_count": 21,
   "id": "3f194786-f1ed-4790-a884-c9d24babb230",
   "metadata": {},
   "outputs": [
    {
     "data": {
      "text/plain": [
       "(1837364, 38)"
      ]
     },
     "execution_count": 21,
     "metadata": {},
     "output_type": "execute_result"
    }
   ],
   "source": [
    "df.shape"
   ]
  },
  {
   "cell_type": "markdown",
   "id": "513e7f1e-376a-4a94-977c-20bf610889ea",
   "metadata": {},
   "source": [
    "## 5) Détection des anomalies"
   ]
  },
  {
   "cell_type": "markdown",
   "id": "ca5f0321-24c9-4e10-a682-02cc7b958f28",
   "metadata": {},
   "source": [
    "### a) Visualisation des données pour détecter les anomalies"
   ]
  },
  {
   "cell_type": "code",
   "execution_count": 22,
   "id": "0ab121bb-de9e-4117-93eb-a24000edb1f2",
   "metadata": {},
   "outputs": [
    {
     "data": {
      "image/png": "[encoded data removed]",
      "text/plain": [
       "<Figure size 432x288 with 1 Axes>"
      ]
     },
     "metadata": {
      "needs_background": "light"
     },
     "output_type": "display_data"
    },
    {
     "data": {
      "image/png": "[encoded data removed]",
      "text/plain": [
       "<Figure size 432x288 with 1 Axes>"
      ]
     },
     "metadata": {
      "needs_background": "light"
     },
     "output_type": "display_data"
    },
    {
     "data": {
      "image/png": "[encoded data removed]",
      "text/plain": [
       "<Figure size 432x288 with 1 Axes>"
      ]
     },
     "metadata": {
      "needs_background": "light"
     },
     "output_type": "display_data"
    },
    {
     "data": {
      "image/png": "[encoded data removed]",
      "text/plain": [
       "<Figure size 432x288 with 1 Axes>"
      ]
     },
     "metadata": {
      "needs_background": "light"
     },
     "output_type": "display_data"
    },
    {
     "data": {
      "image/png": "[encoded data removed]",
      "text/plain": [
       "<Figure size 432x288 with 1 Axes>"
      ]
     },
     "metadata": {
      "needs_background": "light"
     },
     "output_type": "display_data"
    },
    {
     "data": {
      "image/png": "[encoded data removed]",
      "text/plain": [
       "<Figure size 432x288 with 1 Axes>"
      ]
     },
     "metadata": {
      "needs_background": "light"
     },
     "output_type": "display_data"
    },
    {
     "data": {
      "image/png": "[encoded data removed]",
      "text/plain": [
       "<Figure size 432x288 with 1 Axes>"
      ]
     },
     "metadata": {
      "needs_background": "light"
     },
     "output_type": "display_data"
    },
    {
     "data": {
      "image/png": "[encoded data removed]",
      "text/plain": [
       "<Figure size 432x288 with 1 Axes>"
      ]
     },
     "metadata": {
      "needs_background": "light"
     },
     "output_type": "display_data"
    },
    {
     "data": {
      "image/png": "[encoded data removed]",
      "text/plain": [
       "<Figure size 432x288 with 1 Axes>"
      ]
     },
     "metadata": {
      "needs_background": "light"
     },
     "output_type": "display_data"
    },
    {
     "data": {
      "image/png": "[encoded data removed]",
      "text/plain": [
       "<Figure size 432x288 with 1 Axes>"
      ]
     },
     "metadata": {
      "needs_background": "light"
     },
     "output_type": "display_data"
    },
    {
     "data": {
      "image/png": "[encoded data removed]",
      "text/plain": [
       "<Figure size 432x288 with 1 Axes>"
      ]
     },
     "metadata": {
      "needs_background": "light"
     },
     "output_type": "display_data"
    }
   ],
   "source": [
    "for var in df.columns:\n",
    "    if df[var].dtypes == 'float64':\n",
    "        sns.boxplot(x=var, data=df)\n",
    "        plt.title(var)\n",
    "        plt.show()"
   ]
  },
  {
   "cell_type": "markdown",
   "id": "0a97e3b7-8395-4ca3-bb54-65402d41a3f5",
   "metadata": {},
   "source": [
    "### b) Anomalie liée à la nature des données"
   ]
  },
  {
   "cell_type": "markdown",
   "id": "49defcd9-66d5-4fed-b0f2-3b4553b6a500",
   "metadata": {},
   "source": [
    "Les données nutritives étant pour 100g, elles ne peuvent pas excéder 100g. On va donc supprimer les valeurs superieures à 100g pour les carbohydrates, le sucre, les fibres, les protéines, le sel et le sodium. "
   ]
  },
  {
   "cell_type": "code",
   "execution_count": 23,
   "id": "113ab641-0b81-452d-a58b-3eda75e37c0b",
   "metadata": {},
   "outputs": [
    {
     "ename": "KeyboardInterrupt",
     "evalue": "",
     "output_type": "error",
     "traceback": [
      "\u001b[1;31m---------------------------------------------------------------------------\u001b[0m",
      "\u001b[1;31mKeyboardInterrupt\u001b[0m                         Traceback (most recent call last)",
      "\u001b[1;32m<ipython-input-23-7e1c9d6bedbc>\u001b[0m in \u001b[0;36m<module>\u001b[1;34m\u001b[0m\n\u001b[0;32m      4\u001b[0m \u001b[1;32mfor\u001b[0m \u001b[0mcol\u001b[0m \u001b[1;32min\u001b[0m \u001b[0mcols\u001b[0m\u001b[1;33m:\u001b[0m\u001b[1;33m\u001b[0m\u001b[1;33m\u001b[0m\u001b[0m\n\u001b[0;32m      5\u001b[0m     \u001b[0mmask\u001b[0m \u001b[1;33m=\u001b[0m \u001b[0mdf_clean\u001b[0m\u001b[1;33m[\u001b[0m\u001b[1;33m(\u001b[0m\u001b[0mdf_clean\u001b[0m\u001b[1;33m[\u001b[0m\u001b[0mcol\u001b[0m\u001b[1;33m]\u001b[0m \u001b[1;33m>\u001b[0m \u001b[1;36m0\u001b[0m\u001b[1;33m)\u001b[0m \u001b[1;33m|\u001b[0m \u001b[1;33m(\u001b[0m\u001b[0mdf_clean\u001b[0m\u001b[1;33m[\u001b[0m\u001b[0mcol\u001b[0m\u001b[1;33m]\u001b[0m\u001b[1;33m<\u001b[0m\u001b[1;36m100\u001b[0m\u001b[1;33m)\u001b[0m\u001b[1;33m]\u001b[0m\u001b[1;33m.\u001b[0m\u001b[0mindex\u001b[0m\u001b[1;33m\u001b[0m\u001b[1;33m\u001b[0m\u001b[0m\n\u001b[1;32m----> 6\u001b[1;33m     \u001b[0mdf_clean\u001b[0m\u001b[1;33m.\u001b[0m\u001b[0mdrop\u001b[0m\u001b[1;33m(\u001b[0m\u001b[0mmask\u001b[0m\u001b[1;33m,\u001b[0m \u001b[0minplace\u001b[0m\u001b[1;33m=\u001b[0m\u001b[1;32mTrue\u001b[0m\u001b[1;33m)\u001b[0m\u001b[1;33m\u001b[0m\u001b[1;33m\u001b[0m\u001b[0m\n\u001b[0m",
      "\u001b[1;32m~\\miniconda3\\envs\\myenv\\lib\\site-packages\\pandas\\core\\frame.py\u001b[0m in \u001b[0;36mdrop\u001b[1;34m(self, labels, axis, index, columns, level, inplace, errors)\u001b[0m\n\u001b[0;32m   4306\u001b[0m                 \u001b[0mweight\u001b[0m  \u001b[1;36m1.0\u001b[0m     \u001b[1;36m0.8\u001b[0m\u001b[1;33m\u001b[0m\u001b[1;33m\u001b[0m\u001b[0m\n\u001b[0;32m   4307\u001b[0m         \"\"\"\n\u001b[1;32m-> 4308\u001b[1;33m         return super().drop(\n\u001b[0m\u001b[0;32m   4309\u001b[0m             \u001b[0mlabels\u001b[0m\u001b[1;33m=\u001b[0m\u001b[0mlabels\u001b[0m\u001b[1;33m,\u001b[0m\u001b[1;33m\u001b[0m\u001b[1;33m\u001b[0m\u001b[0m\n\u001b[0;32m   4310\u001b[0m             \u001b[0maxis\u001b[0m\u001b[1;33m=\u001b[0m\u001b[0maxis\u001b[0m\u001b[1;33m,\u001b[0m\u001b[1;33m\u001b[0m\u001b[1;33m\u001b[0m\u001b[0m\n",
      "\u001b[1;32m~\\miniconda3\\envs\\myenv\\lib\\site-packages\\pandas\\core\\generic.py\u001b[0m in \u001b[0;36mdrop\u001b[1;34m(self, labels, axis, index, columns, level, inplace, errors)\u001b[0m\n\u001b[0;32m   4151\u001b[0m         \u001b[1;32mfor\u001b[0m \u001b[0maxis\u001b[0m\u001b[1;33m,\u001b[0m \u001b[0mlabels\u001b[0m \u001b[1;32min\u001b[0m \u001b[0maxes\u001b[0m\u001b[1;33m.\u001b[0m\u001b[0mitems\u001b[0m\u001b[1;33m(\u001b[0m\u001b[1;33m)\u001b[0m\u001b[1;33m:\u001b[0m\u001b[1;33m\u001b[0m\u001b[1;33m\u001b[0m\u001b[0m\n\u001b[0;32m   4152\u001b[0m             \u001b[1;32mif\u001b[0m \u001b[0mlabels\u001b[0m \u001b[1;32mis\u001b[0m \u001b[1;32mnot\u001b[0m \u001b[1;32mNone\u001b[0m\u001b[1;33m:\u001b[0m\u001b[1;33m\u001b[0m\u001b[1;33m\u001b[0m\u001b[0m\n\u001b[1;32m-> 4153\u001b[1;33m                 \u001b[0mobj\u001b[0m \u001b[1;33m=\u001b[0m \u001b[0mobj\u001b[0m\u001b[1;33m.\u001b[0m\u001b[0m_drop_axis\u001b[0m\u001b[1;33m(\u001b[0m\u001b[0mlabels\u001b[0m\u001b[1;33m,\u001b[0m \u001b[0maxis\u001b[0m\u001b[1;33m,\u001b[0m \u001b[0mlevel\u001b[0m\u001b[1;33m=\u001b[0m\u001b[0mlevel\u001b[0m\u001b[1;33m,\u001b[0m \u001b[0merrors\u001b[0m\u001b[1;33m=\u001b[0m\u001b[0merrors\u001b[0m\u001b[1;33m)\u001b[0m\u001b[1;33m\u001b[0m\u001b[1;33m\u001b[0m\u001b[0m\n\u001b[0m\u001b[0;32m   4154\u001b[0m \u001b[1;33m\u001b[0m\u001b[0m\n\u001b[0;32m   4155\u001b[0m         \u001b[1;32mif\u001b[0m \u001b[0minplace\u001b[0m\u001b[1;33m:\u001b[0m\u001b[1;33m\u001b[0m\u001b[1;33m\u001b[0m\u001b[0m\n",
      "\u001b[1;32m~\\miniconda3\\envs\\myenv\\lib\\site-packages\\pandas\\core\\generic.py\u001b[0m in \u001b[0;36m_drop_axis\u001b[1;34m(self, labels, axis, level, errors)\u001b[0m\n\u001b[0;32m   4203\u001b[0m                 \u001b[0mindexer\u001b[0m \u001b[1;33m=\u001b[0m \u001b[1;33m~\u001b[0m\u001b[0maxis\u001b[0m\u001b[1;33m.\u001b[0m\u001b[0misin\u001b[0m\u001b[1;33m(\u001b[0m\u001b[0mlabels\u001b[0m\u001b[1;33m)\u001b[0m\u001b[1;33m\u001b[0m\u001b[1;33m\u001b[0m\u001b[0m\n\u001b[0;32m   4204\u001b[0m                 \u001b[1;31m# Check if label doesn't exist along axis\u001b[0m\u001b[1;33m\u001b[0m\u001b[1;33m\u001b[0m\u001b[1;33m\u001b[0m\u001b[0m\n\u001b[1;32m-> 4205\u001b[1;33m                 \u001b[0mlabels_missing\u001b[0m \u001b[1;33m=\u001b[0m \u001b[1;33m(\u001b[0m\u001b[0maxis\u001b[0m\u001b[1;33m.\u001b[0m\u001b[0mget_indexer_for\u001b[0m\u001b[1;33m(\u001b[0m\u001b[0mlabels\u001b[0m\u001b[1;33m)\u001b[0m \u001b[1;33m==\u001b[0m \u001b[1;33m-\u001b[0m\u001b[1;36m1\u001b[0m\u001b[1;33m)\u001b[0m\u001b[1;33m.\u001b[0m\u001b[0many\u001b[0m\u001b[1;33m(\u001b[0m\u001b[1;33m)\u001b[0m\u001b[1;33m\u001b[0m\u001b[1;33m\u001b[0m\u001b[0m\n\u001b[0m\u001b[0;32m   4206\u001b[0m                 \u001b[1;32mif\u001b[0m \u001b[0merrors\u001b[0m \u001b[1;33m==\u001b[0m \u001b[1;34m\"raise\"\u001b[0m \u001b[1;32mand\u001b[0m \u001b[0mlabels_missing\u001b[0m\u001b[1;33m:\u001b[0m\u001b[1;33m\u001b[0m\u001b[1;33m\u001b[0m\u001b[0m\n\u001b[0;32m   4207\u001b[0m                     \u001b[1;32mraise\u001b[0m \u001b[0mKeyError\u001b[0m\u001b[1;33m(\u001b[0m\u001b[1;34mf\"{labels} not found in axis\"\u001b[0m\u001b[1;33m)\u001b[0m\u001b[1;33m\u001b[0m\u001b[1;33m\u001b[0m\u001b[0m\n",
      "\u001b[1;32m~\\miniconda3\\envs\\myenv\\lib\\site-packages\\pandas\\core\\indexes\\base.py\u001b[0m in \u001b[0;36mget_indexer_for\u001b[1;34m(self, target, **kwargs)\u001b[0m\n\u001b[0;32m   4959\u001b[0m         \u001b[1;32mif\u001b[0m \u001b[0mself\u001b[0m\u001b[1;33m.\u001b[0m\u001b[0m_index_as_unique\u001b[0m\u001b[1;33m:\u001b[0m\u001b[1;33m\u001b[0m\u001b[1;33m\u001b[0m\u001b[0m\n\u001b[0;32m   4960\u001b[0m             \u001b[1;32mreturn\u001b[0m \u001b[0mself\u001b[0m\u001b[1;33m.\u001b[0m\u001b[0mget_indexer\u001b[0m\u001b[1;33m(\u001b[0m\u001b[0mtarget\u001b[0m\u001b[1;33m,\u001b[0m \u001b[1;33m**\u001b[0m\u001b[0mkwargs\u001b[0m\u001b[1;33m)\u001b[0m\u001b[1;33m\u001b[0m\u001b[1;33m\u001b[0m\u001b[0m\n\u001b[1;32m-> 4961\u001b[1;33m         \u001b[0mindexer\u001b[0m\u001b[1;33m,\u001b[0m \u001b[0m_\u001b[0m \u001b[1;33m=\u001b[0m \u001b[0mself\u001b[0m\u001b[1;33m.\u001b[0m\u001b[0mget_indexer_non_unique\u001b[0m\u001b[1;33m(\u001b[0m\u001b[0mtarget\u001b[0m\u001b[1;33m)\u001b[0m\u001b[1;33m\u001b[0m\u001b[1;33m\u001b[0m\u001b[0m\n\u001b[0m\u001b[0;32m   4962\u001b[0m         \u001b[1;32mreturn\u001b[0m \u001b[0mindexer\u001b[0m\u001b[1;33m\u001b[0m\u001b[1;33m\u001b[0m\u001b[0m\n\u001b[0;32m   4963\u001b[0m \u001b[1;33m\u001b[0m\u001b[0m\n",
      "\u001b[1;32m~\\miniconda3\\envs\\myenv\\lib\\site-packages\\pandas\\core\\indexes\\base.py\u001b[0m in \u001b[0;36mget_indexer_non_unique\u001b[1;34m(self, target)\u001b[0m\n\u001b[0;32m   4941\u001b[0m             \u001b[0mtgt_values\u001b[0m \u001b[1;33m=\u001b[0m \u001b[0mtarget\u001b[0m\u001b[1;33m.\u001b[0m\u001b[0m_get_engine_target\u001b[0m\u001b[1;33m(\u001b[0m\u001b[1;33m)\u001b[0m\u001b[1;33m\u001b[0m\u001b[1;33m\u001b[0m\u001b[0m\n\u001b[0;32m   4942\u001b[0m \u001b[1;33m\u001b[0m\u001b[0m\n\u001b[1;32m-> 4943\u001b[1;33m         \u001b[0mindexer\u001b[0m\u001b[1;33m,\u001b[0m \u001b[0mmissing\u001b[0m \u001b[1;33m=\u001b[0m \u001b[0mself\u001b[0m\u001b[1;33m.\u001b[0m\u001b[0m_engine\u001b[0m\u001b[1;33m.\u001b[0m\u001b[0mget_indexer_non_unique\u001b[0m\u001b[1;33m(\u001b[0m\u001b[0mtgt_values\u001b[0m\u001b[1;33m)\u001b[0m\u001b[1;33m\u001b[0m\u001b[1;33m\u001b[0m\u001b[0m\n\u001b[0m\u001b[0;32m   4944\u001b[0m         \u001b[1;32mreturn\u001b[0m \u001b[0mensure_platform_int\u001b[0m\u001b[1;33m(\u001b[0m\u001b[0mindexer\u001b[0m\u001b[1;33m)\u001b[0m\u001b[1;33m,\u001b[0m \u001b[0mmissing\u001b[0m\u001b[1;33m\u001b[0m\u001b[1;33m\u001b[0m\u001b[0m\n\u001b[0;32m   4945\u001b[0m \u001b[1;33m\u001b[0m\u001b[0m\n",
      "\u001b[1;32mpandas\\_libs\\index.pyx\u001b[0m in \u001b[0;36mpandas._libs.index.IndexEngine.get_indexer_non_unique\u001b[1;34m()\u001b[0m\n",
      "\u001b[1;32m<__array_function__ internals>\u001b[0m in \u001b[0;36mresize\u001b[1;34m(*args, **kwargs)\u001b[0m\n",
      "\u001b[1;32m~\\miniconda3\\envs\\myenv\\lib\\site-packages\\numpy\\core\\fromnumeric.py\u001b[0m in \u001b[0;36mresize\u001b[1;34m(a, new_shape)\u001b[0m\n\u001b[0;32m   1428\u001b[0m \u001b[1;33m\u001b[0m\u001b[0m\n\u001b[0;32m   1429\u001b[0m     \u001b[0mrepeats\u001b[0m \u001b[1;33m=\u001b[0m \u001b[1;33m-\u001b[0m\u001b[1;33m(\u001b[0m\u001b[1;33m-\u001b[0m\u001b[0mnew_size\u001b[0m \u001b[1;33m//\u001b[0m \u001b[0ma\u001b[0m\u001b[1;33m.\u001b[0m\u001b[0msize\u001b[0m\u001b[1;33m)\u001b[0m  \u001b[1;31m# ceil division\u001b[0m\u001b[1;33m\u001b[0m\u001b[1;33m\u001b[0m\u001b[0m\n\u001b[1;32m-> 1430\u001b[1;33m     \u001b[0ma\u001b[0m \u001b[1;33m=\u001b[0m \u001b[0mconcatenate\u001b[0m\u001b[1;33m(\u001b[0m\u001b[1;33m(\u001b[0m\u001b[0ma\u001b[0m\u001b[1;33m,\u001b[0m\u001b[1;33m)\u001b[0m \u001b[1;33m*\u001b[0m \u001b[0mrepeats\u001b[0m\u001b[1;33m)\u001b[0m\u001b[1;33m[\u001b[0m\u001b[1;33m:\u001b[0m\u001b[0mnew_size\u001b[0m\u001b[1;33m]\u001b[0m\u001b[1;33m\u001b[0m\u001b[1;33m\u001b[0m\u001b[0m\n\u001b[0m\u001b[0;32m   1431\u001b[0m \u001b[1;33m\u001b[0m\u001b[0m\n\u001b[0;32m   1432\u001b[0m     \u001b[1;32mreturn\u001b[0m \u001b[0mreshape\u001b[0m\u001b[1;33m(\u001b[0m\u001b[0ma\u001b[0m\u001b[1;33m,\u001b[0m \u001b[0mnew_shape\u001b[0m\u001b[1;33m)\u001b[0m\u001b[1;33m\u001b[0m\u001b[1;33m\u001b[0m\u001b[0m\n",
      "\u001b[1;32m<__array_function__ internals>\u001b[0m in \u001b[0;36mconcatenate\u001b[1;34m(*args, **kwargs)\u001b[0m\n",
      "\u001b[1;31mKeyboardInterrupt\u001b[0m: "
     ]
    }
   ],
   "source": [
    "df_clean = df.copy()\n",
    "cols = [\"carbohydrates_100g\", \"sugars_100g\", \"fiber_100g\", \"proteins_100g\", \"salt_100g\", \"sodium_100g\"]\n",
    "\n",
    "for col in cols:\n",
    "    mask = df_clean[(df_clean[col] > 0) | (df_clean[col]<100)].index\n",
    "    df_clean.drop(mask, inplace=True)"
   ]
  },
  {
   "cell_type": "code",
   "execution_count": null,
   "id": "cd647a72-b6b5-48c0-9eac-756c049f6092",
   "metadata": {},
   "outputs": [],
   "source": [
    "df_clean.shape"
   ]
  },
  {
   "cell_type": "markdown",
   "id": "11071d44-cedc-483c-b5da-b8e303c50dda",
   "metadata": {},
   "source": [
    "### c) Traitement des outliers à l'aide de la médiane (IQR)"
   ]
  },
  {
   "cell_type": "code",
   "execution_count": null,
   "id": "b7519087-b3a5-47ae-b111-f978dde0c35b",
   "metadata": {},
   "outputs": [],
   "source": [
    "q1 = df.quantile(0.25)\n",
    "q3 = df.quantile(0.75)\n",
    "iqr = q3 - q1\n",
    "lower_bound = q1 - 1.5 * iqr\n",
    "upper_bound = q3 + 1.5 * iqr"
   ]
  },
  {
   "cell_type": "code",
   "execution_count": null,
   "id": "98040304-b54e-4f6f-a62a-c7b981ea836c",
   "metadata": {},
   "outputs": [],
   "source": [
    "import warnings\n",
    "warnings.filterwarnings(\"ignore\")\n",
    "\n",
    "df_clean = df_clean[~((df_clean < lower_bound) | (df_clean> upper_bound)).any(axis=1)]\n",
    "df_clean.shape"
   ]
  },
  {
   "cell_type": "code",
   "execution_count": null,
   "id": "235c0c37-b6d1-420c-9a55-16ef6ea7a87a",
   "metadata": {},
   "outputs": [],
   "source": [
    "df_clean.describe()"
   ]
  },
  {
   "cell_type": "code",
   "execution_count": null,
   "id": "971c6f8a-7640-4dd7-8f09-af3969493a27",
   "metadata": {},
   "outputs": [],
   "source": [
    "for var in df_clean.columns:\n",
    "    if df_clean[var].dtypes == 'float64':\n",
    "        sns.boxplot(x=var, data=df_clean)\n",
    "        plt.title(var)\n",
    "        plt.show()"
   ]
  },
  {
   "cell_type": "markdown",
   "id": "4f8d52b5-bee4-4788-8693-ac9c5924d974",
   "metadata": {},
   "source": [
    "## 6) Traitement des valeurs manquantes (suite)"
   ]
  },
  {
   "cell_type": "markdown",
   "id": "99f5cbea-ea79-4cd1-b586-6e7346071665",
   "metadata": {},
   "source": [
    "Nos valeurs ont été nettoyées des données aberrantes et on se rend compte que l'index glycémique ne contient qu'une seule valeur. On va donc enlever cette variable de notre étude. Il existe deux variables qui rassemblent les données du nutriscore et elles sont identiques. On va donc en supprimer une pour éviter la redondance dans notre dataset. "
   ]
  },
  {
   "cell_type": "markdown",
   "id": "4378f6fd-98e7-4bf8-8dbb-4810a14a34bc",
   "metadata": {},
   "source": [
    "### a) Retrait des valeurs manquantes"
   ]
  },
  {
   "cell_type": "code",
   "execution_count": null,
   "id": "39c18659-52d6-4ca6-904c-816958034868",
   "metadata": {},
   "outputs": [],
   "source": [
    "df = df_clean.copy()"
   ]
  },
  {
   "cell_type": "code",
   "execution_count": null,
   "id": "e518781d-cee1-44a6-9ae8-512329fcaf79",
   "metadata": {},
   "outputs": [],
   "source": [
    "df_clean_no_na = df.dropna()"
   ]
  },
  {
   "cell_type": "code",
   "execution_count": null,
   "id": "b2c679ff-13a7-44bc-a41b-c9cacf589f90",
   "metadata": {},
   "outputs": [],
   "source": [
    "%matplotlib inline\n",
    "msno.matrix(df_clean_no_na)"
   ]
  },
  {
   "cell_type": "code",
   "execution_count": null,
   "id": "bb0a43d7-24f7-4c19-843b-fcc156f2db86",
   "metadata": {},
   "outputs": [],
   "source": [
    "df_clean_no_na.describe()"
   ]
  },
  {
   "cell_type": "code",
   "execution_count": null,
   "id": "e7bf00d8-47c4-43ce-b8d8-9684aef5b795",
   "metadata": {},
   "outputs": [],
   "source": [
    "df_clean_no_na.shape"
   ]
  },
  {
   "cell_type": "code",
   "execution_count": null,
   "id": "5b9f02ff-1938-4955-83dd-47fe373a351e",
   "metadata": {},
   "outputs": [],
   "source": [
    "df_clean_no_na.to_csv(\"openfoodfacts_clean.csv\", index=False)"
   ]
  },
  {
   "cell_type": "markdown",
   "id": "60803b57-f01b-4870-97af-10016a787ed5",
   "metadata": {},
   "source": [
    "On remarque que ce nettoyage produit un jeu de données plus restreint. On peut le sauvegarder pour l'utiliser par la suite. Cependant, le choix de travailler sur un jeu de données où les valeurs manquantes sont remplacées par une autre valeur semble plus judicieux. "
   ]
  },
  {
   "cell_type": "markdown",
   "id": "38b51cae-054d-4922-995a-06b4cb6534ec",
   "metadata": {},
   "source": [
    "### b) Remplacement des valeurs manquantes par la moyenne"
   ]
  },
  {
   "cell_type": "markdown",
   "id": "1a859f2f-68bf-4270-bf17-37fa812af2b9",
   "metadata": {},
   "source": [
    "Le choix s'est porté sur une imputation à la moyenne. Les données ont été nettoyées de leurs valeurs extrêmes donc la moyenne ne perdra pas de sa robustesse. "
   ]
  },
  {
   "cell_type": "code",
   "execution_count": null,
   "id": "3d5a434b-4248-4cca-82e8-493a80d2dac4",
   "metadata": {},
   "outputs": [],
   "source": [
    "df_clean_mean = df.copy()"
   ]
  },
  {
   "cell_type": "code",
   "execution_count": null,
   "id": "f6aaa71c-0c0e-44e3-94b8-6631701de0d6",
   "metadata": {},
   "outputs": [],
   "source": [
    "for cols in df_clean_mean.columns:\n",
    "    if df_clean_mean[cols].dtypes == \"float64\":\n",
    "        df_clean_mean[cols].fillna(df_clean_mean[cols].mean(), inplace=True)"
   ]
  },
  {
   "cell_type": "code",
   "execution_count": null,
   "id": "b2942afc-3339-468c-b492-c71f995415bf",
   "metadata": {},
   "outputs": [],
   "source": [
    "df_clean_mean[\"product_name\"].fillna(\"unknown\", inplace=True)\n",
    "df_clean_mean[\"countries\"].fillna(\"other\", inplace=True)"
   ]
  },
  {
   "cell_type": "code",
   "execution_count": null,
   "id": "c94f1d63-cd46-49bd-bc63-c23476431c8a",
   "metadata": {},
   "outputs": [],
   "source": [
    "df_clean_mean[\"product_name\"].loc[df_clean_mean[\"product_name\"].str.contains('Filet de poulet', case=False, regex=False)] = \"Filets de poulet\""
   ]
  },
  {
   "cell_type": "code",
   "execution_count": null,
   "id": "2532afec-cf20-439e-a262-2b47a66b15cc",
   "metadata": {},
   "outputs": [],
   "source": [
    "df_clean_mean[\"countries\"].loc[df_clean_mean[\"countries\"].str.contains('France', case=False, regex=False)] = \"France\"\n",
    "df_clean_mean[\"countries\"].loc[~df_clean_mean[\"countries\"].str.contains('France', case=False, regex=False)] = \"other\""
   ]
  },
  {
   "cell_type": "code",
   "execution_count": null,
   "id": "4f34d81d-cbe7-41b3-9b82-9b33db5542cb",
   "metadata": {},
   "outputs": [],
   "source": [
    "col_cat = [\"additives_n\", \"ingredients_from_palm_oil_n\", \"ingredients_that_may_be_from_palm_oil_n\",\n",
    "           \"nutriscore_score\", \"nova_group\"]\n",
    "\n",
    "for col in col_cat:\n",
    "    df_clean_mean[col] = df_clean_mean[col].astype(\"category\")"
   ]
  },
  {
   "cell_type": "code",
   "execution_count": null,
   "id": "547c5348-31c5-4acd-b5ed-131ca2ab4b5f",
   "metadata": {},
   "outputs": [],
   "source": [
    "msno.matrix(df_clean_mean)"
   ]
  },
  {
   "cell_type": "code",
   "execution_count": null,
   "id": "062b861a-c981-4ce7-b329-4cf2b636f86b",
   "metadata": {},
   "outputs": [],
   "source": [
    "df_clean_mean.describe()"
   ]
  },
  {
   "cell_type": "code",
   "execution_count": null,
   "id": "573efef3-8776-46c4-b650-41ff597c4226",
   "metadata": {},
   "outputs": [],
   "source": [
    "df_clean_mean.shape"
   ]
  },
  {
   "cell_type": "code",
   "execution_count": null,
   "id": "fc8ca3b3-bd61-4873-8f11-7426165c0883",
   "metadata": {},
   "outputs": [],
   "source": [
    "df_clean_mean.to_csv(\"openfoodfacts_clean_mean.csv\", index=False)"
   ]
  }
 ],
 "metadata": {
  "kernelspec": {
   "display_name": "Python 3",
   "language": "python",
   "name": "python3"
  },
  "language_info": {
   "codemirror_mode": {
    "name": "ipython",
    "version": 3
   },
   "file_extension": ".py",
   "mimetype": "text/x-python",
   "name": "python",
   "nbconvert_exporter": "python",
   "pygments_lexer": "ipython3",
   "version": "3.8.10"
  },
  "toc-autonumbering": false,
  "toc-showcode": false,
  "toc-showmarkdowntxt": false,
  "toc-showtags": false
 },
 "nbformat": 4,
 "nbformat_minor": 5
}
