{
 "cells": [
  {
   "cell_type": "markdown",
   "id": "9c2caaaa-250c-4aa3-bac4-ee08cda451f2",
   "metadata": {},
   "source": [
    "# Nettoyage du jeu de données \"Open Food Facts\""
   ]
  },
  {
   "cell_type": "markdown",
   "id": "51369738-bf26-4203-bafd-f7092a2bdab7",
   "metadata": {},
   "source": [
    "Le jeu de données est téléchargeable sur le site Open Food Facts : [ici](!https://world.openfoodfacts.org/). Il existe différentes manières de le télécharger sur son ordinateur. Ici, on a choisi de faire un import au format csv. On remarque lors du téléchargement que le jeu de données est assez important (environ 4Gb). "
   ]
  },
  {
   "cell_type": "code",
   "execution_count": 1,
   "id": "64b87de5-ac56-4112-b1cf-023a2f60695a",
   "metadata": {},
   "outputs": [],
   "source": [
    "# importation des librairies nécessaires\n",
    "import warnings\n",
    "warnings.filterwarnings(\"ignore\")\n",
    "\n",
    "import numpy as np\n",
    "import pandas as pd\n",
    "import scipy.stats as stats\n",
    "\n",
    "import matplotlib.pyplot as plt\n",
    "import seaborn as sns\n",
    "import missingno as msno"
   ]
  },
  {
   "cell_type": "code",
   "execution_count": 2,
   "id": "0ac0da38-7c73-492d-802e-bbbb8b5e36f5",
   "metadata": {},
   "outputs": [],
   "source": [
    "sns.set_palette(\"gnuplot2\")\n",
    "sns.set_theme(\"notebook\")"
   ]
  },
  {
   "cell_type": "code",
   "execution_count": 3,
   "id": "300b91b3-c80a-4a62-ad52-c549a6806f15",
   "metadata": {},
   "outputs": [],
   "source": [
    "# importation du jeu de données\n",
    "filename = \"datasets/openfoodfacts_data.csv\"\n",
    "df = pd.read_csv(filename, decimal = ',', sep='\\t', low_memory=False)"
   ]
  },
  {
   "cell_type": "markdown",
   "id": "47017df8-8779-43e4-bcc6-62487d44b53f",
   "metadata": {},
   "source": [
    "## I - Traitement des valeurs manquantes"
   ]
  },
  {
   "cell_type": "markdown",
   "id": "7e2452b5-742b-4ab7-99b3-8e3bf885f37e",
   "metadata": {},
   "source": [
    "Pour ne pas avoir à regarder tout le dataframe, on décide que toutes les colonnes où on observe un pourcentage de valeurs manquantes supérieur à 75% sont supprimées du jeu de données initiales."
   ]
  },
  {
   "cell_type": "code",
   "execution_count": 4,
   "id": "dadcaf80-d5d6-4356-bc20-687d8f4d334a",
   "metadata": {},
   "outputs": [],
   "source": [
    "# suppression des colonnes avec plus de 75% de valeurs manquantes\n",
    "df = df.loc[:, df.isnull().mean() <.75]"
   ]
  },
  {
   "cell_type": "code",
   "execution_count": 5,
   "id": "0dcffb48-7c12-4783-adcc-f79e9bb25aa1",
   "metadata": {},
   "outputs": [
    {
     "data": {
      "text/plain": [
       "code                                        0.000000\n",
       "url                                         0.000000\n",
       "creator                                     0.000218\n",
       "created_t                                   0.000000\n",
       "created_datetime                            0.000000\n",
       "last_modified_t                             0.000000\n",
       "last_modified_datetime                      0.000000\n",
       "product_name                                4.284886\n",
       "quantity                                   74.571574\n",
       "brands                                     48.276309\n",
       "brands_tags                                48.279520\n",
       "categories                                 52.479937\n",
       "categories_tags                            52.479992\n",
       "categories_en                              52.479992\n",
       "countries                                   0.305111\n",
       "countries_tags                              0.305383\n",
       "countries_en                                0.305383\n",
       "ingredients_text                           61.937775\n",
       "serving_size                               73.857508\n",
       "serving_quantity                           74.111785\n",
       "additives_n                                61.937721\n",
       "ingredients_from_palm_oil_n                61.937721\n",
       "ingredients_that_may_be_from_palm_oil_n    61.937721\n",
       "nutriscore_score                           63.125019\n",
       "nutriscore_grade                           63.125019\n",
       "nova_group                                 66.752006\n",
       "pnns_groups_1                               0.958873\n",
       "pnns_groups_2                               0.038098\n",
       "states                                      0.000000\n",
       "states_tags                                 0.000000\n",
       "states_en                                   0.000000\n",
       "main_category                              52.479992\n",
       "main_category_en                           52.479992\n",
       "image_url                                  24.722687\n",
       "image_small_url                            24.722687\n",
       "image_ingredients_url                      62.693205\n",
       "image_ingredients_small_url                62.693205\n",
       "image_nutrition_url                        50.183224\n",
       "image_nutrition_small_url                  50.183224\n",
       "energy-kcal_100g                           23.527824\n",
       "energy_100g                                20.655123\n",
       "fat_100g                                   21.094067\n",
       "saturated-fat_100g                         23.467574\n",
       "carbohydrates_100g                         21.118069\n",
       "sugars_100g                                22.039606\n",
       "fiber_100g                                 74.097362\n",
       "proteins_100g                              21.033382\n",
       "salt_100g                                  24.383179\n",
       "sodium_100g                                24.383397\n",
       "nutrition-score-fr_100g                    63.124801\n",
       "dtype: float64"
      ]
     },
     "execution_count": 5,
     "metadata": {},
     "output_type": "execute_result"
    }
   ],
   "source": [
    "# Affichage du pourcentage de donneés manquantes\n",
    "df.isnull().mean() * 100"
   ]
  },
  {
   "cell_type": "code",
   "execution_count": 6,
   "id": "c6377476-09f2-4c40-af49-4c75a43701dc",
   "metadata": {},
   "outputs": [
    {
     "data": {
      "text/plain": [
       "<AxesSubplot:>"
      ]
     },
     "execution_count": 6,
     "metadata": {},
     "output_type": "execute_result"
    },
    {
     "data": {
      "image/png": "[encoded data removed]",
      "text/plain": [
       "<Figure size 1800x720 with 2 Axes>"
      ]
     },
     "metadata": {
      "needs_background": "light"
     },
     "output_type": "display_data"
    }
   ],
   "source": [
    "%matplotlib inline\n",
    "msno.matrix(df)"
   ]
  },
  {
   "cell_type": "code",
   "execution_count": 7,
   "id": "7d69f251-d12b-4453-98fc-d0754bacda1e",
   "metadata": {},
   "outputs": [
    {
     "data": {
      "text/html": [
       "<div>\n",
       "<style scoped>\n",
       "    .dataframe tbody tr th:only-of-type {\n",
       "        vertical-align: middle;\n",
       "    }\n",
       "\n",
       "    .dataframe tbody tr th {\n",
       "        vertical-align: top;\n",
       "    }\n",
       "\n",
       "    .dataframe thead th {\n",
       "        text-align: right;\n",
       "    }\n",
       "</style>\n",
       "<table border=\"1\" class=\"dataframe\">\n",
       "  <thead>\n",
       "    <tr style=\"text-align: right;\">\n",
       "      <th></th>\n",
       "      <th>code</th>\n",
       "      <th>url</th>\n",
       "      <th>creator</th>\n",
       "      <th>created_t</th>\n",
       "      <th>created_datetime</th>\n",
       "      <th>last_modified_t</th>\n",
       "      <th>last_modified_datetime</th>\n",
       "      <th>product_name</th>\n",
       "      <th>quantity</th>\n",
       "      <th>brands</th>\n",
       "      <th>...</th>\n",
       "      <th>energy_100g</th>\n",
       "      <th>fat_100g</th>\n",
       "      <th>saturated-fat_100g</th>\n",
       "      <th>carbohydrates_100g</th>\n",
       "      <th>sugars_100g</th>\n",
       "      <th>fiber_100g</th>\n",
       "      <th>proteins_100g</th>\n",
       "      <th>salt_100g</th>\n",
       "      <th>sodium_100g</th>\n",
       "      <th>nutrition-score-fr_100g</th>\n",
       "    </tr>\n",
       "  </thead>\n",
       "  <tbody>\n",
       "    <tr>\n",
       "      <th>0</th>\n",
       "      <td>00000000000000225</td>\n",
       "      <td>http://world-en.openfoodfacts.org/product/0000...</td>\n",
       "      <td>nutrinet-sante</td>\n",
       "      <td>1623855208</td>\n",
       "      <td>2021-06-16T14:53:28Z</td>\n",
       "      <td>1623855209</td>\n",
       "      <td>2021-06-16T14:53:29Z</td>\n",
       "      <td>jeunes pousses</td>\n",
       "      <td>NaN</td>\n",
       "      <td>endives</td>\n",
       "      <td>...</td>\n",
       "      <td>NaN</td>\n",
       "      <td>NaN</td>\n",
       "      <td>NaN</td>\n",
       "      <td>NaN</td>\n",
       "      <td>NaN</td>\n",
       "      <td>NaN</td>\n",
       "      <td>NaN</td>\n",
       "      <td>NaN</td>\n",
       "      <td>NaN</td>\n",
       "      <td>NaN</td>\n",
       "    </tr>\n",
       "    <tr>\n",
       "      <th>1</th>\n",
       "      <td>0000000000017</td>\n",
       "      <td>http://world-en.openfoodfacts.org/product/0000...</td>\n",
       "      <td>kiliweb</td>\n",
       "      <td>1529059080</td>\n",
       "      <td>2018-06-15T10:38:00Z</td>\n",
       "      <td>1561463718</td>\n",
       "      <td>2019-06-25T11:55:18Z</td>\n",
       "      <td>Vitória crackers</td>\n",
       "      <td>NaN</td>\n",
       "      <td>NaN</td>\n",
       "      <td>...</td>\n",
       "      <td>1569</td>\n",
       "      <td>7</td>\n",
       "      <td>3.08</td>\n",
       "      <td>70.1</td>\n",
       "      <td>15</td>\n",
       "      <td>NaN</td>\n",
       "      <td>7.8</td>\n",
       "      <td>1.4</td>\n",
       "      <td>0.56</td>\n",
       "      <td>NaN</td>\n",
       "    </tr>\n",
       "    <tr>\n",
       "      <th>2</th>\n",
       "      <td>0000000000031</td>\n",
       "      <td>http://world-en.openfoodfacts.org/product/0000...</td>\n",
       "      <td>isagoofy</td>\n",
       "      <td>1539464774</td>\n",
       "      <td>2018-10-13T21:06:14Z</td>\n",
       "      <td>1539464817</td>\n",
       "      <td>2018-10-13T21:06:57Z</td>\n",
       "      <td>Cacao</td>\n",
       "      <td>130 g</td>\n",
       "      <td>NaN</td>\n",
       "      <td>...</td>\n",
       "      <td>NaN</td>\n",
       "      <td>NaN</td>\n",
       "      <td>NaN</td>\n",
       "      <td>NaN</td>\n",
       "      <td>NaN</td>\n",
       "      <td>NaN</td>\n",
       "      <td>NaN</td>\n",
       "      <td>NaN</td>\n",
       "      <td>NaN</td>\n",
       "      <td>NaN</td>\n",
       "    </tr>\n",
       "    <tr>\n",
       "      <th>3</th>\n",
       "      <td>000000000003327986</td>\n",
       "      <td>http://world-en.openfoodfacts.org/product/0000...</td>\n",
       "      <td>kiliweb</td>\n",
       "      <td>1574175736</td>\n",
       "      <td>2019-11-19T15:02:16Z</td>\n",
       "      <td>1574175737</td>\n",
       "      <td>2019-11-19T15:02:17Z</td>\n",
       "      <td>Filetes de pollo empanado</td>\n",
       "      <td>NaN</td>\n",
       "      <td>NaN</td>\n",
       "      <td>...</td>\n",
       "      <td>NaN</td>\n",
       "      <td>NaN</td>\n",
       "      <td>NaN</td>\n",
       "      <td>NaN</td>\n",
       "      <td>NaN</td>\n",
       "      <td>NaN</td>\n",
       "      <td>NaN</td>\n",
       "      <td>NaN</td>\n",
       "      <td>NaN</td>\n",
       "      <td>NaN</td>\n",
       "    </tr>\n",
       "    <tr>\n",
       "      <th>4</th>\n",
       "      <td>000000000004622327</td>\n",
       "      <td>http://world-en.openfoodfacts.org/product/0000...</td>\n",
       "      <td>kiliweb</td>\n",
       "      <td>1619501895</td>\n",
       "      <td>2021-04-27T05:38:15Z</td>\n",
       "      <td>1619501897</td>\n",
       "      <td>2021-04-27T05:38:17Z</td>\n",
       "      <td>Hamburguesas de ternera 100%</td>\n",
       "      <td>NaN</td>\n",
       "      <td>NaN</td>\n",
       "      <td>...</td>\n",
       "      <td>3661</td>\n",
       "      <td>15.1</td>\n",
       "      <td>6.1</td>\n",
       "      <td>2.6</td>\n",
       "      <td>1</td>\n",
       "      <td>NaN</td>\n",
       "      <td>15.7</td>\n",
       "      <td>2.1</td>\n",
       "      <td>0.84</td>\n",
       "      <td>NaN</td>\n",
       "    </tr>\n",
       "  </tbody>\n",
       "</table>\n",
       "<p>5 rows × 50 columns</p>\n",
       "</div>"
      ],
      "text/plain": [
       "                 code                                                url  \\\n",
       "0   00000000000000225  http://world-en.openfoodfacts.org/product/0000...   \n",
       "1       0000000000017  http://world-en.openfoodfacts.org/product/0000...   \n",
       "2       0000000000031  http://world-en.openfoodfacts.org/product/0000...   \n",
       "3  000000000003327986  http://world-en.openfoodfacts.org/product/0000...   \n",
       "4  000000000004622327  http://world-en.openfoodfacts.org/product/0000...   \n",
       "\n",
       "          creator   created_t      created_datetime  last_modified_t  \\\n",
       "0  nutrinet-sante  1623855208  2021-06-16T14:53:28Z       1623855209   \n",
       "1         kiliweb  1529059080  2018-06-15T10:38:00Z       1561463718   \n",
       "2        isagoofy  1539464774  2018-10-13T21:06:14Z       1539464817   \n",
       "3         kiliweb  1574175736  2019-11-19T15:02:16Z       1574175737   \n",
       "4         kiliweb  1619501895  2021-04-27T05:38:15Z       1619501897   \n",
       "\n",
       "  last_modified_datetime                  product_name quantity   brands  ...  \\\n",
       "0   2021-06-16T14:53:29Z                jeunes pousses      NaN  endives  ...   \n",
       "1   2019-06-25T11:55:18Z              Vitória crackers      NaN      NaN  ...   \n",
       "2   2018-10-13T21:06:57Z                         Cacao    130 g      NaN  ...   \n",
       "3   2019-11-19T15:02:17Z     Filetes de pollo empanado      NaN      NaN  ...   \n",
       "4   2021-04-27T05:38:17Z  Hamburguesas de ternera 100%      NaN      NaN  ...   \n",
       "\n",
       "  energy_100g fat_100g saturated-fat_100g carbohydrates_100g sugars_100g  \\\n",
       "0         NaN      NaN                NaN                NaN         NaN   \n",
       "1        1569        7               3.08               70.1          15   \n",
       "2         NaN      NaN                NaN                NaN         NaN   \n",
       "3         NaN      NaN                NaN                NaN         NaN   \n",
       "4        3661     15.1                6.1                2.6           1   \n",
       "\n",
       "  fiber_100g proteins_100g salt_100g sodium_100g nutrition-score-fr_100g  \n",
       "0        NaN           NaN       NaN         NaN                     NaN  \n",
       "1        NaN           7.8       1.4        0.56                     NaN  \n",
       "2        NaN           NaN       NaN         NaN                     NaN  \n",
       "3        NaN           NaN       NaN         NaN                     NaN  \n",
       "4        NaN          15.7       2.1        0.84                     NaN  \n",
       "\n",
       "[5 rows x 50 columns]"
      ]
     },
     "execution_count": 7,
     "metadata": {},
     "output_type": "execute_result"
    }
   ],
   "source": [
    "df.head()"
   ]
  },
  {
   "cell_type": "markdown",
   "id": "3e38cc88-4e19-4d4b-952b-9b11e8f60641",
   "metadata": {},
   "source": [
    "Avant de poursuivre le traitement des valeurs manquantes, on va effectuer quelques autres vérifications. "
   ]
  },
  {
   "cell_type": "markdown",
   "id": "a97f867f-3ad8-406d-8623-d12524e8db7e",
   "metadata": {},
   "source": [
    "## II - Modification des types"
   ]
  },
  {
   "cell_type": "markdown",
   "id": "f5bb0d68-3d2c-499f-9a42-49d863218f37",
   "metadata": {},
   "source": [
    "On va donc modifier les types pour permettre une meilleure imputation. "
   ]
  },
  {
   "cell_type": "code",
   "execution_count": 8,
   "id": "ae35dda9-6030-4543-8f92-7878edfd735d",
   "metadata": {},
   "outputs": [],
   "source": [
    "# modification des types du dataset en float quand cela est nécessaire\n",
    "num_col = [\"energy-kcal_100g\", \"energy_100g\", \"fat_100g\", \"saturated-fat_100g\", \"carbohydrates_100g\", \"proteins_100g\", \"fiber_100g\", \"salt_100g\", \"sodium_100g\", \"sugars_100g\"]\n",
    "\n",
    "\n",
    "for col in num_col:\n",
    "    df[col] = pd.to_numeric(df[col])"
   ]
  },
  {
   "cell_type": "markdown",
   "id": "2af93393-8b19-4b27-b479-b9196e2642c2",
   "metadata": {},
   "source": [
    "Pour certaines variables qui sont des variables quantitatives discrètes. On va d'abord faire une imputation par rapport à la valeur médiane pour contrer les possibles valeurs extrêmes. Suite à cela, on va changer leur type en *int* avant de les transformer à nouveau en *object*."
   ]
  },
  {
   "cell_type": "code",
   "execution_count": 9,
   "id": "18af501a-85aa-45fd-8747-d97fc6940dfe",
   "metadata": {},
   "outputs": [],
   "source": [
    "col_cat = [\"additives_n\", \"ingredients_from_palm_oil_n\", \"ingredients_that_may_be_from_palm_oil_n\",\n",
    "           \"nutriscore_score\", \"nova_group\"]\n",
    "\n",
    "for cols in col_cat:\n",
    "    df[cols].fillna(df[cols].median(), inplace=True)\n",
    "    \n",
    "for col in col_cat:\n",
    "    df[col] = df[col].astype(\"int\")\n",
    "    df[col] = df[col].astype(\"object\")"
   ]
  },
  {
   "cell_type": "markdown",
   "id": "4363ea6e-eb66-4086-ba6b-df3fef6495ec",
   "metadata": {},
   "source": [
    "On crée des variables de type *datetime* pour les dates et on va créer une colonne année qui sera utilisée dans la suite de l'analyse. On en profite pour supprimer les colonnes dont on ne se servira pas dans la suite de l'analyse. "
   ]
  },
  {
   "cell_type": "code",
   "execution_count": 10,
   "id": "e0b44b2b-568a-4094-af73-de254853db41",
   "metadata": {},
   "outputs": [],
   "source": [
    "df[\"created_datetime\"] = pd.to_datetime(df[\"created_datetime\"], format=\"%Y-%m-%d %H:%M:%S.%f\", utc=True)\n",
    "df['created_years'] = pd.to_datetime(df['created_datetime'], format='%d:%m:%Y').dt.year\n",
    "\n",
    "df[\"last_modified_datetime\"] = pd.to_datetime(df[\"last_modified_datetime\"], format=\"%Y-%m-%d %H:%M:%S.%f\", utc=True)\n",
    "df['last_modified_years'] = pd.to_datetime(df['last_modified_datetime'], format='%d:%m:%Y').dt.year"
   ]
  },
  {
   "cell_type": "code",
   "execution_count": 11,
   "id": "04dab655-1915-44f3-b24c-6b9fbaba32f7",
   "metadata": {},
   "outputs": [],
   "source": [
    "df.drop([\"created_datetime\", \"last_modified_datetime\"], axis=1, inplace=True)"
   ]
  },
  {
   "cell_type": "code",
   "execution_count": 12,
   "id": "56163722-2910-4485-a3e4-b9cf11c663fc",
   "metadata": {},
   "outputs": [
    {
     "name": "stdout",
     "output_type": "stream",
     "text": [
      "<class 'pandas.core.frame.DataFrame'>\n",
      "RangeIndex: 1837365 entries, 0 to 1837364\n",
      "Data columns (total 50 columns):\n",
      " #   Column                                   Dtype  \n",
      "---  ------                                   -----  \n",
      " 0   code                                     object \n",
      " 1   url                                      object \n",
      " 2   creator                                  object \n",
      " 3   created_t                                int64  \n",
      " 4   last_modified_t                          int64  \n",
      " 5   product_name                             object \n",
      " 6   quantity                                 object \n",
      " 7   brands                                   object \n",
      " 8   brands_tags                              object \n",
      " 9   categories                               object \n",
      " 10  categories_tags                          object \n",
      " 11  categories_en                            object \n",
      " 12  countries                                object \n",
      " 13  countries_tags                           object \n",
      " 14  countries_en                             object \n",
      " 15  ingredients_text                         object \n",
      " 16  serving_size                             object \n",
      " 17  serving_quantity                         object \n",
      " 18  additives_n                              object \n",
      " 19  ingredients_from_palm_oil_n              object \n",
      " 20  ingredients_that_may_be_from_palm_oil_n  object \n",
      " 21  nutriscore_score                         object \n",
      " 22  nutriscore_grade                         object \n",
      " 23  nova_group                               object \n",
      " 24  pnns_groups_1                            object \n",
      " 25  pnns_groups_2                            object \n",
      " 26  states                                   object \n",
      " 27  states_tags                              object \n",
      " 28  states_en                                object \n",
      " 29  main_category                            object \n",
      " 30  main_category_en                         object \n",
      " 31  image_url                                object \n",
      " 32  image_small_url                          object \n",
      " 33  image_ingredients_url                    object \n",
      " 34  image_ingredients_small_url              object \n",
      " 35  image_nutrition_url                      object \n",
      " 36  image_nutrition_small_url                object \n",
      " 37  energy-kcal_100g                         float64\n",
      " 38  energy_100g                              float64\n",
      " 39  fat_100g                                 float64\n",
      " 40  saturated-fat_100g                       float64\n",
      " 41  carbohydrates_100g                       float64\n",
      " 42  sugars_100g                              float64\n",
      " 43  fiber_100g                               float64\n",
      " 44  proteins_100g                            float64\n",
      " 45  salt_100g                                float64\n",
      " 46  sodium_100g                              float64\n",
      " 47  nutrition-score-fr_100g                  float64\n",
      " 48  created_years                            int64  \n",
      " 49  last_modified_years                      int64  \n",
      "dtypes: float64(11), int64(4), object(35)\n",
      "memory usage: 700.9+ MB\n"
     ]
    }
   ],
   "source": [
    "df.info()"
   ]
  },
  {
   "cell_type": "code",
   "execution_count": 13,
   "id": "c89c4da0-37cb-41aa-92f6-3361a32aca9d",
   "metadata": {},
   "outputs": [
    {
     "data": {
      "text/html": [
       "<div>\n",
       "<style scoped>\n",
       "    .dataframe tbody tr th:only-of-type {\n",
       "        vertical-align: middle;\n",
       "    }\n",
       "\n",
       "    .dataframe tbody tr th {\n",
       "        vertical-align: top;\n",
       "    }\n",
       "\n",
       "    .dataframe thead th {\n",
       "        text-align: right;\n",
       "    }\n",
       "</style>\n",
       "<table border=\"1\" class=\"dataframe\">\n",
       "  <thead>\n",
       "    <tr style=\"text-align: right;\">\n",
       "      <th></th>\n",
       "      <th>created_t</th>\n",
       "      <th>last_modified_t</th>\n",
       "      <th>energy-kcal_100g</th>\n",
       "      <th>energy_100g</th>\n",
       "      <th>fat_100g</th>\n",
       "      <th>saturated-fat_100g</th>\n",
       "      <th>carbohydrates_100g</th>\n",
       "      <th>sugars_100g</th>\n",
       "      <th>fiber_100g</th>\n",
       "      <th>proteins_100g</th>\n",
       "      <th>salt_100g</th>\n",
       "      <th>sodium_100g</th>\n",
       "      <th>nutrition-score-fr_100g</th>\n",
       "      <th>created_years</th>\n",
       "      <th>last_modified_years</th>\n",
       "    </tr>\n",
       "  </thead>\n",
       "  <tbody>\n",
       "    <tr>\n",
       "      <th>count</th>\n",
       "      <td>1.837365e+06</td>\n",
       "      <td>1.837365e+06</td>\n",
       "      <td>1.405073e+06</td>\n",
       "      <td>1.457855e+06</td>\n",
       "      <td>1.449790e+06</td>\n",
       "      <td>1.406180e+06</td>\n",
       "      <td>1.449349e+06</td>\n",
       "      <td>1.432417e+06</td>\n",
       "      <td>475926.000000</td>\n",
       "      <td>1.450905e+06</td>\n",
       "      <td>1.389357e+06</td>\n",
       "      <td>1.389353e+06</td>\n",
       "      <td>677532.000000</td>\n",
       "      <td>1.837365e+06</td>\n",
       "      <td>1.837365e+06</td>\n",
       "    </tr>\n",
       "    <tr>\n",
       "      <th>mean</th>\n",
       "      <td>1.554378e+09</td>\n",
       "      <td>1.589384e+09</td>\n",
       "      <td>6.250851e+06</td>\n",
       "      <td>4.572169e+36</td>\n",
       "      <td>1.471324e+01</td>\n",
       "      <td>1.226623e+01</td>\n",
       "      <td>2.882682e+01</td>\n",
       "      <td>1.398868e+01</td>\n",
       "      <td>5.135814</td>\n",
       "      <td>8.778622e+00</td>\n",
       "      <td>2.882045e+00</td>\n",
       "      <td>1.152853e+00</td>\n",
       "      <td>9.171624</td>\n",
       "      <td>2.018832e+03</td>\n",
       "      <td>2.019957e+03</td>\n",
       "    </tr>\n",
       "    <tr>\n",
       "      <th>std</th>\n",
       "      <td>5.108632e+07</td>\n",
       "      <td>2.937790e+07</td>\n",
       "      <td>7.334753e+09</td>\n",
       "      <td>5.520513e+39</td>\n",
       "      <td>8.538600e+02</td>\n",
       "      <td>8.432970e+03</td>\n",
       "      <td>6.434753e+02</td>\n",
       "      <td>8.358298e+02</td>\n",
       "      <td>1449.557263</td>\n",
       "      <td>1.452166e+02</td>\n",
       "      <td>8.593165e+02</td>\n",
       "      <td>3.437268e+02</td>\n",
       "      <td>8.874919</td>\n",
       "      <td>1.628261e+00</td>\n",
       "      <td>9.921528e-01</td>\n",
       "    </tr>\n",
       "    <tr>\n",
       "      <th>min</th>\n",
       "      <td>1.328021e+09</td>\n",
       "      <td>1.333873e+09</td>\n",
       "      <td>0.000000e+00</td>\n",
       "      <td>0.000000e+00</td>\n",
       "      <td>0.000000e+00</td>\n",
       "      <td>0.000000e+00</td>\n",
       "      <td>-1.000000e+00</td>\n",
       "      <td>-1.000000e+00</td>\n",
       "      <td>-20.000000</td>\n",
       "      <td>-5.000000e+02</td>\n",
       "      <td>0.000000e+00</td>\n",
       "      <td>0.000000e+00</td>\n",
       "      <td>-15.000000</td>\n",
       "      <td>2.012000e+03</td>\n",
       "      <td>2.012000e+03</td>\n",
       "    </tr>\n",
       "    <tr>\n",
       "      <th>25%</th>\n",
       "      <td>1.521058e+09</td>\n",
       "      <td>1.579713e+09</td>\n",
       "      <td>1.010000e+02</td>\n",
       "      <td>4.180000e+02</td>\n",
       "      <td>7.700000e-01</td>\n",
       "      <td>1.000000e-01</td>\n",
       "      <td>3.500000e+00</td>\n",
       "      <td>6.000000e-01</td>\n",
       "      <td>0.000000</td>\n",
       "      <td>1.300000e+00</td>\n",
       "      <td>7.000000e-02</td>\n",
       "      <td>2.800000e-02</td>\n",
       "      <td>2.000000</td>\n",
       "      <td>2.018000e+03</td>\n",
       "      <td>2.020000e+03</td>\n",
       "    </tr>\n",
       "    <tr>\n",
       "      <th>50%</th>\n",
       "      <td>1.565864e+09</td>\n",
       "      <td>1.588793e+09</td>\n",
       "      <td>2.610000e+02</td>\n",
       "      <td>1.084000e+03</td>\n",
       "      <td>7.000000e+00</td>\n",
       "      <td>1.800000e+00</td>\n",
       "      <td>1.504425e+01</td>\n",
       "      <td>3.570000e+00</td>\n",
       "      <td>1.600000</td>\n",
       "      <td>6.000000e+00</td>\n",
       "      <td>5.600000e-01</td>\n",
       "      <td>2.240000e-01</td>\n",
       "      <td>10.000000</td>\n",
       "      <td>2.019000e+03</td>\n",
       "      <td>2.020000e+03</td>\n",
       "    </tr>\n",
       "    <tr>\n",
       "      <th>75%</th>\n",
       "      <td>1.590926e+09</td>\n",
       "      <td>1.612870e+09</td>\n",
       "      <td>4.000000e+02</td>\n",
       "      <td>1.674000e+03</td>\n",
       "      <td>2.140000e+01</td>\n",
       "      <td>7.140000e+00</td>\n",
       "      <td>5.300000e+01</td>\n",
       "      <td>1.800000e+01</td>\n",
       "      <td>3.600000</td>\n",
       "      <td>1.230000e+01</td>\n",
       "      <td>1.400000e+00</td>\n",
       "      <td>5.600000e-01</td>\n",
       "      <td>16.000000</td>\n",
       "      <td>2.020000e+03</td>\n",
       "      <td>2.021000e+03</td>\n",
       "    </tr>\n",
       "    <tr>\n",
       "      <th>max</th>\n",
       "      <td>1.624323e+09</td>\n",
       "      <td>1.624323e+09</td>\n",
       "      <td>8.693855e+12</td>\n",
       "      <td>6.665559e+42</td>\n",
       "      <td>9.999990e+05</td>\n",
       "      <td>9.999999e+06</td>\n",
       "      <td>7.629390e+05</td>\n",
       "      <td>9.999990e+05</td>\n",
       "      <td>999999.000000</td>\n",
       "      <td>1.730000e+05</td>\n",
       "      <td>9.999990e+05</td>\n",
       "      <td>3.999996e+05</td>\n",
       "      <td>40.000000</td>\n",
       "      <td>2.021000e+03</td>\n",
       "      <td>2.021000e+03</td>\n",
       "    </tr>\n",
       "  </tbody>\n",
       "</table>\n",
       "</div>"
      ],
      "text/plain": [
       "          created_t  last_modified_t  energy-kcal_100g   energy_100g  \\\n",
       "count  1.837365e+06     1.837365e+06      1.405073e+06  1.457855e+06   \n",
       "mean   1.554378e+09     1.589384e+09      6.250851e+06  4.572169e+36   \n",
       "std    5.108632e+07     2.937790e+07      7.334753e+09  5.520513e+39   \n",
       "min    1.328021e+09     1.333873e+09      0.000000e+00  0.000000e+00   \n",
       "25%    1.521058e+09     1.579713e+09      1.010000e+02  4.180000e+02   \n",
       "50%    1.565864e+09     1.588793e+09      2.610000e+02  1.084000e+03   \n",
       "75%    1.590926e+09     1.612870e+09      4.000000e+02  1.674000e+03   \n",
       "max    1.624323e+09     1.624323e+09      8.693855e+12  6.665559e+42   \n",
       "\n",
       "           fat_100g  saturated-fat_100g  carbohydrates_100g   sugars_100g  \\\n",
       "count  1.449790e+06        1.406180e+06        1.449349e+06  1.432417e+06   \n",
       "mean   1.471324e+01        1.226623e+01        2.882682e+01  1.398868e+01   \n",
       "std    8.538600e+02        8.432970e+03        6.434753e+02  8.358298e+02   \n",
       "min    0.000000e+00        0.000000e+00       -1.000000e+00 -1.000000e+00   \n",
       "25%    7.700000e-01        1.000000e-01        3.500000e+00  6.000000e-01   \n",
       "50%    7.000000e+00        1.800000e+00        1.504425e+01  3.570000e+00   \n",
       "75%    2.140000e+01        7.140000e+00        5.300000e+01  1.800000e+01   \n",
       "max    9.999990e+05        9.999999e+06        7.629390e+05  9.999990e+05   \n",
       "\n",
       "          fiber_100g  proteins_100g     salt_100g   sodium_100g  \\\n",
       "count  475926.000000   1.450905e+06  1.389357e+06  1.389353e+06   \n",
       "mean        5.135814   8.778622e+00  2.882045e+00  1.152853e+00   \n",
       "std      1449.557263   1.452166e+02  8.593165e+02  3.437268e+02   \n",
       "min       -20.000000  -5.000000e+02  0.000000e+00  0.000000e+00   \n",
       "25%         0.000000   1.300000e+00  7.000000e-02  2.800000e-02   \n",
       "50%         1.600000   6.000000e+00  5.600000e-01  2.240000e-01   \n",
       "75%         3.600000   1.230000e+01  1.400000e+00  5.600000e-01   \n",
       "max    999999.000000   1.730000e+05  9.999990e+05  3.999996e+05   \n",
       "\n",
       "       nutrition-score-fr_100g  created_years  last_modified_years  \n",
       "count            677532.000000   1.837365e+06         1.837365e+06  \n",
       "mean                  9.171624   2.018832e+03         2.019957e+03  \n",
       "std                   8.874919   1.628261e+00         9.921528e-01  \n",
       "min                 -15.000000   2.012000e+03         2.012000e+03  \n",
       "25%                   2.000000   2.018000e+03         2.020000e+03  \n",
       "50%                  10.000000   2.019000e+03         2.020000e+03  \n",
       "75%                  16.000000   2.020000e+03         2.021000e+03  \n",
       "max                  40.000000   2.021000e+03         2.021000e+03  "
      ]
     },
     "execution_count": 13,
     "metadata": {},
     "output_type": "execute_result"
    }
   ],
   "source": [
    "df.describe()"
   ]
  },
  {
   "cell_type": "code",
   "execution_count": 14,
   "id": "23c9229b-f95c-46ce-9f9f-648693f679ce",
   "metadata": {},
   "outputs": [
    {
     "data": {
      "text/plain": [
       "(1837365, 50)"
      ]
     },
     "execution_count": 14,
     "metadata": {},
     "output_type": "execute_result"
    }
   ],
   "source": [
    "df.shape"
   ]
  },
  {
   "cell_type": "markdown",
   "id": "97c8e087-309f-4b06-88fc-c84437eb81fd",
   "metadata": {},
   "source": [
    "## III - Formatage des chaînes de caractères"
   ]
  },
  {
   "cell_type": "markdown",
   "id": "5919cb42-5590-493f-9c0f-83a237136ebd",
   "metadata": {},
   "source": [
    "On forme les chaînes de caractères pour rendre leur lecture plus simple et plus agréable. "
   ]
  },
  {
   "cell_type": "code",
   "execution_count": 15,
   "id": "d9ebb010-8199-45d4-9e37-ca25f23a2bc6",
   "metadata": {},
   "outputs": [],
   "source": [
    "# formatage des chaînes de caractères pour faciliter la lecture et la détection des données dupliquées\n",
    "cols = [\"creator\", \"product_name\", \"quantity\", \"brands\", \"countries\", \"categories\", \"ingredients_text\",\n",
    "        \"serving_size\", \"states\", \"main_category\"]\n",
    "\n",
    "for col in cols:\n",
    "    if df[col].dtypes == \"object\":\n",
    "        df[col] = df[col].str.lower()\n",
    "        df[col] = df[col].str.capitalize()"
   ]
  },
  {
   "cell_type": "markdown",
   "id": "82d086b0-54d3-45db-90cd-2015b6ad750a",
   "metadata": {},
   "source": [
    "## IV - Traitement des informations redondantes"
   ]
  },
  {
   "cell_type": "markdown",
   "id": "250563b5-8ce7-47c0-a449-dbb9574ac1dc",
   "metadata": {},
   "source": [
    "On va retrouver deux types de redondances dans nos données : \n",
    "- Celles qui correspondent à des colonnes dont les noms sont différents mais donnent la même information (les colonnes _en ou _tags par exemple)\n",
    "- Celles qui correspondent à des entrées multiples\n",
    "\n",
    "Dans un premier temps, nous allons nous créer une liste avec les noms des colonnes à supprimer (avec le suffixe _en ou _tags). Ensuite, on cherchera à supprimer les données dupliquées à l'aide des méthodes spécifiques des dataframes Pandas. "
   ]
  },
  {
   "cell_type": "markdown",
   "id": "e9cb4ad1-cf53-4af3-8475-de870a3f2479",
   "metadata": {},
   "source": [
    "### A - Suppression des colonnes redondantes"
   ]
  },
  {
   "cell_type": "code",
   "execution_count": 16,
   "id": "6aff96cb-e76a-4cd1-be93-2b7e00ff0479",
   "metadata": {},
   "outputs": [],
   "source": [
    "# On supprime les colonnes redondantes avec un suffixe\n",
    "# Mais aussi celle contenant les urls des images des produits ainsi que les stamps de datetime\n",
    "\n",
    "drop_cols = [\"created_t\", \"last_modified_t\", \"brands_tags\", \"categories_tags\", \"categories_en\", \"countries_tags\", \"countries_en\", \"states_tags\", \"states_en\", \"energy_100g\", \"salt_100g\",\n",
    "             \"main_category_en\", \"image_small_url\", \"image_ingredients_small_url\", \"image_nutrition_small_url\", \"nutrition-score-fr_100g\"]\n",
    "\n",
    "df.drop(drop_cols, axis=1, inplace=True)"
   ]
  },
  {
   "cell_type": "markdown",
   "id": "ac261428-614c-4290-9dd2-cd94be47d921",
   "metadata": {},
   "source": [
    "### B - Suppression des entrées multiples"
   ]
  },
  {
   "cell_type": "code",
   "execution_count": 17,
   "id": "adfaa04b-f157-4a59-9d98-1f727d68f42a",
   "metadata": {},
   "outputs": [
    {
     "data": {
      "text/html": [
       "<div>\n",
       "<style scoped>\n",
       "    .dataframe tbody tr th:only-of-type {\n",
       "        vertical-align: middle;\n",
       "    }\n",
       "\n",
       "    .dataframe tbody tr th {\n",
       "        vertical-align: top;\n",
       "    }\n",
       "\n",
       "    .dataframe thead th {\n",
       "        text-align: right;\n",
       "    }\n",
       "</style>\n",
       "<table border=\"1\" class=\"dataframe\">\n",
       "  <thead>\n",
       "    <tr style=\"text-align: right;\">\n",
       "      <th></th>\n",
       "      <th>code</th>\n",
       "      <th>url</th>\n",
       "      <th>creator</th>\n",
       "      <th>product_name</th>\n",
       "      <th>quantity</th>\n",
       "      <th>brands</th>\n",
       "      <th>categories</th>\n",
       "      <th>countries</th>\n",
       "      <th>ingredients_text</th>\n",
       "      <th>serving_size</th>\n",
       "      <th>...</th>\n",
       "      <th>energy-kcal_100g</th>\n",
       "      <th>fat_100g</th>\n",
       "      <th>saturated-fat_100g</th>\n",
       "      <th>carbohydrates_100g</th>\n",
       "      <th>sugars_100g</th>\n",
       "      <th>fiber_100g</th>\n",
       "      <th>proteins_100g</th>\n",
       "      <th>sodium_100g</th>\n",
       "      <th>created_years</th>\n",
       "      <th>last_modified_years</th>\n",
       "    </tr>\n",
       "  </thead>\n",
       "  <tbody>\n",
       "    <tr>\n",
       "      <th>1383041</th>\n",
       "      <td>7340011495437</td>\n",
       "      <td>http://world-en.openfoodfacts.org/product/7340...</td>\n",
       "      <td>Halal-app-chakib</td>\n",
       "      <td>NaN</td>\n",
       "      <td>NaN</td>\n",
       "      <td>NaN</td>\n",
       "      <td>NaN</td>\n",
       "      <td>Suomi</td>\n",
       "      <td>NaN</td>\n",
       "      <td>NaN</td>\n",
       "      <td>...</td>\n",
       "      <td>NaN</td>\n",
       "      <td>NaN</td>\n",
       "      <td>NaN</td>\n",
       "      <td>NaN</td>\n",
       "      <td>NaN</td>\n",
       "      <td>NaN</td>\n",
       "      <td>NaN</td>\n",
       "      <td>NaN</td>\n",
       "      <td>2021</td>\n",
       "      <td>2021</td>\n",
       "    </tr>\n",
       "  </tbody>\n",
       "</table>\n",
       "<p>1 rows × 34 columns</p>\n",
       "</div>"
      ],
      "text/plain": [
       "                  code                                                url  \\\n",
       "1383041  7340011495437  http://world-en.openfoodfacts.org/product/7340...   \n",
       "\n",
       "                  creator product_name quantity brands categories countries  \\\n",
       "1383041  Halal-app-chakib          NaN      NaN    NaN        NaN     Suomi   \n",
       "\n",
       "        ingredients_text serving_size  ... energy-kcal_100g fat_100g  \\\n",
       "1383041              NaN          NaN  ...              NaN      NaN   \n",
       "\n",
       "        saturated-fat_100g carbohydrates_100g sugars_100g fiber_100g  \\\n",
       "1383041                NaN                NaN         NaN        NaN   \n",
       "\n",
       "        proteins_100g sodium_100g created_years last_modified_years  \n",
       "1383041           NaN         NaN          2021                2021  \n",
       "\n",
       "[1 rows x 34 columns]"
      ]
     },
     "execution_count": 17,
     "metadata": {},
     "output_type": "execute_result"
    }
   ],
   "source": [
    "# affichage des entrées multiples dans notre dataset\n",
    "df[df.duplicated()]"
   ]
  },
  {
   "cell_type": "markdown",
   "id": "3ba7f857-a8b1-432a-987d-74a828329bb2",
   "metadata": {},
   "source": [
    "On remarque qu'il n'y a qu'une seule entrée dupliquée, on va donc la supprimer à l'aide de la méthode *.drop_duplicates()* de Pandas. "
   ]
  },
  {
   "cell_type": "code",
   "execution_count": 18,
   "id": "72c25a50-2079-4ce9-b08b-d061ca882aac",
   "metadata": {},
   "outputs": [
    {
     "data": {
      "text/plain": [
       "(1837364, 34)"
      ]
     },
     "execution_count": 18,
     "metadata": {},
     "output_type": "execute_result"
    }
   ],
   "source": [
    "df.drop_duplicates(inplace=True)\n",
    "df.shape"
   ]
  },
  {
   "cell_type": "markdown",
   "id": "ec3b9b42",
   "metadata": {},
   "source": [
    "Cette étape a mené à la suppression de 16 colonnes et d'une entrée (ligne). "
   ]
  },
  {
   "cell_type": "markdown",
   "id": "513e7f1e-376a-4a94-977c-20bf610889ea",
   "metadata": {},
   "source": [
    "## V - Détections et corrections des anomalies"
   ]
  },
  {
   "cell_type": "markdown",
   "id": "9effe3a2-932e-411d-8b6d-9f5c371e03c7",
   "metadata": {},
   "source": [
    "Pour détecter les anomalies et identifier le type de correction à effectuer, on va commencer par les visualiser à l'aide de boîtes à moustaches. Pour étayer cette analyse, on va aussi générer un tableau contenant les différentes informations statistiques pour mieux identifier la nature de nos anomalies. "
   ]
  },
  {
   "cell_type": "markdown",
   "id": "ca5f0321-24c9-4e10-a682-02cc7b958f28",
   "metadata": {},
   "source": [
    "### A) Visualisation et identification des anomalies"
   ]
  },
  {
   "cell_type": "markdown",
   "id": "e1b5e571-556a-4501-8e0c-c44ff9d5e9b8",
   "metadata": {},
   "source": [
    "- Détection graphique"
   ]
  },
  {
   "cell_type": "code",
   "execution_count": 19,
   "id": "0ab121bb-de9e-4117-93eb-a24000edb1f2",
   "metadata": {},
   "outputs": [
    {
     "data": {
      "image/png": "[encoded data removed]",
      "text/plain": [
       "<Figure size 432x288 with 1 Axes>"
      ]
     },
     "metadata": {
      "needs_background": "light"
     },
     "output_type": "display_data"
    },
    {
     "data": {
      "image/png": "[encoded data removed]",
      "text/plain": [
       "<Figure size 432x288 with 1 Axes>"
      ]
     },
     "metadata": {
      "needs_background": "light"
     },
     "output_type": "display_data"
    },
    {
     "data": {
      "image/png": "[encoded data removed]",
      "text/plain": [
       "<Figure size 432x288 with 1 Axes>"
      ]
     },
     "metadata": {
      "needs_background": "light"
     },
     "output_type": "display_data"
    },
    {
     "data": {
      "image/png": "[encoded data removed]",
      "text/plain": [
       "<Figure size 432x288 with 1 Axes>"
      ]
     },
     "metadata": {
      "needs_background": "light"
     },
     "output_type": "display_data"
    },
    {
     "data": {
      "image/png": "[encoded data removed]",
      "text/plain": [
       "<Figure size 432x288 with 1 Axes>"
      ]
     },
     "metadata": {
      "needs_background": "light"
     },
     "output_type": "display_data"
    },
    {
     "data": {
      "image/png": "[encoded data removed]",
      "text/plain": [
       "<Figure size 432x288 with 1 Axes>"
      ]
     },
     "metadata": {
      "needs_background": "light"
     },
     "output_type": "display_data"
    },
    {
     "data": {
      "image/png": "[encoded data removed]",
      "text/plain": [
       "<Figure size 432x288 with 1 Axes>"
      ]
     },
     "metadata": {
      "needs_background": "light"
     },
     "output_type": "display_data"
    },
    {
     "data": {
      "image/png": "[encoded data removed]",
      "text/plain": [
       "<Figure size 432x288 with 1 Axes>"
      ]
     },
     "metadata": {
      "needs_background": "light"
     },
     "output_type": "display_data"
    }
   ],
   "source": [
    "# Création des boîtes à moustache pour détecter les anomalies des variables quantitatives\n",
    "for var in df.columns:\n",
    "    if df[var].dtypes == 'float64':\n",
    "        sns.boxplot(x=var, data=df)\n",
    "        plt.title(var)\n",
    "        plt.show()"
   ]
  },
  {
   "cell_type": "markdown",
   "id": "845a4e45-ff9e-43e7-8ec3-fff7c3929007",
   "metadata": {},
   "source": [
    "- Détection numérique"
   ]
  },
  {
   "cell_type": "code",
   "execution_count": 20,
   "id": "1959f748-5d12-4776-98e6-71bbbc90b73d",
   "metadata": {},
   "outputs": [
    {
     "data": {
      "text/html": [
       "<div>\n",
       "<style scoped>\n",
       "    .dataframe tbody tr th:only-of-type {\n",
       "        vertical-align: middle;\n",
       "    }\n",
       "\n",
       "    .dataframe tbody tr th {\n",
       "        vertical-align: top;\n",
       "    }\n",
       "\n",
       "    .dataframe thead th {\n",
       "        text-align: right;\n",
       "    }\n",
       "</style>\n",
       "<table border=\"1\" class=\"dataframe\">\n",
       "  <thead>\n",
       "    <tr style=\"text-align: right;\">\n",
       "      <th></th>\n",
       "      <th>energy-kcal_100g</th>\n",
       "      <th>fat_100g</th>\n",
       "      <th>saturated-fat_100g</th>\n",
       "      <th>carbohydrates_100g</th>\n",
       "      <th>sugars_100g</th>\n",
       "      <th>fiber_100g</th>\n",
       "      <th>proteins_100g</th>\n",
       "      <th>sodium_100g</th>\n",
       "      <th>created_years</th>\n",
       "      <th>last_modified_years</th>\n",
       "    </tr>\n",
       "  </thead>\n",
       "  <tbody>\n",
       "    <tr>\n",
       "      <th>count</th>\n",
       "      <td>1.405073e+06</td>\n",
       "      <td>1.449790e+06</td>\n",
       "      <td>1.406180e+06</td>\n",
       "      <td>1.449349e+06</td>\n",
       "      <td>1.432417e+06</td>\n",
       "      <td>475926.000000</td>\n",
       "      <td>1.450905e+06</td>\n",
       "      <td>1.389353e+06</td>\n",
       "      <td>1.837364e+06</td>\n",
       "      <td>1.837364e+06</td>\n",
       "    </tr>\n",
       "    <tr>\n",
       "      <th>mean</th>\n",
       "      <td>6.250851e+06</td>\n",
       "      <td>1.471324e+01</td>\n",
       "      <td>1.226623e+01</td>\n",
       "      <td>2.882682e+01</td>\n",
       "      <td>1.398868e+01</td>\n",
       "      <td>5.135814</td>\n",
       "      <td>8.778622e+00</td>\n",
       "      <td>1.152853e+00</td>\n",
       "      <td>2.018832e+03</td>\n",
       "      <td>2.019957e+03</td>\n",
       "    </tr>\n",
       "    <tr>\n",
       "      <th>std</th>\n",
       "      <td>7.334753e+09</td>\n",
       "      <td>8.538600e+02</td>\n",
       "      <td>8.432970e+03</td>\n",
       "      <td>6.434753e+02</td>\n",
       "      <td>8.358298e+02</td>\n",
       "      <td>1449.557263</td>\n",
       "      <td>1.452166e+02</td>\n",
       "      <td>3.437268e+02</td>\n",
       "      <td>1.628261e+00</td>\n",
       "      <td>9.921528e-01</td>\n",
       "    </tr>\n",
       "    <tr>\n",
       "      <th>min</th>\n",
       "      <td>0.000000e+00</td>\n",
       "      <td>0.000000e+00</td>\n",
       "      <td>0.000000e+00</td>\n",
       "      <td>-1.000000e+00</td>\n",
       "      <td>-1.000000e+00</td>\n",
       "      <td>-20.000000</td>\n",
       "      <td>-5.000000e+02</td>\n",
       "      <td>0.000000e+00</td>\n",
       "      <td>2.012000e+03</td>\n",
       "      <td>2.012000e+03</td>\n",
       "    </tr>\n",
       "    <tr>\n",
       "      <th>25%</th>\n",
       "      <td>1.010000e+02</td>\n",
       "      <td>7.700000e-01</td>\n",
       "      <td>1.000000e-01</td>\n",
       "      <td>3.500000e+00</td>\n",
       "      <td>6.000000e-01</td>\n",
       "      <td>0.000000</td>\n",
       "      <td>1.300000e+00</td>\n",
       "      <td>2.800000e-02</td>\n",
       "      <td>2.018000e+03</td>\n",
       "      <td>2.020000e+03</td>\n",
       "    </tr>\n",
       "    <tr>\n",
       "      <th>50%</th>\n",
       "      <td>2.610000e+02</td>\n",
       "      <td>7.000000e+00</td>\n",
       "      <td>1.800000e+00</td>\n",
       "      <td>1.504425e+01</td>\n",
       "      <td>3.570000e+00</td>\n",
       "      <td>1.600000</td>\n",
       "      <td>6.000000e+00</td>\n",
       "      <td>2.240000e-01</td>\n",
       "      <td>2.019000e+03</td>\n",
       "      <td>2.020000e+03</td>\n",
       "    </tr>\n",
       "    <tr>\n",
       "      <th>75%</th>\n",
       "      <td>4.000000e+02</td>\n",
       "      <td>2.140000e+01</td>\n",
       "      <td>7.140000e+00</td>\n",
       "      <td>5.300000e+01</td>\n",
       "      <td>1.800000e+01</td>\n",
       "      <td>3.600000</td>\n",
       "      <td>1.230000e+01</td>\n",
       "      <td>5.600000e-01</td>\n",
       "      <td>2.020000e+03</td>\n",
       "      <td>2.021000e+03</td>\n",
       "    </tr>\n",
       "    <tr>\n",
       "      <th>max</th>\n",
       "      <td>8.693855e+12</td>\n",
       "      <td>9.999990e+05</td>\n",
       "      <td>9.999999e+06</td>\n",
       "      <td>7.629390e+05</td>\n",
       "      <td>9.999990e+05</td>\n",
       "      <td>999999.000000</td>\n",
       "      <td>1.730000e+05</td>\n",
       "      <td>3.999996e+05</td>\n",
       "      <td>2.021000e+03</td>\n",
       "      <td>2.021000e+03</td>\n",
       "    </tr>\n",
       "  </tbody>\n",
       "</table>\n",
       "</div>"
      ],
      "text/plain": [
       "       energy-kcal_100g      fat_100g  saturated-fat_100g  carbohydrates_100g  \\\n",
       "count      1.405073e+06  1.449790e+06        1.406180e+06        1.449349e+06   \n",
       "mean       6.250851e+06  1.471324e+01        1.226623e+01        2.882682e+01   \n",
       "std        7.334753e+09  8.538600e+02        8.432970e+03        6.434753e+02   \n",
       "min        0.000000e+00  0.000000e+00        0.000000e+00       -1.000000e+00   \n",
       "25%        1.010000e+02  7.700000e-01        1.000000e-01        3.500000e+00   \n",
       "50%        2.610000e+02  7.000000e+00        1.800000e+00        1.504425e+01   \n",
       "75%        4.000000e+02  2.140000e+01        7.140000e+00        5.300000e+01   \n",
       "max        8.693855e+12  9.999990e+05        9.999999e+06        7.629390e+05   \n",
       "\n",
       "        sugars_100g     fiber_100g  proteins_100g   sodium_100g  \\\n",
       "count  1.432417e+06  475926.000000   1.450905e+06  1.389353e+06   \n",
       "mean   1.398868e+01       5.135814   8.778622e+00  1.152853e+00   \n",
       "std    8.358298e+02    1449.557263   1.452166e+02  3.437268e+02   \n",
       "min   -1.000000e+00     -20.000000  -5.000000e+02  0.000000e+00   \n",
       "25%    6.000000e-01       0.000000   1.300000e+00  2.800000e-02   \n",
       "50%    3.570000e+00       1.600000   6.000000e+00  2.240000e-01   \n",
       "75%    1.800000e+01       3.600000   1.230000e+01  5.600000e-01   \n",
       "max    9.999990e+05  999999.000000   1.730000e+05  3.999996e+05   \n",
       "\n",
       "       created_years  last_modified_years  \n",
       "count   1.837364e+06         1.837364e+06  \n",
       "mean    2.018832e+03         2.019957e+03  \n",
       "std     1.628261e+00         9.921528e-01  \n",
       "min     2.012000e+03         2.012000e+03  \n",
       "25%     2.018000e+03         2.020000e+03  \n",
       "50%     2.019000e+03         2.020000e+03  \n",
       "75%     2.020000e+03         2.021000e+03  \n",
       "max     2.021000e+03         2.021000e+03  "
      ]
     },
     "execution_count": 20,
     "metadata": {},
     "output_type": "execute_result"
    }
   ],
   "source": [
    "df.describe()"
   ]
  },
  {
   "cell_type": "markdown",
   "id": "0a97e3b7-8395-4ca3-bb54-65402d41a3f5",
   "metadata": {},
   "source": [
    "### B) Anomalie liée à la nature des données"
   ]
  },
  {
   "cell_type": "markdown",
   "id": "49defcd9-66d5-4fed-b0f2-3b4553b6a500",
   "metadata": {},
   "source": [
    "Les données nutritives étant pour 100g, elles ne peuvent pas excéder 100g. On va donc supprimer les valeurs superieures à 100g pour les carbohydrates, le sucre, les fibres, les protéines, le sel et le sodium. On va aussi supprimer les valeurs qui sont inférieures à 0. Les aliments les plus caloriques ne peuvent contenir que 900 calories au maximum. On va donc supprimer les valeurs supérieures à 900 kcal et inférieure à 0 en ce qui concerne l'énergie en kcal. "
   ]
  },
  {
   "cell_type": "code",
   "execution_count": 21,
   "id": "667a97f4-b539-495b-841b-bd774fb0e0af",
   "metadata": {},
   "outputs": [
    {
     "data": {
      "text/plain": [
       "(1837364, 34)"
      ]
     },
     "execution_count": 21,
     "metadata": {},
     "output_type": "execute_result"
    }
   ],
   "source": [
    "df_clean = df.copy()\n",
    "df_clean.shape"
   ]
  },
  {
   "cell_type": "code",
   "execution_count": 22,
   "id": "2a8051ce-52cb-4244-b1de-cfe82d87bb14",
   "metadata": {},
   "outputs": [],
   "source": [
    "cols = ['fat_100g', 'saturated-fat_100g', 'carbohydrates_100g', 'sugars_100g', \"fiber_100g\", \"proteins_100g\", \"sodium_100g\"]\n",
    "\n",
    "for col in cols : \n",
    "    ind = df_clean.loc[(df_clean[col] < 0) | (df_clean[col] > 100)].index.to_list()\n",
    "    df_clean.drop(index=ind, inplace=True)"
   ]
  },
  {
   "cell_type": "code",
   "execution_count": 23,
   "id": "1aa96b6b-f276-4cd0-b014-0a68b772a85f",
   "metadata": {},
   "outputs": [],
   "source": [
    "cols = [\"energy-kcal_100g\"]\n",
    "\n",
    "for col in cols : \n",
    "    ind = df_clean.loc[(df_clean[col] < 0) | (df_clean[col] > 900)].index.to_list()\n",
    "    df_clean.drop(index=ind, inplace=True)"
   ]
  },
  {
   "cell_type": "code",
   "execution_count": 24,
   "id": "9e4ea69f-6348-4dec-a8b1-075bcc5ab281",
   "metadata": {},
   "outputs": [
    {
     "data": {
      "text/plain": [
       "(1830496, 34)"
      ]
     },
     "execution_count": 24,
     "metadata": {},
     "output_type": "execute_result"
    }
   ],
   "source": [
    "df_clean.shape"
   ]
  },
  {
   "cell_type": "markdown",
   "id": "47b67085-c3d6-4f69-b680-81b31bc367b4",
   "metadata": {},
   "source": [
    "Ce premier traitement a permis d'enlever 6868 entrées."
   ]
  },
  {
   "cell_type": "markdown",
   "id": "11071d44-cedc-483c-b5da-b8e303c50dda",
   "metadata": {},
   "source": [
    "### C) Traitement des outliers à l'aide de la médiane (IQR)"
   ]
  },
  {
   "cell_type": "markdown",
   "id": "d86d0b2d-ce78-4d70-a32b-0039aa6be4a2",
   "metadata": {},
   "source": [
    "On utilise la méthode de l'intervalle interquartile (IQR) pour effectuer un second nettoyage. Les valeurs qui se situent à - 1.5 iqr du premier quartile et à + 1.5 du troisième quartile seront supprimées. "
   ]
  },
  {
   "cell_type": "code",
   "execution_count": 25,
   "id": "568ef1d6-26d6-43e1-842c-6e70ff6aadfd",
   "metadata": {},
   "outputs": [
    {
     "data": {
      "text/plain": [
       "'q1 = df.quantile(0.25)\\nq3 = df.quantile(0.75)\\niqr = q3 - q1\\nlower_bound = q1 - 1.5 * iqr\\nupper_bound = q3 + 1.5 * iqr'"
      ]
     },
     "execution_count": 25,
     "metadata": {},
     "output_type": "execute_result"
    }
   ],
   "source": [
    "\"\"\"q1 = df.quantile(0.25)\n",
    "q3 = df.quantile(0.75)\n",
    "iqr = q3 - q1\n",
    "lower_bound = q1 - 1.5 * iqr\n",
    "upper_bound = q3 + 1.5 * iqr\"\"\""
   ]
  },
  {
   "cell_type": "code",
   "execution_count": 26,
   "id": "ceb99f8e-e908-459d-ba4c-7b3e628f3dd6",
   "metadata": {},
   "outputs": [
    {
     "data": {
      "text/plain": [
       "'import warnings\\nwarnings.filterwarnings(\"ignore\")\\n\\ndf_clean = df_clean[~((df_clean < lower_bound) | (df_clean> upper_bound)).any(axis=1)]\\ndf_clean.shape'"
      ]
     },
     "execution_count": 26,
     "metadata": {},
     "output_type": "execute_result"
    }
   ],
   "source": [
    "\"\"\"import warnings\n",
    "warnings.filterwarnings(\"ignore\")\n",
    "\n",
    "df_clean = df_clean[~((df_clean < lower_bound) | (df_clean> upper_bound)).any(axis=1)]\n",
    "df_clean.shape\"\"\""
   ]
  },
  {
   "cell_type": "markdown",
   "id": "a5ab59ae-7661-4532-965f-10f0014f0709",
   "metadata": {},
   "source": [
    "Cette seconde étape a permis de supprimer 538 715 entrées."
   ]
  },
  {
   "cell_type": "markdown",
   "id": "4b11126f-eb45-4775-acad-272d63055a12",
   "metadata": {},
   "source": [
    "**Remarque** :\n",
    "La méthode de retrait des outliers via l'utilisation des intervales interquartiles a finalement été abandonné car elle n'avait pas lieu d'être. Tout d'abord, on perdait énormément d'informations (*538 715 aliments*). Ensuite, en faisant cela, on ne prenait pas en compte que tous les aliments ne sont pas égaux : il existe des aliments très riches en graisses ou en sucres sans que cela ne soit une erreur."
   ]
  },
  {
   "cell_type": "markdown",
   "id": "bf71bd19-0b46-4488-9f53-177e3b9ce6e8",
   "metadata": {},
   "source": [
    "## D) Vérification du traitement"
   ]
  },
  {
   "cell_type": "markdown",
   "id": "37e10c1a-5c8d-4204-bc7b-9da15b4b77ab",
   "metadata": {},
   "source": [
    "- Vérification numérique"
   ]
  },
  {
   "cell_type": "code",
   "execution_count": 27,
   "id": "235c0c37-b6d1-420c-9a55-16ef6ea7a87a",
   "metadata": {},
   "outputs": [
    {
     "data": {
      "text/html": [
       "<div>\n",
       "<style scoped>\n",
       "    .dataframe tbody tr th:only-of-type {\n",
       "        vertical-align: middle;\n",
       "    }\n",
       "\n",
       "    .dataframe tbody tr th {\n",
       "        vertical-align: top;\n",
       "    }\n",
       "\n",
       "    .dataframe thead th {\n",
       "        text-align: right;\n",
       "    }\n",
       "</style>\n",
       "<table border=\"1\" class=\"dataframe\">\n",
       "  <thead>\n",
       "    <tr style=\"text-align: right;\">\n",
       "      <th></th>\n",
       "      <th>energy-kcal_100g</th>\n",
       "      <th>fat_100g</th>\n",
       "      <th>saturated-fat_100g</th>\n",
       "      <th>carbohydrates_100g</th>\n",
       "      <th>sugars_100g</th>\n",
       "      <th>fiber_100g</th>\n",
       "      <th>proteins_100g</th>\n",
       "      <th>sodium_100g</th>\n",
       "      <th>created_years</th>\n",
       "      <th>last_modified_years</th>\n",
       "    </tr>\n",
       "  </thead>\n",
       "  <tbody>\n",
       "    <tr>\n",
       "      <th>count</th>\n",
       "      <td>1.398308e+06</td>\n",
       "      <td>1.443016e+06</td>\n",
       "      <td>1.399584e+06</td>\n",
       "      <td>1.442621e+06</td>\n",
       "      <td>1.425928e+06</td>\n",
       "      <td>474495.000000</td>\n",
       "      <td>1.444151e+06</td>\n",
       "      <td>1.383347e+06</td>\n",
       "      <td>1.830496e+06</td>\n",
       "      <td>1.830496e+06</td>\n",
       "    </tr>\n",
       "    <tr>\n",
       "      <th>mean</th>\n",
       "      <td>2.710078e+02</td>\n",
       "      <td>1.365991e+01</td>\n",
       "      <td>5.105978e+00</td>\n",
       "      <td>2.809860e+01</td>\n",
       "      <td>1.325403e+01</td>\n",
       "      <td>2.982324</td>\n",
       "      <td>8.589264e+00</td>\n",
       "      <td>5.500495e-01</td>\n",
       "      <td>2.018829e+03</td>\n",
       "      <td>2.019956e+03</td>\n",
       "    </tr>\n",
       "    <tr>\n",
       "      <th>std</th>\n",
       "      <td>1.913466e+02</td>\n",
       "      <td>1.765049e+01</td>\n",
       "      <td>7.800724e+00</td>\n",
       "      <td>2.802448e+01</td>\n",
       "      <td>1.955123e+01</td>\n",
       "      <td>4.898676</td>\n",
       "      <td>9.794829e+00</td>\n",
       "      <td>2.112396e+00</td>\n",
       "      <td>1.628572e+00</td>\n",
       "      <td>9.921931e-01</td>\n",
       "    </tr>\n",
       "    <tr>\n",
       "      <th>min</th>\n",
       "      <td>0.000000e+00</td>\n",
       "      <td>0.000000e+00</td>\n",
       "      <td>0.000000e+00</td>\n",
       "      <td>0.000000e+00</td>\n",
       "      <td>0.000000e+00</td>\n",
       "      <td>0.000000</td>\n",
       "      <td>0.000000e+00</td>\n",
       "      <td>0.000000e+00</td>\n",
       "      <td>2.012000e+03</td>\n",
       "      <td>2.012000e+03</td>\n",
       "    </tr>\n",
       "    <tr>\n",
       "      <th>25%</th>\n",
       "      <td>1.000000e+02</td>\n",
       "      <td>7.250000e-01</td>\n",
       "      <td>1.000000e-01</td>\n",
       "      <td>3.500000e+00</td>\n",
       "      <td>6.000000e-01</td>\n",
       "      <td>0.000000</td>\n",
       "      <td>1.300000e+00</td>\n",
       "      <td>2.800000e-02</td>\n",
       "      <td>2.018000e+03</td>\n",
       "      <td>2.020000e+03</td>\n",
       "    </tr>\n",
       "    <tr>\n",
       "      <th>50%</th>\n",
       "      <td>2.600000e+02</td>\n",
       "      <td>7.000000e+00</td>\n",
       "      <td>1.800000e+00</td>\n",
       "      <td>1.500000e+01</td>\n",
       "      <td>3.571400e+00</td>\n",
       "      <td>1.600000</td>\n",
       "      <td>6.000000e+00</td>\n",
       "      <td>2.240000e-01</td>\n",
       "      <td>2.019000e+03</td>\n",
       "      <td>2.020000e+03</td>\n",
       "    </tr>\n",
       "    <tr>\n",
       "      <th>75%</th>\n",
       "      <td>4.000000e+02</td>\n",
       "      <td>2.140000e+01</td>\n",
       "      <td>7.140000e+00</td>\n",
       "      <td>5.300000e+01</td>\n",
       "      <td>1.800000e+01</td>\n",
       "      <td>3.600000</td>\n",
       "      <td>1.228000e+01</td>\n",
       "      <td>5.600000e-01</td>\n",
       "      <td>2.020000e+03</td>\n",
       "      <td>2.021000e+03</td>\n",
       "    </tr>\n",
       "    <tr>\n",
       "      <th>max</th>\n",
       "      <td>9.000000e+02</td>\n",
       "      <td>1.000000e+02</td>\n",
       "      <td>1.000000e+02</td>\n",
       "      <td>1.000000e+02</td>\n",
       "      <td>1.000000e+02</td>\n",
       "      <td>100.000000</td>\n",
       "      <td>1.000000e+02</td>\n",
       "      <td>1.000000e+02</td>\n",
       "      <td>2.021000e+03</td>\n",
       "      <td>2.021000e+03</td>\n",
       "    </tr>\n",
       "  </tbody>\n",
       "</table>\n",
       "</div>"
      ],
      "text/plain": [
       "       energy-kcal_100g      fat_100g  saturated-fat_100g  carbohydrates_100g  \\\n",
       "count      1.398308e+06  1.443016e+06        1.399584e+06        1.442621e+06   \n",
       "mean       2.710078e+02  1.365991e+01        5.105978e+00        2.809860e+01   \n",
       "std        1.913466e+02  1.765049e+01        7.800724e+00        2.802448e+01   \n",
       "min        0.000000e+00  0.000000e+00        0.000000e+00        0.000000e+00   \n",
       "25%        1.000000e+02  7.250000e-01        1.000000e-01        3.500000e+00   \n",
       "50%        2.600000e+02  7.000000e+00        1.800000e+00        1.500000e+01   \n",
       "75%        4.000000e+02  2.140000e+01        7.140000e+00        5.300000e+01   \n",
       "max        9.000000e+02  1.000000e+02        1.000000e+02        1.000000e+02   \n",
       "\n",
       "        sugars_100g     fiber_100g  proteins_100g   sodium_100g  \\\n",
       "count  1.425928e+06  474495.000000   1.444151e+06  1.383347e+06   \n",
       "mean   1.325403e+01       2.982324   8.589264e+00  5.500495e-01   \n",
       "std    1.955123e+01       4.898676   9.794829e+00  2.112396e+00   \n",
       "min    0.000000e+00       0.000000   0.000000e+00  0.000000e+00   \n",
       "25%    6.000000e-01       0.000000   1.300000e+00  2.800000e-02   \n",
       "50%    3.571400e+00       1.600000   6.000000e+00  2.240000e-01   \n",
       "75%    1.800000e+01       3.600000   1.228000e+01  5.600000e-01   \n",
       "max    1.000000e+02     100.000000   1.000000e+02  1.000000e+02   \n",
       "\n",
       "       created_years  last_modified_years  \n",
       "count   1.830496e+06         1.830496e+06  \n",
       "mean    2.018829e+03         2.019956e+03  \n",
       "std     1.628572e+00         9.921931e-01  \n",
       "min     2.012000e+03         2.012000e+03  \n",
       "25%     2.018000e+03         2.020000e+03  \n",
       "50%     2.019000e+03         2.020000e+03  \n",
       "75%     2.020000e+03         2.021000e+03  \n",
       "max     2.021000e+03         2.021000e+03  "
      ]
     },
     "execution_count": 27,
     "metadata": {},
     "output_type": "execute_result"
    }
   ],
   "source": [
    "df_clean.describe()"
   ]
  },
  {
   "cell_type": "markdown",
   "id": "6bde59f1-85d3-4dd1-8c7e-154eab026fda",
   "metadata": {},
   "source": [
    "- Vérification graphique"
   ]
  },
  {
   "cell_type": "code",
   "execution_count": 28,
   "id": "971c6f8a-7640-4dd7-8f09-af3969493a27",
   "metadata": {},
   "outputs": [
    {
     "data": {
      "image/png": "[encoded data removed]",
      "text/plain": [
       "<Figure size 432x288 with 1 Axes>"
      ]
     },
     "metadata": {
      "needs_background": "light"
     },
     "output_type": "display_data"
    },
    {
     "data": {
      "image/png": "[encoded data removed]",
      "text/plain": [
       "<Figure size 432x288 with 1 Axes>"
      ]
     },
     "metadata": {
      "needs_background": "light"
     },
     "output_type": "display_data"
    },
    {
     "data": {
      "image/png": "[encoded data removed]",
      "text/plain": [
       "<Figure size 432x288 with 1 Axes>"
      ]
     },
     "metadata": {
      "needs_background": "light"
     },
     "output_type": "display_data"
    },
    {
     "data": {
      "image/png": "[encoded data removed]",
      "text/plain": [
       "<Figure size 432x288 with 1 Axes>"
      ]
     },
     "metadata": {
      "needs_background": "light"
     },
     "output_type": "display_data"
    },
    {
     "data": {
      "image/png": "[encoded data removed]",
      "text/plain": [
       "<Figure size 432x288 with 1 Axes>"
      ]
     },
     "metadata": {
      "needs_background": "light"
     },
     "output_type": "display_data"
    },
    {
     "data": {
      "image/png": "[encoded data removed]",
      "text/plain": [
       "<Figure size 432x288 with 1 Axes>"
      ]
     },
     "metadata": {
      "needs_background": "light"
     },
     "output_type": "display_data"
    },
    {
     "data": {
      "image/png": "[encoded data removed]",
      "text/plain": [
       "<Figure size 432x288 with 1 Axes>"
      ]
     },
     "metadata": {
      "needs_background": "light"
     },
     "output_type": "display_data"
    },
    {
     "data": {
      "image/png": "[encoded data removed]",
      "text/plain": [
       "<Figure size 432x288 with 1 Axes>"
      ]
     },
     "metadata": {
      "needs_background": "light"
     },
     "output_type": "display_data"
    }
   ],
   "source": [
    "for var in df_clean.columns:\n",
    "    if df_clean[var].dtypes == 'float64':\n",
    "        sns.boxplot(x=var, data=df_clean)\n",
    "        plt.title(var)\n",
    "        plt.show()"
   ]
  },
  {
   "cell_type": "markdown",
   "id": "1c29cd1c-9096-4476-b357-222da9f2ff12",
   "metadata": {},
   "source": [
    "**Remarque :** Initialement trois autres méthodes avaient été employées pour effectuer cette étape de nettoyage. Ces méthodes ont été abandonnées car elles ne permettaient pas l'automatisation du processus, qu'elles demandaient de nombreuses itérations et qu'elles ne prenaient pas en compte la structure des données."
   ]
  },
  {
   "cell_type": "code",
   "execution_count": 29,
   "id": "07fabb14-2421-4fd7-ae42-53e2abbf1fd4",
   "metadata": {},
   "outputs": [
    {
     "data": {
      "text/plain": [
       "\"outliers = {}\\n\\nfor var in df.columns:\\n    if df[var].dtypes == 'float64':\\n        outliers[var] = df[var].max()\\n        \\nprint(outliers)\""
      ]
     },
     "execution_count": 29,
     "metadata": {},
     "output_type": "execute_result"
    }
   ],
   "source": [
    "\"\"\"outliers = {}\n",
    "\n",
    "for var in df.columns:\n",
    "    if df[var].dtypes == 'float64':\n",
    "        outliers[var] = df[var].max()\n",
    "        \n",
    "print(outliers)\"\"\""
   ]
  },
  {
   "cell_type": "code",
   "execution_count": 30,
   "id": "412a71a3-c2d1-4da4-8f04-4800bbc166fc",
   "metadata": {},
   "outputs": [
    {
     "data": {
      "text/plain": [
       "'index_outliers = []\\n\\nfor k, v in outliers.keys() and outliers.items(): \\n    a = df.loc[df[k] == v]\\n    index_outliers.append(a.index)\\n    \\nfor i in index_outliers:\\n    print(i)\\n      \\ndel index_outliers[-1]\\ndel index_outliers[-1]\\ndel index_outliers[0]'"
      ]
     },
     "execution_count": 30,
     "metadata": {},
     "output_type": "execute_result"
    }
   ],
   "source": [
    "\"\"\"index_outliers = []\n",
    "\n",
    "for k, v in outliers.keys() and outliers.items(): \n",
    "    a = df.loc[df[k] == v]\n",
    "    index_outliers.append(a.index)\n",
    "    \n",
    "for i in index_outliers:\n",
    "    print(i)\n",
    "      \n",
    "del index_outliers[-1]\n",
    "del index_outliers[-1]\n",
    "del index_outliers[0]\"\"\""
   ]
  },
  {
   "cell_type": "code",
   "execution_count": 31,
   "id": "f51c98c9-3b62-4266-946b-11e6f4736946",
   "metadata": {},
   "outputs": [
    {
     "data": {
      "text/plain": [
       "\"drop_index = ['13726', '7941', '4632', '26516', '6901']\\ndf.drop(df.index[drop_index], inplace=True)\\ndf.head()\\n\\nfor var in df.columns:\\n    if df[var].dtypes == 'float64':\\n        sns.boxplot(x=var, data=df)\\n        plt.title(var)\\n        plt.show()\\n        \\noutliers = {}\\n\\nfor var in df.columns:\\n    if df[var].dtypes == 'float64':\\n        outliers[var] = df[var].max()\\n        \\nprint(outliers)\\n\\nindex_outliers = []\\n\\nfor k, v in outliers.keys() and outliers.items(): \\n    a = df.loc[df[k] == v]\\n    index_outliers.append(a.index)\\n    \\nfor i in index_outliers:\\n    print(i)\\n\""
      ]
     },
     "execution_count": 31,
     "metadata": {},
     "output_type": "execute_result"
    }
   ],
   "source": [
    "\"\"\"drop_index = ['13726', '7941', '4632', '26516', '6901']\n",
    "df.drop(df.index[drop_index], inplace=True)\n",
    "df.head()\n",
    "\n",
    "for var in df.columns:\n",
    "    if df[var].dtypes == 'float64':\n",
    "        sns.boxplot(x=var, data=df)\n",
    "        plt.title(var)\n",
    "        plt.show()\n",
    "        \n",
    "outliers = {}\n",
    "\n",
    "for var in df.columns:\n",
    "    if df[var].dtypes == 'float64':\n",
    "        outliers[var] = df[var].max()\n",
    "        \n",
    "print(outliers)\n",
    "\n",
    "index_outliers = []\n",
    "\n",
    "for k, v in outliers.keys() and outliers.items(): \n",
    "    a = df.loc[df[k] == v]\n",
    "    index_outliers.append(a.index)\n",
    "    \n",
    "for i in index_outliers:\n",
    "    print(i)\n",
    "\"\"\""
   ]
  },
  {
   "cell_type": "markdown",
   "id": "4f8d52b5-bee4-4788-8693-ac9c5924d974",
   "metadata": {},
   "source": [
    "## VI - Traitement des valeurs manquantes (suite et fin)"
   ]
  },
  {
   "cell_type": "markdown",
   "id": "99f5cbea-ea79-4cd1-b586-6e7346071665",
   "metadata": {},
   "source": [
    "Notre jeu de données a été nettoyé de ces données redondantes et de ces anomalies. On va pouvoir terminer le traitement des valeurs manquantes. On va générer trois datasets qui contiennent plusieurs méthodes de traitement des valeurs manquantes. "
   ]
  },
  {
   "cell_type": "markdown",
   "id": "4378f6fd-98e7-4bf8-8dbb-4810a14a34bc",
   "metadata": {},
   "source": [
    "### A) Retrait des valeurs manquantes"
   ]
  },
  {
   "cell_type": "markdown",
   "id": "04d12594-6253-413e-bc8d-bb6a0415fec9",
   "metadata": {},
   "source": [
    "Dans ce premier dataset, on va juste supprimer les valeurs manquantes. "
   ]
  },
  {
   "cell_type": "code",
   "execution_count": 32,
   "id": "39c18659-52d6-4ca6-904c-816958034868",
   "metadata": {},
   "outputs": [],
   "source": [
    "# On travaille sur une copie où l'on va supprimer les valeurs manquantes sans les remplacer\n",
    "\n",
    "df = df_clean.copy()\n",
    "df_clean_no_na = df.dropna()"
   ]
  },
  {
   "cell_type": "code",
   "execution_count": 33,
   "id": "b2c679ff-13a7-44bc-a41b-c9cacf589f90",
   "metadata": {},
   "outputs": [
    {
     "data": {
      "text/plain": [
       "<AxesSubplot:>"
      ]
     },
     "execution_count": 33,
     "metadata": {},
     "output_type": "execute_result"
    },
    {
     "data": {
      "image/png": "[encoded data removed]",
      "text/plain": [
       "<Figure size 1800x720 with 2 Axes>"
      ]
     },
     "metadata": {
      "needs_background": "light"
     },
     "output_type": "display_data"
    }
   ],
   "source": [
    "%matplotlib inline\n",
    "msno.matrix(df_clean_no_na)"
   ]
  },
  {
   "cell_type": "code",
   "execution_count": 34,
   "id": "bb0a43d7-24f7-4c19-843b-fcc156f2db86",
   "metadata": {},
   "outputs": [
    {
     "data": {
      "text/html": [
       "<div>\n",
       "<style scoped>\n",
       "    .dataframe tbody tr th:only-of-type {\n",
       "        vertical-align: middle;\n",
       "    }\n",
       "\n",
       "    .dataframe tbody tr th {\n",
       "        vertical-align: top;\n",
       "    }\n",
       "\n",
       "    .dataframe thead th {\n",
       "        text-align: right;\n",
       "    }\n",
       "</style>\n",
       "<table border=\"1\" class=\"dataframe\">\n",
       "  <thead>\n",
       "    <tr style=\"text-align: right;\">\n",
       "      <th></th>\n",
       "      <th>energy-kcal_100g</th>\n",
       "      <th>fat_100g</th>\n",
       "      <th>saturated-fat_100g</th>\n",
       "      <th>carbohydrates_100g</th>\n",
       "      <th>sugars_100g</th>\n",
       "      <th>fiber_100g</th>\n",
       "      <th>proteins_100g</th>\n",
       "      <th>sodium_100g</th>\n",
       "      <th>created_years</th>\n",
       "      <th>last_modified_years</th>\n",
       "    </tr>\n",
       "  </thead>\n",
       "  <tbody>\n",
       "    <tr>\n",
       "      <th>count</th>\n",
       "      <td>41665.000000</td>\n",
       "      <td>41665.000000</td>\n",
       "      <td>41665.000000</td>\n",
       "      <td>41665.000000</td>\n",
       "      <td>41665.000000</td>\n",
       "      <td>41665.000000</td>\n",
       "      <td>41665.000000</td>\n",
       "      <td>41665.000000</td>\n",
       "      <td>41665.000000</td>\n",
       "      <td>41665.000000</td>\n",
       "    </tr>\n",
       "    <tr>\n",
       "      <th>mean</th>\n",
       "      <td>274.967729</td>\n",
       "      <td>12.226430</td>\n",
       "      <td>4.380602</td>\n",
       "      <td>32.454609</td>\n",
       "      <td>12.281594</td>\n",
       "      <td>3.097486</td>\n",
       "      <td>7.602350</td>\n",
       "      <td>0.364395</td>\n",
       "      <td>2016.995584</td>\n",
       "      <td>2020.385431</td>\n",
       "    </tr>\n",
       "    <tr>\n",
       "      <th>std</th>\n",
       "      <td>183.736680</td>\n",
       "      <td>14.868797</td>\n",
       "      <td>6.788625</td>\n",
       "      <td>26.841888</td>\n",
       "      <td>16.160243</td>\n",
       "      <td>4.338690</td>\n",
       "      <td>7.440349</td>\n",
       "      <td>1.381735</td>\n",
       "      <td>2.158141</td>\n",
       "      <td>0.899647</td>\n",
       "    </tr>\n",
       "    <tr>\n",
       "      <th>min</th>\n",
       "      <td>0.000000</td>\n",
       "      <td>0.000000</td>\n",
       "      <td>0.000000</td>\n",
       "      <td>0.000000</td>\n",
       "      <td>0.000000</td>\n",
       "      <td>0.000000</td>\n",
       "      <td>0.000000</td>\n",
       "      <td>0.000000</td>\n",
       "      <td>2012.000000</td>\n",
       "      <td>2013.000000</td>\n",
       "    </tr>\n",
       "    <tr>\n",
       "      <th>25%</th>\n",
       "      <td>103.000000</td>\n",
       "      <td>1.600000</td>\n",
       "      <td>0.300000</td>\n",
       "      <td>7.600000</td>\n",
       "      <td>1.500000</td>\n",
       "      <td>0.500000</td>\n",
       "      <td>2.700000</td>\n",
       "      <td>0.036300</td>\n",
       "      <td>2015.000000</td>\n",
       "      <td>2020.000000</td>\n",
       "    </tr>\n",
       "    <tr>\n",
       "      <th>50%</th>\n",
       "      <td>265.000000</td>\n",
       "      <td>6.600000</td>\n",
       "      <td>1.700000</td>\n",
       "      <td>24.300000</td>\n",
       "      <td>4.500000</td>\n",
       "      <td>2.000000</td>\n",
       "      <td>6.200000</td>\n",
       "      <td>0.210526</td>\n",
       "      <td>2017.000000</td>\n",
       "      <td>2021.000000</td>\n",
       "    </tr>\n",
       "    <tr>\n",
       "      <th>75%</th>\n",
       "      <td>420.000000</td>\n",
       "      <td>19.000000</td>\n",
       "      <td>5.600000</td>\n",
       "      <td>58.000000</td>\n",
       "      <td>18.000000</td>\n",
       "      <td>4.000000</td>\n",
       "      <td>10.000000</td>\n",
       "      <td>0.440000</td>\n",
       "      <td>2019.000000</td>\n",
       "      <td>2021.000000</td>\n",
       "    </tr>\n",
       "    <tr>\n",
       "      <th>max</th>\n",
       "      <td>900.000000</td>\n",
       "      <td>100.000000</td>\n",
       "      <td>100.000000</td>\n",
       "      <td>100.000000</td>\n",
       "      <td>100.000000</td>\n",
       "      <td>100.000000</td>\n",
       "      <td>93.000000</td>\n",
       "      <td>93.500000</td>\n",
       "      <td>2021.000000</td>\n",
       "      <td>2021.000000</td>\n",
       "    </tr>\n",
       "  </tbody>\n",
       "</table>\n",
       "</div>"
      ],
      "text/plain": [
       "       energy-kcal_100g      fat_100g  saturated-fat_100g  carbohydrates_100g  \\\n",
       "count      41665.000000  41665.000000        41665.000000        41665.000000   \n",
       "mean         274.967729     12.226430            4.380602           32.454609   \n",
       "std          183.736680     14.868797            6.788625           26.841888   \n",
       "min            0.000000      0.000000            0.000000            0.000000   \n",
       "25%          103.000000      1.600000            0.300000            7.600000   \n",
       "50%          265.000000      6.600000            1.700000           24.300000   \n",
       "75%          420.000000     19.000000            5.600000           58.000000   \n",
       "max          900.000000    100.000000          100.000000          100.000000   \n",
       "\n",
       "        sugars_100g    fiber_100g  proteins_100g   sodium_100g  created_years  \\\n",
       "count  41665.000000  41665.000000   41665.000000  41665.000000   41665.000000   \n",
       "mean      12.281594      3.097486       7.602350      0.364395    2016.995584   \n",
       "std       16.160243      4.338690       7.440349      1.381735       2.158141   \n",
       "min        0.000000      0.000000       0.000000      0.000000    2012.000000   \n",
       "25%        1.500000      0.500000       2.700000      0.036300    2015.000000   \n",
       "50%        4.500000      2.000000       6.200000      0.210526    2017.000000   \n",
       "75%       18.000000      4.000000      10.000000      0.440000    2019.000000   \n",
       "max      100.000000    100.000000      93.000000     93.500000    2021.000000   \n",
       "\n",
       "       last_modified_years  \n",
       "count         41665.000000  \n",
       "mean           2020.385431  \n",
       "std               0.899647  \n",
       "min            2013.000000  \n",
       "25%            2020.000000  \n",
       "50%            2021.000000  \n",
       "75%            2021.000000  \n",
       "max            2021.000000  "
      ]
     },
     "execution_count": 34,
     "metadata": {},
     "output_type": "execute_result"
    }
   ],
   "source": [
    "df_clean_no_na.describe()"
   ]
  },
  {
   "cell_type": "code",
   "execution_count": 35,
   "id": "e7bf00d8-47c4-43ce-b8d8-9684aef5b795",
   "metadata": {},
   "outputs": [
    {
     "data": {
      "text/plain": [
       "(41665, 34)"
      ]
     },
     "execution_count": 35,
     "metadata": {},
     "output_type": "execute_result"
    }
   ],
   "source": [
    "df_clean_no_na.shape"
   ]
  },
  {
   "cell_type": "code",
   "execution_count": 36,
   "id": "5b9f02ff-1938-4955-83dd-47fe373a351e",
   "metadata": {},
   "outputs": [],
   "source": [
    "df_clean_no_na.to_csv(\"datasets/openfoodfacts_clean.csv\", index=False)"
   ]
  },
  {
   "cell_type": "markdown",
   "id": "60803b57-f01b-4870-97af-10016a787ed5",
   "metadata": {},
   "source": [
    "On remarque que ce nettoyage produit un jeu de données plus restreint. On peut le sauvegarder pour l'utiliser par la suite. Cependant, le choix de travailler sur un jeu de données où les valeurs manquantes sont remplacées par une autre valeur semble plus judicieux. "
   ]
  },
  {
   "cell_type": "markdown",
   "id": "38b51cae-054d-4922-995a-06b4cb6534ec",
   "metadata": {},
   "source": [
    "### B) Remplacement des valeurs manquantes par la moyenne"
   ]
  },
  {
   "cell_type": "markdown",
   "id": "1a859f2f-68bf-4270-bf17-37fa812af2b9",
   "metadata": {},
   "source": [
    "Tout d'abord, on crée une copie de notre dataset. Ensuite, on décide d'enlever toutes les lignes où le nom du produit ne figure pas. Après cette suppression, on choisit d'imputer les valeurs manquantes en utilisant la médiane en fonction de la variable pnns_groups_2. La médiane permet de ne pas prendre en compte les valeurs extrêmes qui pourraient être présentes dans le jeu de données. La variable pnns_groups_2 est celle où il y a le moins de valeurs manquantes ce qui signifie qu'il y aura plus d'imputation qu'avec une variable ayant plus de donneés manquantes."
   ]
  },
  {
   "cell_type": "code",
   "execution_count": 37,
   "id": "da5cf17e-6142-4b85-8bc3-807cb42d0531",
   "metadata": {},
   "outputs": [],
   "source": [
    "# On crée une copie\n",
    "\n",
    "df_clean_median = df.copy()\n",
    "df_clean_median.dropna(subset=['product_name'], inplace=True) "
   ]
  },
  {
   "cell_type": "code",
   "execution_count": 39,
   "id": "3d5a434b-4248-4cca-82e8-493a80d2dac4",
   "metadata": {},
   "outputs": [],
   "source": [
    "# Cette imputation est réaliser uniquement pour les valeurs numériques\n",
    "\n",
    "for cols in df_clean_median.columns:\n",
    "    if df_clean_median[cols].dtypes == \"float64\":\n",
    "        df_clean_median[cols].fillna(df_clean_median.groupby('pnns_groups_2')[cols].transform('median'), inplace=True)"
   ]
  },
  {
   "cell_type": "markdown",
   "id": "85ead8da-72c3-4409-bde0-5fabeea4c59c",
   "metadata": {},
   "source": [
    "- Traitement des chaînes de caractères"
   ]
  },
  {
   "cell_type": "markdown",
   "id": "69d43511-635f-426f-97e5-0116ea6eed2d",
   "metadata": {},
   "source": [
    "Ce dataset sera celui utilisé dans la suite de notre analyse. Des traitements supplémentaires ont été réalisés suite à des aller-retours entre l'exploration et le nettoyage. Tout d'abord, on remplace les valeurs manquantes des catégories par une valeur *unknown* au lieu de laisser un NaN. Concernant les pays, on remplace les pays manquants par la valeur *other*. Ces modifications empêcheront le retrait de la ligne lors de l'utilisation de la fonction dropna. "
   ]
  },
  {
   "cell_type": "code",
   "execution_count": 40,
   "id": "b2942afc-3339-468c-b492-c71f995415bf",
   "metadata": {},
   "outputs": [],
   "source": [
    "df_clean_median[\"countries\"].fillna(\"other\", inplace=True)"
   ]
  },
  {
   "cell_type": "code",
   "execution_count": 41,
   "id": "f94b423e-0792-4de2-b159-850062208aad",
   "metadata": {},
   "outputs": [],
   "source": [
    "df_clean_median[\"categories\"].fillna(\"unknown\", inplace=True)"
   ]
  },
  {
   "cell_type": "markdown",
   "id": "5aacc910-9637-4287-91c7-674f615db4ac",
   "metadata": {},
   "source": [
    "Les différents allers-retours entre analyse et exploration ont permis de relever des erreurs dûs à l'entrée des noms de manière manuelle. On va donc rendre certaines écritures plus homogènes pour éviter qu'un même produit ne soit considéré comme plusieurs produits. Cette logique a été appliquer aux pays en y appliquant un dictionnaire contenant les traductions des noms de pays. "
   ]
  },
  {
   "cell_type": "code",
   "execution_count": 42,
   "id": "2e7aad7c-a98f-462f-ae53-75b804f2fb25",
   "metadata": {},
   "outputs": [],
   "source": [
    "product = {\n",
    "    \"escalope de poulet\" : \"Escalopes de poulet\",\n",
    "    \"aiguilette de poulet\" : \"Aiguilettes de poulet\",\n",
    "    \"blanc de poulet\" : \"Blancs de poulet\",\n",
    "    \"filet de poulet\" : \"Filets de poulet\",\n",
    "    \"escalope de dinde\" : \"Escalopes de dinde\",\n",
    "    \"aiguilette de dinde\" : \"Aiguilettes de dinde\",\n",
    "    \"blanc de dinde\" : \"Blancs de dinde\",\n",
    "    \"aiguilette de canard\" : \"Aiguilettes de canard\",\n",
    "    \"Ice Cream\" : \"Ice Cream\",\n",
    "    \"Crème glacée\" : \"Ice Cream\",\n",
    "    \"yogurt\" : \"Yaourt\",\n",
    "    \"Filetes de pollo empanado\" : \"Filets de poulet panés\",\n",
    "    \"Cacao en polvo\" : \"Cacao\",\n",
    "    }"
   ]
  },
  {
   "cell_type": "code",
   "execution_count": 43,
   "id": "c94f1d63-cd46-49bd-bc63-c23476431c8a",
   "metadata": {},
   "outputs": [],
   "source": [
    "# Modification des chaînes de caractères en lien avec les noms de produits\n",
    "\n",
    "for key, value in product.items():\n",
    "    df_clean_median[\"product_name\"].loc[df_clean_median[\"product_name\"].str.contains(key, case=False, regex=False)] = value"
   ]
  },
  {
   "cell_type": "code",
   "execution_count": 44,
   "id": "0f590a24-08db-4c1e-a29b-f6ddf23d5d4a",
   "metadata": {
    "collapsed": true
   },
   "outputs": [],
   "source": [
    "countries_translate ={\n",
    "    \"France\" : \"France\",\n",
    "    \"Francia\" : \"France\",\n",
    "    \"Frankreich\" : \"France\",\n",
    "    \"fr\" : \"France\",\n",
    "    \"Germany\" : \"Allemagne\",\n",
    "    \"Deutschland\" : \"Allemagne\",\n",
    "    \"de\" : \"Allemagne\",\n",
    "    \"España\" : \"Espagne\",\n",
    "    \"Spain\" : \"Espagne\",\n",
    "    \"en:es\" : \"Espagne\",\n",
    "    \"United States\" : \"Etats-Unis\",\n",
    "    \"USA\" : \"Etats-Unis\",\n",
    "    \"Us\" : \"Etats-Unis\",\n",
    "    \"United Kingdom\" : \"Royaume-Uni\",\n",
    "    \"united-kingdom\" : \"Royaume_Uni\",\n",
    "    \"England\" : \"Angleterre\",\n",
    "    \"Scotland\" : \"Ecosse\",\n",
    "    \"Ireland\" : \"Irlande\",\n",
    "    \"Wales\" : \"Pays de Galles\",\n",
    "    \"Polska\" : \"Pologne\",\n",
    "    \"México\" : \"Mexique\",\n",
    "    \"mexico\" : \"Mexique\",\n",
    "    \"Belgium\" : \"Belgique\",\n",
    "    \"be\" : \"Belgique\",\n",
    "    \"Netherlands\" : \"Pays-Bas\",\n",
    "    \"Magyarország\" : \"Hongrie\",\n",
    "    \"Hungary\" : \"Hongrie\",\n",
    "    \"new caledonia\" : \"Nouvelle-Calédonie\",\n",
    "    \"Switzerland\" : \"Suisse\",\n",
    "    \"Sverige\" : \"Suède\",\n",
    "    \"Sweden\" : \"Suède\",\n",
    "    \"Norway\" : \"Norvège\",\n",
    "    \"Norge\" : \"Norvège\",\n",
    "    \"Suomi\" : \"Finlande\",\n",
    "    \"Finland\" : \"Finlande\",\n",
    "    \"Bulgaria\" : \"Bulgarie\",\n",
    "    \"България\" : \"Bulgarie\",\n",
    "    \"Bǎlgarija\" : \"Bulgarie\",\n",
    "    \"Россия\" : \"Russie\",\n",
    "    \"Russia\" : \"Russie\",\n",
    "    \"Italy\" : \"Italie\",\n",
    "    \"Italia\" : \"Italie\",\n",
    "    \"Thailand\" : \"Thaïlande\",\n",
    "    \"Canada\" : \"Canada\",\n",
    "    \"Brazil\" : \"Brésil\",\n",
    "    \"Réunion\" : \"France\",\n",
    "    \"Républik kongo\" : \"République du Congo\",\n",
    "    \"Republik kongo\" : \"République du Congo\",\n",
    "    \"Congo\" : \"République du Congo\",\n",
    "    \"Mo\" : \"Macao\",\n",
    "    \"malaysia\" : \"Malaisie\",\n",
    "    \"my\" : \"Malaisie\",\n",
    "    \"singapore\" : \"Singapour\",\n",
    "    \"Jemen\" : \"Yémen\",\n",
    "    \"mali\" : \"Mali\",\n",
    "    \"Burkina faso\" : \"Burkina Faso\",\n",
    "    \"En:sr\" : \"Singapour\",\n",
    "    \"En:ye\" : \"Yémen\",\n",
    "    \"Nueva zelanda\" : \"Nouvelle-Zélande\",\n",
    "    \"New Zealand\" : \"Nouvelle-Zélande\",\n",
    "    \"Taiwan\" : \"Taiwan\",\n",
    "    \"Sn\" : \"Sénégal\",\n",
    "    \"Senegal\" : \"Sénégal\",\n",
    "    \"Grecia\" : \"Grèce\",\n",
    "    \"Ελλάδα \" : \"Grèce\",\n",
    "    \"Nueva caledonia\" : \"Nouvelle Calédonie\",\n",
    "    \"lu\" : \"Luxembourg\",\n",
    "    \"united-states\" : \"Etats-Unis\",\n",
    "    \"En:it\" : \"Italie\",\n",
    "    \"En:ivory coast\" : \"Cote d'Ivoire\",\n",
    "    \"Schweiz\" : \"Suisse\",\n",
    "    \"Slovenia\" : \"Slovénie\",\n",
    "    \"ફ્રાન્સ\" : \"France\",\n",
    "    \"En:ae\" : \"Emirats arabes unis\",\n",
    "    \"united arab emirates\" : \"Emirats arabes unis\",\n",
    "    \"dominican republic\" : \"République dominicaine\",\n",
    "    \"En:re\" : \"France\",\n",
    "    \"En:gb\" : \"Royaume-Uni\",\n",
    "    \"Great Britain\" : \"Royaume-Uni\",\n",
    "    \"En:ch\" : \"Suisse\",\n",
    "    \"En:ca\" : \"Canada\",\n",
    "    \"saudi arabi\" : \"Arabie Saoudite\",\n",
    "    \"Romania\" : \"Roumanie\",\n",
    "    \"En:pl\" : \"Pologne\",\n",
    "    \"Chile\" : \"Chili\",\n",
    "    \"En:el salvador\" : \"Salvador\",\n",
    "    \"En:luxembourg\" : \"Luxembourg\",\n",
    "    \"luxemburg\" : \"Luxembourg\",\n",
    "    \"Stati uniti d'america\" : \"Etats-Unis\",\n",
    "    \"En:ie\" : \"Irlande\",\n",
    "    \"En:ad\" : \"Andorre\",\n",
    "    \"royaume-uni\" : \"Royaume-Uni\",\n",
    "    \"sv\" : \"Salvador\",\n",
    "    \"En:jersey\" : \"Jersey\",\n",
    "    \"jersey\" : \"Jersey\",\n",
    "    \"En:gi\" : \"Gibraltar\",\n",
    "    \"República dominicana\" : \"République dominicaine\",\n",
    "    \"En:hk\" : \"Hong Kong\",\n",
    "    \"En:mu\" : \"Ile Maurice\",\n",
    "    \"En:uk\" : \"Royaume-Uni\",\n",
    "    \"En:cr\" : \"Costa Rica\",\n",
    "    \"En:portugal\" : \"Portugal\",\n",
    "    \"Vereinigte staaten von amerika\" : \"Etats-Unis\",\n",
    "    \"En: kuweit\" : \"Koweit\",\n",
    "    \"En:hn\" : \"Honduras\",\n",
    "    \"En:au\" : \"Australie\",\n",
    "    \"En:at\" : \"Autriche\",\n",
    "    \"En:pr\" : \"Porto Rico\",\n",
    "    \"En:mc\" : \"Macao\",\n",
    "    \"Hrvatska\" : \"Croatie\",\n",
    "    \"En:egypt\" : \"Egypte\",\n",
    "    \"Égypte\" : \"Egypte\",\n",
    "    \"En:mx\" : \"Mexique\",\n",
    "    \"En:pakistan\" : \"Pakistan\",\n",
    "    \"En:pm\" : \"France\",\n",
    "    \"En:pa\" : \"Panama\",\n",
    "    \"En:ma\" : \"Maroc\",\n",
    "    \"澳大利亚\" : \"Australie\",\n",
    "    \"En:do\" : \"République dominicaine\",\n",
    "    \"Estados unidos\" : \"Etats-Unis\",\n",
    "    \"السعودية\" : \"Arabie Saoudite\",\n",
    "    \"Saudi-arabien\" : \"Arabie Saoudite\",\n",
    "    \"العراق\" : \"Iraq\",\n",
    "    \"En:sa\" : \"Arabie Saoudite\",\n",
    "    \"En:om\" : \"Oman\",\n",
    "    \"gp\" : \"France\",\n",
    "    \"pf\" : \"France\",\n",
    "    \"El-salvador\" : \"Salvador\",\n",
    "    \"En:indonesia\" : \"Indonésie\",\n",
    "    \"الكويت\" : \"Koweit\",\n",
    "    \"colombia\" : \"Colombie\",\n",
    "    \"Martinique\" : \"France\",\n",
    "    \"Guadeloupe\" : \"France\",\n",
    "    \"Guyane\" : \"France\",\n",
    "    \"En:czechia\" : \"République Tchèque\",\n",
    "    \"En:puerto rico\" : \"Puerto Rico\",\n",
    "    \"美国\" : \"Etats-Unis\",\n",
    "    \"En:sg\" : \"Singapour\",\n",
    "    \"Reino unido\" : \"Royaume-Uni\",\n",
    "    \"En:lb\" : \"Liban\",\n",
    "    \"En:costa rica\" : \"Costa Rica\",\n",
    "    \"En:tt\" : \"Trinité-Et-Tobago\",\n",
    "    \"En:ve\" : \"Venuezela\",\n",
    "    \"En:israel\" : \"Israël\",\n",
    "    \"israel\" : \"Israel\",\n",
    "    \"Saudi-arabia\" : \"Arabie Saoudite\",\n",
    "    \"Panamá\" : \"Panama\",\n",
    "    \"En:isle of man\" : \"Royaume-Uni\",\n",
    "    \"En:nc\" : \"Nouvelle-Calédonie\",\n",
    "    \"En:bs\" : \"Bahamas\",\n",
    "    \"En:nl\" : \"Pays-Bas\",\n",
    "    \"En:jm\" : \"Jamaïque\",\n",
    "    \"Jamaique\" : \"Jamaïque\",\n",
    "    \"Jamaica\" : \"Jamaïque\",\n",
    "    \"ประเทศฝรั่งเศส\" : \"France\",\n",
    "    \"En:iraq\":\"Iraq\",\n",
    "    \"En:ke\" : \"Kenya\",\n",
    "    \"Jordan\" : \"Jordanie\",\n",
    "    \"Poland\" : \"Pologne\",\n",
    "    \"En:honduras\" : \"Honduras\",\n",
    "    \"لولايات المتحدة\" : \"Etats-Unis\",\n",
    "    \"En:hong kong\": \"Hong Kong\",\n",
    "    \"Prancūzija\" : \"France\",\n",
    "    \"Vereinigtes königreich\" : \"Royaume-Uni\",\n",
    "    \"En:guinea\" : \"Guinée\",\n",
    "    \"En:algeria\" : \"Algérie\",\n",
    "    \"法国\" : \"France\",\n",
    "    \"香港\" : \"Hong Kong\",\n",
    "    \"Hong kong\" : \"Hong Kong\",\n",
    "    \"Costa-rica\" : \"Costa Rica\",\n",
    "    \"En:nz\" : \"Nouvelle-Zélande\",\n",
    "    \"En:ghana\" : \"Ghana\",\n",
    "    \"En:yt\" : \"France\",\n",
    "    \"Wielka brytania\" : \"Royaume-Uni\",\n",
    "    \"Maurice\" : \"Ile Maurice\",\n",
    "    \"En:sc\" : \"Seychelles\",\n",
    "    \"En:ecuador\" : \"Equateur\",\n",
    "    \"En:cl\" : \"Chili\",\n",
    "    \"中华人民共和国\" : \"Chine\",\n",
    "    \"ประเทศไทย\" : \"Thaïlande\",\n",
    "    \"En:pt\" : \"Portugal\",\n",
    "    \"En:vi\" : \"Etats-Unis\",\n",
    "    \"En:cm\" : \"Cameroun\",\n",
    "    \"En:mk\" : \"Macédoine\",\n",
    "    \"En:qa\": \"Qatar\",\n",
    "    \"En:qatar\" : \"Qatar\",\n",
    "    \"En:venezuela\" : \"Venézuela\",\n",
    "    \"China\" : \"Chine\",\n",
    "    \"en:greece\" : \"Grèce\",\n",
    "    \"en:th\" : \"Thaïlande\",\n",
    "    \"en:vietnam\" : \"Vietnam\",\n",
    "    \"Suisse\" : \"Suisse\",\n",
    "    \"En:gt\" : \"Guatemala\",\n",
    "    \"En:mq\" : \"France\",\n",
    "    \"Serbia\" : \"Serbie\",\n",
    "    \"En:jp\" : \"Japon\",\n",
    "    \"En:in\" : \"Inde\",\n",
    "    \"America\" : \"Etats-Unis\",\n",
    "    \"En:niger\" : \"Niger\",\n",
    "    \"Panama\" : \"Panama\",\n",
    "    \"En:japan\" : \"Japon\",\n",
    "    \"En:barbados\" : \"Barbades\",\n",
    "    \"En:lybia\" : \"Lybie\",\n",
    "    \"En:poland\" : \"Pologne\",\n",
    "    \"En:je\" : \"Jersey\",\n",
    "    \"En:co\" : \"Colombie\",\n",
    "    \"Riunione\" : \"France\",\n",
    "    \"Bahreïn\" : \"Bahreïn\",\n",
    "    \"En:mm\" : \"Birmanie\",\n",
    "    \"En:haiti\" : \"Haïti\",\n",
    "    \"En:pk\" : \"Pakistan\",\n",
    "    \"En:afghanistan\" : \"Afghanistan\",\n",
    "    \"En:gh\" : \"Ghana\",\n",
    "    \"En:suriname\" : \"Suriname\",\n",
    "    \"Γαλλία\" : \"France\",\n",
    "    \"Trinidad and Tobago\" : \"Trinité-Et-Tobago\",\n",
    "    \"En:south korea\" : \"Corée du Sud\",\n",
    "    \"En:jo\" : \"Jordanie\",\n",
    "    \"En:hr\" : \"Croatie\", \n",
    "    \"En:sm\" : \"Saint-Marin\",\n",
    "    \"San Marin\" : \"Saint-Marin\",\n",
    "    \"الإمارات العربية المتحدة\" : \"Emirats arabes unis\",\n",
    "    \"En:lybia\" : \"Lybie\",\n",
    "    \"India\" : \"Inde\",\n",
    "    \"En:guyana\" : \"Guyana\",\n",
    "    \"En:antigua and barbuda\" : \"Antigua-et-Barbuda\",\n",
    "    \"Espagne\" : \"Espagne\",\n",
    "    \"En:py\" : \"Paraguay\",\n",
    "    \"Bolivia\" : \"Bolivie\",\n",
    "    \"En:tw\" : \"Taiwan\",\n",
    "    \"En:kw\" : \"Koweit\",\n",
    "    \"Mexique\" : \"Mexique\",\n",
    "    \"Polen\" : \"Pologne\",\n",
    "    \"Argentina\":\"Argentine\",\n",
    "    \"The bahamas\" : \"Bahamas\",\n",
    "    \"Perú\" : \"Pérou\",\n",
    "    \"En:dz\" : \"Algérie\",\n",
    "    \"Puerto Rico\" : \"Porto Rico\",\n",
    "    \"En:ml\" : \"Mali\",\n",
    "    \"Andorra\" : \"Andorre\",\n",
    "    \"Suiza\" : \"Suisse\",\n",
    "    \"Puerto-rico\" : \"Porto Rico\",\n",
    "    \"En:gf\" : \"France\",\n",
    "    \"En:bb\" : \"Barbade\",\n",
    "    \"En:dj\" : \"Djibouti\",\n",
    "    \"En:cw\" : \"Curaçao\",\n",
    "    \"Danmark\" : \"Danemark\",\n",
    "    \"En:ht\" : \"Haïti\",\n",
    "    \"En:bm\" : \"Bermudes\",\n",
    "    \"En:U.s.\" : \"Etats-Unis\",\n",
    "    \"En:U.s\" : \"Etats-Unis\",\n",
    "    \"U.s.\" : \"Etats-Unis\",\n",
    "    \"U.s\" : \"Etats-Unis\",\n",
    "    \"Mexico\" : \"Mexique\",\n",
    "    \"En:iq\" :\"Iraq\",\n",
    "    \"En:ai\" : \"Anguilla\",\n",
    "    \"En:bq\" : \"Pays-Bas caribéens\",\n",
    "    \"En:gd\" : \"Grenade\",\n",
    "    \"Česko\" : \"République Tchèque\",\n",
    "    \"Lebanon\" : \"Liban\",\n",
    "    \"En:philippines\" : \"Philippines\",\n",
    "    \"En:ro\" : \"Roumanie\",\n",
    "    \"En:kazakhstan\" : \"Kazakhstan\",\n",
    "    \"En:kaz\" : \"Kazakhstan\",\n",
    "    \"En:kz\" : \"Kazakhstan\",\n",
    "    \"En:ge\" : \"Géorgie\",\n",
    "    \"Georgia\" : \"Géorgie\",\n",
    "    \"Argentina\" : \"Argentine\",\n",
    "    \"En:ar\" : \"Argentine\",\n",
    "    \"En:bahrain\" : \"Bahreïn\",\n",
    "    \"Japan\" : \"Japon\",\n",
    "    \"En:aruba\" : \"Aruba\",\n",
    "    \"Україна\" : \"Ukraine\",\n",
    "    \"En:sx\" : \"Saint-Marin\",\n",
    "    \"ประเทศสเปน\" : \"Espagne\",\n",
    "    \"Франция\" : \"France\",\n",
    "    \"En:tn\" : \"Tunisie\",\n",
    "    \"Tunisia\" : \"Tunisie\",\n",
    "    \"En:lc\" : \"Sainte-Lucie\",\n",
    "    \"Saint-Pierre-et-Miquelon\" : \"France\",\n",
    "    \"Saint Pierre et Miquelon\" : \"France\",\n",
    "    \"Royaume_Uni\" : \"Royaume-Uni\",\n",
    "    \"En:kuwait\" : \"Koweit\",\n",
    "    \"Saint martin\" : \"Saint-Martin\",\n",
    "    \"加拿大\" : \"Canada\",\n",
    "    \"Kanada\" : \"Canada\",\n",
    "    \"Österreich\" : \"Autriche\",\n",
    "    \"En:cz\" : \"République Tchèque\",\n",
    "    \"Saint Pierre and miquelon\" : \"France\",\n",
    "    \"Meksico\" : \"Mexique\",\n",
    "    \"كندا\" : \"Canada\",\n",
    "    \"Canadá\" : \"Canada\",\n",
    "    \"Канада\" : \"Canada\",\n",
    "    \"En:gn\" : \"Guinée\",\n",
    "    \"Sierra leone\" : \"Sierra Leone\",\n",
    "    \"États-unis\" : \"Etats-Unis\",\n",
    "    \"En:ua\" : \"Ukraine\",\n",
    "    \"En:ci\" : \"Cote d'Ivoire\",\n",
    "    \"En:la\" : \"Laos\",\n",
    "    \"En:cd\" : \"République du Congo\",\n",
    "    \"Ecuador\" : \"Equateur\",\n",
    "    \"Mexiko\" : \"Mexique\",\n",
    "    \"Espanya\" : \"Espagne\",\n",
    "    \"România\" : \"Roumanie\",\n",
    "    \"En:gg\": \"Guernesey\",\n",
    "    \"En:bh\": \"Bahreïn\",\n",
    "    \"En:is\": \"Islande\",\n",
    "    \"フィンランド\" : \"Finlande\",\n",
    "    \"Czech republic\" : \"République Tchèque\",\n",
    "    \"Hungary\" : \"Hongrie\",\n",
    "    \"En:peru\" : \"Pérou\",\n",
    "    \"En:uruguay\" : \"Uruguay\",\n",
    "    \"England\" : \"Royaume-Uni\",\n",
    "    \"En:se\" : \"Suède\",\n",
    "    \"En:ph\" : \"Philippines\",\n",
    "    \"Turkey\" : \"Turquie\",\n",
    "    \"En:il\" : \"Israël\",\n",
    "    \"Ungaria\" : \"Hongrie\",\n",
    "    \"En:iran\" : \"Iran\",\n",
    "    \"En:northern mariana islands\" : \"Îles Mariannes du Nord\",\n",
    "    \"En:guatemala\" : \"Guatemala\",\n",
    "    \"En:pe\" : \"Pérou\",\n",
    "    \"En:cg\" : \"République du Congo\",\n",
    "    \"European Union\" : \"Union européenne\",\n",
    "    \"Hongkong\" : \"Hong Kong\",\n",
    "    \"الأردن\" : \"Jordanie\",\n",
    "    \"Србија\" : \"Serbie\",\n",
    "    \"En:eg\" : \"Egypte\",\n",
    "    \"Egypt\" : \"Egypte\",\n",
    "    \"Indonesia\" : \"Indonésie\",\n",
    "    \"Cambodia\" : \"Cambodge\",\n",
    "    \"En:brunei\" : \"Brunei\",\n",
    "    \"En:ec\" : \"Equateur\",\n",
    "    \"En:no\" : \"Norvège\",\n",
    "    \"En:grenada\" : \"Grenade\",\n",
    "    \"En:zm\" : \"Zambie\",\n",
    "    \"Albania\" : \"Albanie\",\n",
    "    \"Iceland\" : \"Islande\",\n",
    "    \"En:kh\" : \"Cambodge\",\n",
    "    \"Бельгія\" : \"Belgique\",\n",
    "    \"Portugal\" : \"Portugal\",\n",
    "    \"En:gr\" : \"Grèce\",\n",
    "    \"Algeria\" : \"Algérie\",\n",
    "    \"En:sudan\" : \"Soudan\",\n",
    "    \"En:ss\" : \"Soudan du Sud\",\n",
    "    \"En:bj\" : \"Bénin\",\n",
    "    \"Dinamarca\" : \"Danemark\",\n",
    "    \"En:mt\" : \"Malte\",\n",
    "    \"En:br\" : \"Brésil\",\n",
    "    \"En:md\" : \"\",\n",
    "    \"Greece\" : \"Grèce\",\n",
    "    \"En:azerbaijan\" : \"Azerbaidjan\" ,\n",
    "    \"En:fi\" : \"Fidji\",\n",
    "    \"En:vn\" : \"Vietnam\",\n",
    "    \"Ελλάδα\" : \"Grèce\",\n",
    "    'Peru' : \"Pérou\",\n",
    "    \"Sri lanka\" : \"Sri Lanka\",\n",
    "    'En:kyrgyzstan' : \"Kyrgyzstan\",\n",
    "    'En:rs' : \"Sénégal\",\n",
    "    'Unión europea' : \"Union Européenne\",\n",
    "    \"ישראל\" : \"Gabon\",\n",
    "    \"jp\" : \"Japon\",\n",
    "    \"en:sa\" : \"Arabie Saoudite\",\n",
    "    \"za\" : \"Afrique du Sud\",\n",
    "    \"Bélgica\" : \"Belgique\",\n",
    "    \"Fi\" : \"Finlande\",\n",
    "    'Cameroon' : \"Cameroun\",\n",
    "    \"Messico\" : \"Mexique\",\n",
    "    'En:nicaragua' : \"Nicaragua\",\n",
    "    'En:kn' : \"Saint-Kitts-et-Nevis\",\n",
    "    'En:id' : \"Indonésie\",\n",
    "    'En:ne' : \"Niger\",\n",
    "    'En:bg' : \"Bulgarie\",\n",
    "    \"تونس\" : \"Tunisie\",\n",
    "    \"Kw\" : \"Koweit\",\n",
    "    \"Sa\" : \"Arabie Saoudite\",\n",
    "    \"En:mr\" : \"Mauritanie\",\n",
    "    \"En:tr\" : \"Turquie\",\n",
    "    \"Bb\" : \"Barbades\",\n",
    "    \"Ue\" : \"Union Européenne\",\n",
    "    \"En:rwanda\" : \"Rwanda\",\n",
    "    \"En:np\" : \"Népal\",\n",
    "    \"Fi\" : \"Finlande\",\n",
    "    \"Ru\" : \"Russie\",\n",
    "    \"الجزائر\" : \"Algérie\",\n",
    "    \"Autriche\" : \"Autriche\",\n",
    "    \"Hellas\" : \"Grèce\",\n",
    "    \"en:km\" : \"Comores\",\n",
    "    \"no\" : \"Norvège\",\n",
    "    \"en:bd\" : \"Bangladesh\",\n",
    "    \"Nepal\" : \"Népal\",\n",
    "    \"لبنان\" : \"Liban\",\n",
    "    \"Kowait\" : \"Koweit\",\n",
    "    \"en:ethyopia\" : \"Ethiopie\",\n",
    "    \"Coronaponpis\" : \"Espagne\",\n",
    "    \"Angleterre\" : \"Royaume-Uni\",\n",
    "    \"Italien\" : \"Italie\",\n",
    "    \"Alemania\" : \"Allemagne\",\n",
    "    \"En:gabon\" : \"Gabon\",\n",
    "    \"البرتغال\" : \"Portugal\",\n",
    "    \"Slovénie\" : \"Slovénie\",\n",
    "    \"Hong-Kong\" : \"Hong Kong\",\n",
    "    \"En:angola\" : \"Angola\",\n",
    "    \"Lietuva\" : \"Lituanie\",\n",
    "    \"En:guam\" : \"Guam\",\n",
    "    \"En:tg\" : \"Togo\"\n",
    "}"
   ]
  },
  {
   "cell_type": "code",
   "execution_count": 45,
   "id": "2532afec-cf20-439e-a262-2b47a66b15cc",
   "metadata": {},
   "outputs": [],
   "source": [
    "# Modification des chaînes de caractères en lien avec les pays\n",
    "# Ce choix a été fait car nous aurons besoin des noms de pays pour notre application\n",
    "for key, value in countries_translate.items():\n",
    "    df_clean_median[\"countries\"].loc[df_clean_median[\"countries\"].str.contains(key, case=False, regex=False)] = value"
   ]
  },
  {
   "cell_type": "code",
   "execution_count": 46,
   "id": "547c5348-31c5-4acd-b5ed-131ca2ab4b5f",
   "metadata": {},
   "outputs": [
    {
     "data": {
      "text/plain": [
       "<AxesSubplot:>"
      ]
     },
     "execution_count": 46,
     "metadata": {},
     "output_type": "execute_result"
    },
    {
     "data": {
      "image/png": "[encoded data removed]",
      "text/plain": [
       "<Figure size 1800x720 with 2 Axes>"
      ]
     },
     "metadata": {
      "needs_background": "light"
     },
     "output_type": "display_data"
    }
   ],
   "source": [
    "msno.matrix(df_clean_median)"
   ]
  },
  {
   "cell_type": "code",
   "execution_count": 47,
   "id": "573efef3-8776-46c4-b650-41ff597c4226",
   "metadata": {},
   "outputs": [
    {
     "data": {
      "text/plain": [
       "(1751837, 34)"
      ]
     },
     "execution_count": 47,
     "metadata": {},
     "output_type": "execute_result"
    }
   ],
   "source": [
    "df_clean_median.shape"
   ]
  },
  {
   "cell_type": "code",
   "execution_count": 48,
   "id": "fc8ca3b3-bd61-4873-8f11-7426165c0883",
   "metadata": {},
   "outputs": [],
   "source": [
    "df_clean_median.to_csv(\"datasets/openfoodfacts_clean_median.csv\", index=False)"
   ]
  },
  {
   "cell_type": "markdown",
   "id": "4a6aab8b-2fce-4538-8e80-77b4a5ab32c7",
   "metadata": {},
   "source": [
    "Ce jeu de données contient plus de données et peu de données manquantes. On utilisera donc celui-ci pour la suite de notre analyse. "
   ]
  },
  {
   "cell_type": "markdown",
   "id": "411fa7c1-9a3e-4db5-be02-46dc967ffd33",
   "metadata": {},
   "source": [
    "### C) Fichier en l'état sans nettoyer enlever les valeurs manquantes"
   ]
  },
  {
   "cell_type": "code",
   "execution_count": null,
   "id": "bc99e461-7c57-4576-9eac-0f2504284629",
   "metadata": {},
   "outputs": [],
   "source": [
    "df_clean = df.copy()"
   ]
  },
  {
   "cell_type": "code",
   "execution_count": null,
   "id": "f1e03e77-ef4f-4ae9-8955-7c0bd97690c5",
   "metadata": {},
   "outputs": [],
   "source": [
    "msno.matrix(df_clean)"
   ]
  },
  {
   "cell_type": "code",
   "execution_count": null,
   "id": "ab2d77a0-cf53-4cbc-b664-1baa031da9eb",
   "metadata": {},
   "outputs": [],
   "source": [
    "df_clean.shape"
   ]
  },
  {
   "cell_type": "code",
   "execution_count": null,
   "id": "0d5c15b1-94a0-496e-a440-46e749641772",
   "metadata": {},
   "outputs": [],
   "source": [
    "df_clean.to_csv(\"datasets/openfoodfacts_clean_data.csv\", index=False)"
   ]
  }
 ],
 "metadata": {
  "kernelspec": {
   "display_name": "Python 3",
   "language": "python",
   "name": "python3"
  },
  "language_info": {
   "codemirror_mode": {
    "name": "ipython",
    "version": 3
   },
   "file_extension": ".py",
   "mimetype": "text/x-python",
   "name": "python",
   "nbconvert_exporter": "python",
   "pygments_lexer": "ipython3",
   "version": "3.8.10"
  },
  "toc-autonumbering": false,
  "toc-showcode": false,
  "toc-showmarkdowntxt": false,
  "toc-showtags": false
 },
 "nbformat": 4,
 "nbformat_minor": 5
}
