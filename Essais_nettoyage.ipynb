{
 "cells": [
  {
   "cell_type": "code",
   "execution_count": null,
   "id": "2a1fb5b1-b1de-4b26-b0c1-3c47c28b99f9",
   "metadata": {},
   "outputs": [],
   "source": [
    "outliers = {}\n",
    "\n",
    "for var in df.columns:\n",
    "    if df[var].dtypes == 'float64':\n",
    "        outliers[var] = df[var].max()\n",
    "        \n",
    "print(outliers)"
   ]
  },
  {
   "cell_type": "code",
   "execution_count": null,
   "id": "4ba3b986-4a85-4cb6-9712-c3074d5b2c81",
   "metadata": {},
   "outputs": [],
   "source": [
    "index_outliers = []\n",
    "\n",
    "for k, v in outliers.keys() and outliers.items(): \n",
    "    a = df.loc[df[k] == v]\n",
    "    index_outliers.append(a.index)\n",
    "    \n",
    "for i in index_outliers:\n",
    "    print(i)"
   ]
  },
  {
   "cell_type": "code",
   "execution_count": null,
   "id": "7cc73145-f88d-4803-b313-1b24bf309a30",
   "metadata": {},
   "outputs": [],
   "source": [
    "del index_outliers[-1]\n",
    "del index_outliers[-1]\n",
    "del index_outliers[0]"
   ]
  },
  {
   "cell_type": "code",
   "execution_count": null,
   "id": "1f0e0b89-2e9a-4c38-9d57-05f791f7466e",
   "metadata": {},
   "outputs": [],
   "source": [
    "drop_index = ['13726', '7941', '4632', '26516', '6901']"
   ]
  },
  {
   "cell_type": "code",
   "execution_count": null,
   "id": "0bcf8089-a7a0-4a88-8b93-61113cafa92d",
   "metadata": {},
   "outputs": [],
   "source": [
    "df.drop(df.index[drop_index], inplace=True)\n",
    "df.head()"
   ]
  },
  {
   "cell_type": "code",
   "execution_count": null,
   "id": "1c387b85-1238-4d53-a064-c1fec36bacc6",
   "metadata": {},
   "outputs": [],
   "source": [
    "for var in df.columns:\n",
    "    if df[var].dtypes == 'float64':\n",
    "        sns.boxplot(x=var, data=df)\n",
    "        plt.title(var)\n",
    "        plt.show()"
   ]
  },
  {
   "cell_type": "code",
   "execution_count": null,
   "id": "43204d14-a029-4ba5-923d-292bc4b5cee0",
   "metadata": {},
   "outputs": [],
   "source": [
    "outliers = {}\n",
    "\n",
    "for var in df.columns:\n",
    "    if df[var].dtypes == 'float64':\n",
    "        outliers[var] = df[var].max()\n",
    "        \n",
    "print(outliers)"
   ]
  },
  {
   "cell_type": "code",
   "execution_count": null,
   "id": "46c9e22e-8ad6-4123-b51f-7689e1396996",
   "metadata": {},
   "outputs": [],
   "source": [
    "index_outliers = []\n",
    "\n",
    "for k, v in outliers.keys() and outliers.items(): \n",
    "    a = df.loc[df[k] == v]\n",
    "    index_outliers.append(a.index)\n",
    "    \n",
    "for i in index_outliers:\n",
    "    print(i)"
   ]
  }
 ],
 "metadata": {
  "kernelspec": {
   "display_name": "Python 3",
   "language": "python",
   "name": "python3"
  },
  "language_info": {
   "codemirror_mode": {
    "name": "ipython",
    "version": 3
   },
   "file_extension": ".py",
   "mimetype": "text/x-python",
   "name": "python",
   "nbconvert_exporter": "python",
   "pygments_lexer": "ipython3",
   "version": "3.8.10"
  }
 },
 "nbformat": 4,
 "nbformat_minor": 5
}
